{
 "cells": [
  {
   "cell_type": "markdown",
   "metadata": {},
   "source": [
    "# Base model with Bidirectional Encoder Representations from Transformers (BERT)"
   ]
  },
  {
   "cell_type": "code",
   "execution_count": 1,
   "metadata": {},
   "outputs": [
    {
     "name": "stderr",
     "output_type": "stream",
     "text": [
      "2024-10-23 15:15:24.474018: I tensorflow/core/platform/cpu_feature_guard.cc:182] This TensorFlow binary is optimized to use available CPU instructions in performance-critical operations.\n",
      "To enable the following instructions: SSE4.1 SSE4.2, in other operations, rebuild TensorFlow with the appropriate compiler flags.\n"
     ]
    }
   ],
   "source": [
    "import json\n",
    "import numpy as np\n",
    "import pandas as pd\n",
    "import matplotlib.pyplot as plt\n",
    "import random\n",
    "import seaborn as sns\n",
    "from wordcloud import WordCloud,STOPWORDS\n",
    "import missingno as msno\n",
    "from sklearn.feature_extraction.text import CountVectorizer\n",
    "from sklearn.model_selection import train_test_split\n",
    "from sklearn.metrics import accuracy_score, precision_recall_fscore_support\n",
    "from keras.preprocessing import text\n",
    "import keras\n",
    "from keras.models import Sequential\n",
    "from keras.layers import Dense,Embedding,LSTM,Dropout\n",
    "from keras.callbacks import ReduceLROnPlateau\n",
    "from tensorflow.keras.preprocessing.sequence import pad_sequences\n",
    "import nltk\n",
    "from nltk import word_tokenize\n",
    "from nltk.stem import PorterStemmer\n",
    "import torch\n",
    "from torch.utils.data import Dataset\n",
    "from transformers import BertTokenizer,BertTokenizerFast, BertForSequenceClassification\n",
    "from transformers import TrainingArguments, Trainer, pipeline\n"
   ]
  },
  {
   "cell_type": "markdown",
   "metadata": {},
   "source": [
    "## Prepare Dataset"
   ]
  },
  {
   "cell_type": "markdown",
   "metadata": {},
   "source": [
    "Load JSON file"
   ]
  },
  {
   "cell_type": "code",
   "execution_count": 2,
   "metadata": {},
   "outputs": [
    {
     "name": "stdout",
     "output_type": "stream",
     "text": [
      "{'intents': [{'tag': 'greeting', 'patterns': ['Hi', 'Hey', 'Is anyone there?', 'Hello', 'Hey there', 'hello there'], 'responses': ['Hello How may I help You?', 'Hi,How can I help You?', 'Hi there,What Can I do for You Today?'], 'context_set': ''}, {'tag': 'goodbye', 'patterns': ['Bye', 'See you later', 'Goodbye'], 'responses': ['See you later', 'Have a nice day', 'Bye! Come back again'], 'context_set': ''}, {'tag': 'thanks', 'patterns': ['Thanks', 'Thank you', \"That's helpful\", 'Thanks for the help'], 'responses': ['Happy to help!', 'Any time!', 'My pleasure', \"You're most welcome!\"], 'context_set': ''}, {'tag': 'about', 'patterns': ['Who are you?', 'What are you?', 'Who you are?'], 'responses': [\"I'm MMCOE's intelligent bot assistant, here to assist you!\"], 'context_set': ''}, {'tag': 'name', 'patterns': ['what is your name', 'what should I call you', 'whats your name?'], 'responses': ['A bot has no name. But I have a purpose, and that is to help you. How can I help you?'], 'context_set': ''}, {'tag': 'complaint', 'patterns': ['I have a complaint.', 'I want to raise an issue.', 'I am facing an inconvenience.', 'I want to report a problem.'], 'responses': [\"Please contact us and let us know your issue. We're more than happy to help you out! Ph.:(020) 25479811, 25479812, 7720097780, 7720097781, 7720097782 . Extn Nos.:202,204, 206\"], 'context_set': ''}, {'tag': 'contact', 'patterns': ['How do I contact you?', 'helpline numbers', 'What are your contact details?', 'How do I reach you?', 'WHat are your sources of cotact in case of need?'], 'responses': [\"Contact us on Ph.:(020) 25479811, 25479812, 7720097780, 7720097781, 7720097782 . Extn Nos.:202,204, 206 ,or mail us at mmcoe@mmcoe.edu.in, principal@mmcoe.edu.in . We're open Monday through Saturday from 10am to 5pm. \"], 'context_set': ''}, {'tag': 'social connect', 'patterns': ['Does the college have any social media connect?', 'Are there any other sources how we can get to know the college better?', 'Does the college have an active social media account?', 'How can we connect with the college socially?'], 'responses': ['We operate on active handles on Instagram, Facebook, LinkedIn and Youtube. Please feel free to check us on https://instagram.com/mmcoepune?utm_medium=copy_link, https://mmcoe.edu.in/index.php, https://www.linkedin.com/school/mmcoe/, https://www.youtube.com/channel/UC4ZIkZoKmyoKDNypTSM-Eqw'], 'context_set': ''}, {'tag': 'working-hours', 'patterns': ['When would the college be reachable for the public?', 'What are the working hours of the college?', 'When can we reach out to the college?', 'When can we visit the college?'], 'responses': ['In the pandemic, according to protocols, we have restricted the visiting hours. At usual times, the college is functional from 10am to 5pm on workdays from Monday to Saturday. But during the pandemic, please free to call us on our helpline numbers!'], 'context_set': ''}, {'tag': 'location', 'patterns': ['Where is the college exactly located?', 'What is the location of the college?', 'Where is the college situated?', 'How can we access the college?'], 'responses': ['Address: Survey No. 18, Plot No. 5/3, Near Vandevi Temple, Karvenagar, Pune 411052. Click on the link to access the Google Map location https://goo.gl/maps/EQtjeZjJyP13BFS6A'], 'context_set': ''}, {'tag': 'why-choose-mmcoe', 'patterns': ['Why should we choose MMCOE?', 'What are the speciality traits of MMCOE?', 'Why should we prefer this college over any other college?'], 'responses': ['Student Centric System: Professional Skills develop ment through student centric activities and competitions. Industry Institute Interaction: Main objective is to establish and maintain relationship with corporate world through MoUs, center of excellence, sponsored projects, industrial visits and in-plant trainings for students and faculty members. Strong Corporate Relations Division (CRD) Cell: Objective of CRD is to train students in aptitude, soft skills & technical knowl edge through structured trainings.'], 'context_set': ''}, {'tag': 'what-we-offer', 'patterns': ['What courses does the college offer?', 'What are the choosable streams in this college?', 'What are the offered courses in this college?', 'What courses can I opt for?'], 'responses': ['We offer Computer Engineering, Electronics and Telecommunication Engineering, Mechanical Engineering, Electrical Engineering, Information Technology Engineering, and Masters courses.'], 'context_set': ''}, {'tag': 'admission-enquiry', 'patterns': ['Which website  should I refer for admission process?', ' Where should I apply for admission process?', 'For admission process which website should I visit?', 'Will you please give the link for the website for admission process?', 'How should I apply for admission process?'], 'responses': ['For admission process refer https://fe2020.mahacet.org/StaticPages/HomePage']}, {'tag': 'admission-after-allotment', 'patterns': ['What after CAP round 1 allotment?', 'What after CAP Round 1?', 'What is the admission Process After Allotment of the college?', 'Can you help me with the admission procedure after the allotment of the college?', 'What is admission Procedure after Allotment?', 'Could you please tell me the process for admission after Allotment?', 'What are the steps for taking admission in first year?'], 'responses': ['Refer this video for complete procedure regarding Admission After Allotment :- https://www.youtube.com/watch?v=FhWNcONI53s']}, {'tag': 'admission_in_charge_FE', 'patterns': ['Who is the admission in charge FE ?', 'Please provide the contact details of FE admission in charge', 'Fe admission in charge contact details?', 'Whom should we contact to know about FE admission.'], 'responses': ['To get answers to FAQs about general process of admission Contact respective incharge Click on the link given for the Contact Details for the Same FE Engineering:- https://www.mmcoe.edu.in/index.php/admissions/admission-enquiry-cell/first-year-engineering ', 'To know about respective Admission Incharge and get answers to other Admission Related Queries Contact to respective incharge :-Contact details are available on :-https://www.mmcoe.edu.in/index.php/admissions/admission-enquiry-cell/first-year-engineering']}, {'tag': 'admission_in_charge_DSE', 'patterns': ['Who is the admission in charge DSE ?', 'Please provide the contact details of DSE admission in charge', 'DSE admission in charge contact details?', 'Whom should we contact to know about DsE admission.'], 'responses': ['To get answers to FAQs about general process of admission Contact respective incharge Click on the link given for the Contact Details for the Same DSE Engineering:-https://www.mmcoe.edu.in/index.php/admissions/admission-enquiry-cell/direct-second-year-engineering']}, {'tag': 'admission_in_charge_ME_MBA', 'patterns': ['Who is the admission in charge MBA ?', 'Please provide the contact details of MBA admission in charge', 'MBA admission in charge contact details?', 'Whom should we contact to know about MBA admission.'], 'responses': ['To get answers to FAQs about general process of admission Contact respective incharge Click on the link given for the Contact Details for the Same FE Engineering:-https://www.mmcoe.edu.in/index.php/admissions/admission-enquiry-cell/me-mba', 'To know about respective Admission Incharge and get answers to other Admission Related Queries Contact to respective incharge :-Contact details are available on :-https://www.mmcoe.edu.in/index.php/admissions/admission-enquiry-cell/me-mba']}, {'tag': 'Computer-Intake', 'patterns': ['what is the intake for computer department?', 'what is the intake for computer branch?', 'will you please let us know the intake for computer department', 'What is the total number of students in computer department?', 'what is total strength  of students enrolled for computer science branch?', 'how many seats are available for enrolling in computer branch?', 'How many seats are there for getting admission into computer branch?', 'what is the total number of seats for computer science branch?', 'How many students are allotted computer branch?', 'what is the intake for computer science department?'], 'responses': ['Intake for computer engineering is 120 seats']}, {'tag': 'IT-Intake', 'patterns': ['what is the intake for IT department?', 'what is the intake for IT branch?', 'will you please let us know the intake for IT department', 'What is the total number of students in IT department?', 'what is total strength  of students enrolled for IT science branch?', 'how many seats are available for enrolling in IT branch?', 'How many seats are there for getting admission into IT branch?', 'what is the total number of seats for IT science branch?', 'How many students are allotted IT branch?', 'what is the intake for IT science department?'], 'responses': ['Intake for IT department is 60 seats']}, {'tag': 'Mechanical-Intake', 'patterns': ['what is the intake for Mechanical department?', 'what is the intake for Mechanical branch?', 'will you please let us know the intake for Mechanical department', 'What is the total number of students in Mechanical department?', 'what is total strength  of students enrolled for Mechanical science branch?', 'how many seats are available for enrolling in Mechanical branch?', 'How many seats are there for getting admission into Mechanical branch?', 'what is the total number of seats for Mechanical science branch?', 'How many students are allotted Mechanical branch?', 'what is the intake for Mechanical science department?'], 'responses': ['Intake for Mechanical department is 180 seats']}, {'tag': 'ENTC-Intake', 'patterns': ['what is the intake for ENTC department?', 'what is the intake for ENTC branch?', 'will you please let us know the intake for ENTC department', 'What is the total number of students in ENTC department?', 'what is total strength  of students enrolled for ENTC science branch?', 'how many seats are available for enrolling in ENTC branch?', 'How many seats are there for getting admission into ENTC branch?', 'what is the total number of seats for ENTC science branch?', 'How many students are allotted ENTC branch?', 'what is the intake for ENTC science department?'], 'responses': ['Intake for ENTC department is 120 seats']}, {'tag': 'Electrical-Intake', 'patterns': ['what is the intake for Electrical department?', 'what is the intake for Electrical branch?', 'will you please let us know the intake for Electrical department', 'What is the total number of students in Electrical department?', 'what is total strength  of students enrolled for Electrical science branch?', 'how many seats are available for enrolling in Electrical branch?', 'How many seats are there for getting admission into Electrical branch?', 'what is the total number of seats for Electrical science branch?', 'How many students are allotted Electrical branch?', 'what is the intake for Electrical science department?'], 'responses': ['Intake for Electrical department is 60 seats']}, {'tag': 'DSE-computer-Intake', 'patterns': ['what is the intake for DSE-computer department?', 'what is the intake for DSE-computer branch?', 'will you please let us know the intake for DSE-computer department', 'What is the total number of students in DSE-computer department?', 'what is total strength  of students enrolled for DSE-computer science branch?', 'how many seats are available for enrolling in DSE-computer branch?', 'How many seats are there for getting admission into DSE-computer branch?', 'what is the total number of seats for DSE-computer science branch?', 'How many students are allotted DSE-computer branch?', 'what is the intake for DSE-computer science department?'], 'responses': ['Intake for DSE computer  department is 12 seats']}, {'tag': 'DSE-IT-Intake', 'patterns': ['what is the intake for DSE-IT department?', 'what is the intake for DSE-IT branch?', 'will you please let us know the intake for DSE-IT department', 'What is the total number of students in DSE-IT department?', 'what is total strength  of students enrolled for DSE-IT science branch?', 'how many seats are available for enrolling in DSE-IT branch?', 'How many seats are there for getting admission into DSE-IT branch?', 'what is the total number of seats for DSE-IT science branch?', 'How many students are allotted DSE-IT branch?', 'what is the intake for DSE-IT science department?'], 'responses': ['Intake for DSE IT  department is 6 seats']}, {'tag': 'DSE-Mechanical-Intake', 'patterns': ['what is the intake for DSE-Mechanical department?', 'what is the intake for DSE-Mechanical branch?', 'will you please let us know the intake for DSE-Mechanical department', 'What is the total number of students in DSE-Mechanical department?', 'what is total strength  of students enrolled for DSE-Mechanical science branch?', 'how many seats are available for enrolling in DSE-Mechanical branch?', 'How many seats are there for getting admission into DSE-Mechanical branch?', 'what is the total number of seats for DSE-Mechanical science branch?', 'How many students are allotted DSE-Mechanical branch?', 'what is the intake for DSE-Mechanical science department?'], 'responses': ['Intake for Mechanical Department is:- First Shift:12 seats second shift :- 6 seats']}, {'tag': 'DSE-ENTC-Intake', 'patterns': ['what is the intake for DSE-ENTC department?', 'what is the intake for DSE-ENTC branch?', 'will you please let us know the intake for DSE-ENTC department', 'What is the total number of students in DSE-ENTC department?', 'what is total strength  of students enrolled for DSE-ENTC science branch?', 'how many seats are available for enrolling in DSE-ENTC branch?', 'How many seats are there for getting admission into DSE-ENTC branch?', 'what is the total number of seats for DSE-ENTC science branch?', 'How many students are allotted DSE-ENTC branch?', 'what is the intake for DSE-ENTC science department?'], 'responses': ['Intake for DSE ENTC  department is 12 seats']}, {'tag': 'DSE-Electrical-Intake', 'patterns': ['what is the intake for DSE-Electrical department?', 'what is the intake for DSE-Electrical branch?', 'will you please let us know the intake for DSE-Electrical department', 'What is the total number of students in DSE-Electrical department?', 'what is total strength  of students enrolled for DSE-Electrical science branch?', 'how many seats are available for enrolling in DSE-Electrical branch?', 'How many seats are there for getting admission into DSE-Electrical branch?', 'what is the total number of seats for DSE-Electrical science branch?', 'How many students are allotted DSE-Electrical branch?', 'what is the intake for DSE-Electrical science department?'], 'responses': ['Intake for DSE IT  department is 6 seats']}, {'tag': 'ME-Intake', 'patterns': ['what is the intake for DSE-ENTC department?', 'what is the intake for ME branch?', 'will you please let us know the intake for ME department', 'What is the total number of students in ME department?', 'what is total strength  of students enrolled for ME science branch?', 'how many seats are available for enrolling in ME branch?', 'How many seats are there for getting admission into ME branch?', 'what is the total number of seats for ME science branch?', 'How many students are allotted ME branch?', 'what is the intake for ME science department?'], 'responses': ['Refer the following link to know about Intake of ME:- https://www.mmcoe.edu.in/index.php/admissions/admission-enquiry-cell/me-mba']}, {'tag': 'MBA-Intake', 'patterns': ['what is the intake for DSE-ENTC department?', 'what is the intake for MBA branch?', 'will you please let us know the intake for MBA department', 'What is the total number of students in MBA department?', 'what is total strength  of students enrolled for MBA science branch?', 'how many seats are available for enrolling in MBA branch?', 'How many seats are there for getting admission into MBA branch?', 'what is the total number of seats for MBA science branch?', 'How many students are allotted MBA branch?', 'what is the intake for MBA science department?'], 'responses': ['Refer the following link to know about Intake of MBA:- https://www.mmcoe.edu.in/index.php/admissions/admission-enquiry-cell/me-mba']}, {'tag': 'FE-Eligibility', 'patterns': ['what is the eligibility criteria for taking admission to first year of engineering?', 'how much we need to score to get admission for engineering ?', 'what are minimum eligibility requirements for taking admission to engineering first year?', 'how many minimum percentage  are required in 12th boards examination for getting admission in college ?', 'what is the eligibility for engineering admission?', 'how many total percentage should I get in pcm to get admission into engineering college?', 'What are the minimum PCM marks for getting admission to engineering college?', 'please let me know the eligibility criteria for admission into engineering?', 'How many PCM marks are required for getting admission into FE?', 'How many marks are required to get admission to engineering?', 'Is PCM in 12th compulsory for admission to First Year engineering? What are the eligibility criteria?'], 'responses': ['For Eligibility criteria refer :- https://www.mmcoe.edu.in/index.php/admissions/eligibility/eligibility-fy-engineering', 'Click on this link to know about eligibility criteria required for Engineering Admission https://www.mmcoe.edu.in/index.php/admissions/eligibility/eligibility-fy-engineering']}, {'tag': 'DSE-Eligibility', 'patterns': ['what is the eligibility criteria for taking admission to direct second year of engineering?', 'what is the eligibility criteria for taking admission to direct second year of Computer  engineering?', 'what is the eligibility criteria for taking admission to direct second year of Electrical  engineering?', 'what is the eligibility criteria for taking admission to direct second year of Mechanical  engineering?', 'what is the eligibility criteria for taking admission to direct second year of  ENTC engineering?', 'what is the eligibility criteria for taking admission to direct second year of  IT engineering?', 'how much we need to score to get admission to direct second year of engineering ?', 'what are minimum eligibility requirements for taking admission to engineering direct second year?', 'will you please let me know the eligibility criterion for admission into direct second year of computer  engineering?', 'will you please let me know the eligibility criterion for admission into direct second year of Mechanical engineering?', 'will you please let me know the eligibility criterion for admission into direct second year of Electrical engineering?', 'will you please let me know the eligibility criterion for admission into direct second year of ENTC engineering?', 'will you please let me know the eligibility criterion for admission into direct second year of IT engineering?'], 'responses': ['For Eligibility criteria refer :- https://www.mmcoe.edu.in/index.php/admissions/eligibility/dse-eligibility', 'Click on this link to know about eligibility criteria required for Direct Second Year of  Engineering Admission https://www.mmcoe.edu.in/index.php/admissions/eligibility/dse-eligibility']}, {'tag': 'ME-Eligibility', 'patterns': ['what is the eligibility criteria for taking admission to ME?', 'will you please let me know the eligibility criterion for admission into ME?', 'what are minimum eligibility requirements for taking admission to ME?'], 'responses': ['For Eligibility criteria refer :- https://www.mmcoe.edu.in/index.php/admissions/eligibility/eligibility-me', 'Click on this link to know about eligibility criteria required for ME Admission https://www.mmcoe.edu.in/index.php/admissions/eligibility/eligibility-me']}, {'tag': 'MBA-Eligibility', 'patterns': ['what is the eligibility criteria for taking admission to MBA?', 'please let me know the eligibility criteria for admission into MBA?', 'what are minimum eligibility requirements for taking admission to MBA?'], 'responses': ['For Eligibility criteria refer :- https://www.mmcoe.edu.in/index.php/admissions/eligibility/mba', 'Click on this link to know about eligibility criteria required for ME Admission https://www.mmcoe.edu.in/index.php/admissions/eligibility/mba']}, {'tag': 'Documents-FE', 'patterns': ['What documents are required for admission into an engineering college after 12th?', 'What documents are required for engineering admission?', 'What documents do i need to present for admission to an engineering college in Maharashtra?', 'What parental documents are required at the time of admission in college?', 'what documents are required for engineering admission after 12th science?', 'What documents are required for first year admission?', 'Give the list of documents for first year admission?', 'What all documents are necessary for first year engineering admission?', 'What all documents to bring for admission process of engineering?', 'Which documents are required for computer engineering admission?', 'Which documents are required for IT engineering admission?', 'Which documents are required for Mechanical engineering admission?', 'Which documents are required for Electrical engineering admission?', 'Which documents are required for ENTC engineering admission?', 'Which all documents are needed for first year engineering admission?', 'Do we need original copies of all documents for engineering admission?', 'How many Photocopies of all documents are needed for engineering admission?', 'What are the documents required for admission in an Engineering College?'], 'responses': ['DO Checkout this link for the list of documents needed for FE Admission Process https://www.mmcoe.edu.in/index.php/admissions/documents-req-admission/documents-req-fy-admission', 'List of Documents Needed For FE Admission Purpose are available on: https://www.mmcoe.edu.in/index.php/admissions/documents-req-admission/documents-req-fy-admission', 'Click on this link to checkout the list of documents needed for admission process. https://www.mmcoe.edu.in/index.php/admissions/documents-req-admission/documents-req-fy-admission', 'For all the information regarding documents head over to https://www.mmcoe.edu.in/index.php/admissions/documents-req-admission/documents-req-fy-admission this page and get the list of documents needed for FE admission Process.']}, {'tag': 'fee-payment-process', 'patterns': ['what is the process of fee payment?', 'How to pay fees?', 'what are the steps to pay fees ?', 'can you help me with fees payment?', 'How can we pay fees?', 'what are the steps for paying fees for current academic year?', 'Information about paying fees?'], 'responses': ['For all the information regarding Fees payment click on:- https://www.mmcoe.edu.in/index.php/admissions/fee-payment-process ']}, {'tag': 'Fe-FEES', 'patterns': ['what are the  total fees for FE?', 'what are the total fees for FE Computer?', 'what are the total fees for FE IT?', 'what are the total fees for FE Mechanical?', 'what are the total fees for FE Electrical?', 'what are the total fees for FE ENTC?', 'what is fee structure for First year?', 'Total fees for first year of Engineering?', 'what are total fees for first year admission?', 'What are the fees per year for FE? '], 'responses': ['Refer this Pdf for complete details of FEE Structure of first year engineering. https://www.mmcoe.edu.in/images/Office/FeePaymentProcess/FE_DSE_MBA_I_ME_I_FEES_DD_AMT_2020-21.pdf']}, {'tag': 'DSE-FEES', 'patterns': ['what is total fees for DSE?', 'what are the total fees for DSE Computer?', 'what are the total fees for DSE IT?', 'what are the total fees for DSE Mechanical?', 'what are the total fees for DSE Electrical?', 'what are the total fees for DSE ENTC?', 'what is fee structure for direct second year?', 'total fees for direct second year of Engineering?', 'what are total fees for direct second year admission?', 'What are the fees per year for DSE?'], 'responses': ['Refer this Pdf for complete details of FEE Structure of direct second year admissions. https://www.mmcoe.edu.in/images/Office/FeePaymentProcess/DSE_Fees_Structure_20-21.pdf ']}, {'tag': 'MBA-FEES', 'patterns': ['what is total fees for MBA?', 'what is fee structure for MBA?', 'total fees for MBA?', 'What are the fees per year for MBA? '], 'responses': ['Refer this Pdf for complete details of FEE Structure of MBA. https://www.mmcoe.edu.in/images/Office/FeePaymentProcess/MBA_Fes_Structure_20-21.pdf']}, {'tag': 'ME-FEES', 'patterns': ['what is total fees for ME?', 'what is fee structure for ME?', 'total fees for ME?', 'what are total fees for ME?', 'What are the fees per year for ME? '], 'responses': ['Refer this Pdf for complete details of FEE Structure of ME. https://www.mmcoe.edu.in/images/Office/FeePaymentProcess/ME_Fees_Structure_20-21.pdf ']}, {'tag': 'scholarships', 'patterns': ['What is the income limit for EBC scholarship? Who can avail it? ', 'I am from the OBC category but I do not have the related documents. Can I apply for EBC? '], 'responses': ['Information Regarding Scholarship is available on https://www.mmcoe.edu.in/index.php/admissions/scholarships']}, {'tag': 'Faculty-College-Computer', 'patterns': ['Tell me about the faculty of MMCOE', 'List of faculty in MMCOE', 'Names of the Faculty members present at MMCOE', 'Faculty of MMCOE', 'PhD faculty members of MMCOE', 'Teachers of MMCOE', 'Faculty of Computer Engennering', 'Faculty of comp', 'Faculty of Computer Branch', 'Computer Branch Faculty', 'Names of faculty members at computer branch'], 'responses': ['Refer to this page to get details about the faculty at MMCOE:-https://www.mmcoe.edu.in/index.php/about-us/about-marathwada-mitramandal', 'Refer to this Hyperlink to know more about Computer Branch Faculty at MMCOE:-https://www.mmcoe.edu.in/index.php/faculty/phd-faculty#computer-engineering'], 'context_set': ''}, {'tag': 'Faculty-College-IT', 'patterns': ['Faculty of IT Engineering', 'Faculty of IT', 'Faculty of IT Branch', 'Information Technology Branch Faculty', 'Names of faculty members at IT branch'], 'responses': ['Refer to this page to get details about the faculty at MMCOE:-https://www.mmcoe.edu.in/index.php/about-us/about-marathwada-mitramandal', 'Refer to this Hyperlink to know more about IT/Information Technology Branch Faculty at MMCOE:-https://www.mmcoe.edu.in/index.php/faculty/phd-faculty#information-technology'], 'context_set': ''}, {'tag': 'Faculty-College-Mechanical', 'patterns': ['Faculty of Mechanical Engineering', 'Faculty of Mech', 'Faculty of  Mechanical Branch', 'Mechanical Engineering Branch Faculty', 'Names of faculty members at Mechanical branch'], 'responses': ['Refer to this page to get details about the faculty at MMCOE:-https://www.mmcoe.edu.in/index.php/about-us/about-marathwada-mitramandal', 'Refer to this Hyperlink to know more about Mechanical Branch Faculty at MMCOE:-https://www.mmcoe.edu.in/index.php/faculty/phd-faculty#mechanical'], 'context_set': ''}, {'tag': 'Faculty-College-E&TC', 'patterns': ['Faculty of E&TC Engineering', 'Faculty of E&TC', 'Faculty of  E&TC Branch', 'E&TC Engineering Branch Faculty', 'Names of faculty members at E&TC branch'], 'responses': ['Refer to this page to get details about the faculty at MMCOE:-https://www.mmcoe.edu.in/index.php/about-us/about-marathwada-mitramandal', 'Refer to this Hyperlink to know more about E&TC Branch Faculty at MMCOE:-https://www.mmcoe.edu.in/index.php/faculty/phd-faculty#e-tc-engineering'], 'context_set': ''}, {'tag': 'Faculty-College-Electrical', 'patterns': ['Faculty of Electrical Engineering', 'Faculty of Electrical', 'Faculty of  Electrical Branch', 'Electrical Engineering Branch Faculty', 'Names of faculty members at Electrical branch'], 'responses': ['Refer to this page to get details about the faculty at MMCOE:-https://www.mmcoe.edu.in/index.php/about-us/about-marathwada-mitramandal', 'Refer to this Hyperlink to know more about Electrical Branch Faculty at MMCOE:-https://www.mmcoe.edu.in/index.php/faculty/phd-faculty#electrical-engineering'], 'context_set': ''}, {'tag': 'Faculty-College-MBA', 'patterns': ['Faculty of MBA Engineering', 'Faculty of MBA', 'Faculty of  MBA Branch', 'MBA Engineering Branch Faculty', 'Names of faculty members at MBA branch'], 'responses': ['Refer to this page to get details about the faculty at MMCOE:-https://www.mmcoe.edu.in/index.php/about-us/about-marathwada-mitramandal', 'Refer to this Hyperlink to know more about MBA Branch Faculty at MMCOE:-https://www.mmcoe.edu.in/index.php/faculty/phd-faculty#mba'], 'context_set': ''}, {'tag': 'Faculty-College-Engineering-Sciences', 'patterns': ['Faculty of Engineering-Sciences', 'Faculty of Engineering-Sciences', 'Faculty of  Engineering-Sciences Branch', 'Engineering-Sciences  Branch Faculty', 'Names of faculty members at Engineering-Sciences branch', 'Faculty of First-Year', 'Faculty of FE', 'FE Faculty', 'FY Faculty', 'First Year faculty', 'fe faculty', 'fy faculty'], 'responses': ['Refer to this page to get details about the faculty at MMCOE:-https://www.mmcoe.edu.in/index.php/about-us/about-marathwada-mitramandal', 'Refer to this Hyperlink to know more about Engineering-Sciences/FE/FY/FIRST-YEAR Branch Faculty at MMCOE:-https://www.mmcoe.edu.in/index.php/faculty/phd-faculty#engineering-sciences'], 'context_set': ''}, {'tag': 'Research-Projects', 'patterns': ['What Research projects are ongoing at MMCOE', 'What Research Projects is the Faculty perusing?', 'Research paper', 'Projects taken by faculty', 'What are the Projects taken by faculty', 'List of Reserach projects', 'Research Projects'], 'responses': ['Refer to this link for all the Research Projects at MMCOE:-https://www.mmcoe.edu.in/index.php/faculty/research-projects#computer-engineering'], 'context_set': ''}, {'tag': 'Student-projects', 'patterns': ['What Student projects are ongoing at MMCOE', 'What Student Projects is the Faculty perusing?', 'Student paper', 'Projects taken by faculty', 'What are the Projects taken by faculty', 'List of Student projects', 'Student Projects'], 'responses': ['Refer to this link for all the Student Projects at MMCOE:-https://www.mmcoe.edu.in/index.php/faculty/student-projects'], 'context_set': ''}, {'tag': 'About-MMCOE', 'patterns': ['Can you tell me about MMCOE', 'History of MMCOE', 'Information about MMCOE', 'What is MMCOE', 'Breif info about MMCOE', 'About MMCOE', 'Marathwada Mitra mandal', 'Tell me about Marathwada', 'What is the full form of MMCOE', 'Founder of MMCOE', 'Founder of mmcoe', 'Who was the first founder of mmcoe?', 'Founder of MMCOE'], 'responses': ['For information about MMCOE please refer this hyperlink:https://www.mmcoe.edu.in/index.php/about-us/about-mmcoe'], 'context_set': ''}, {'tag': 'About-Marathwada Mitramandal', 'patterns': ['Who is the founder of Marathwada Mitramandal', 'Marathwada Mitramandal founder', 'Who was the founder of Marathwada Mitramandal', 'About Marathwada Mitramandal', 'MISSION OF THE TRUST', 'Existing institutions managed by Marathwada Mitra Mandal, Pune are', 'Different branches of Marathwada Mitramandal', 'Information about marathwada mitramandal', 'What is marathwada mitramandal', 'What is Marathwada Mitramandal?'], 'responses': ['For all the information about Marathwada Mitrmanadl please follow this hyperlink:https://www.mmcoe.edu.in/index.php/about-us/about-marathwada-mitramandal'], 'context_set': ''}, {'tag': 'About In general', 'patterns': ['What is MMCOE vision', 'What is MMCOE mission', 'Vision and mission', 'mission', 'vision', \"What is Marathwada Mitra Manadal's Mission,Vision\", 'What is Principals Message?', 'Famous saying at MMCOE'], 'responses': ['Please refer to this hyperlink for Vision and mission:-https://www.mmcoe.edu.in/index.php/about-us/vision-and-mission'], 'context_set': ''}, {'tag': \"Principal's message\", 'patterns': [\"What is Principal's message?\", 'Information about Principal of MMCOE', 'Who is the Principal of MMCOE?', 'Principal of MMCOE', 'Dr SM.Deshpande is the principal of mmcoe?', 'What does the Principal say?', 'Tell me about The principal of mmcoe', 'Principal?'], 'responses': ['Please refer to this hyperlink for Information about Principal Dr SM Deshpande :-https://www.mmcoe.edu.in/index.php/about-us/principal-s-message '], 'context_set': ''}, {'tag': 'Affiliations and Recognitions', 'patterns': ['What are the affiliations of MMCOE?', 'Recognistions of MMCOE', 'Is MMCOE affiliated to SPPU?', 'Is mmcoe sppu affiliated?', 'Is mmcoe under sppu?', \"MMCOE'S affiliation?\"], 'responses': ['For information about Affiliations and Recognistion please use this hyperlink:-https://www.mmcoe.edu.in/index.php/about-us/affiliations-recognitions'], 'context_set': ''}, {'tag': 'POLICY/Governance', 'patterns': ['What are the different policies at MMCOE?', 'policies at mmcoe?', 'What is the academic policy of mmcoe?', 'What is the internship policy of mmcoe', 'HR policy', 'What is the recruitment policy at mmcoe?', 'Recruitment Policy'], 'responses': ['To know more about the policies and the governance of MMCOE please visit:-https://www.mmcoe.edu.in/index.php/about-us/governance'], 'context_set': ''}, {'tag': 'Organization', 'patterns': ['Organization of MMCOE', 'Who is the head of MMCOE?', 'What is the hierarchy or the faculty?', 'HODS of mmcoe'], 'responses': ['https://www.mmcoe.edu.in/index.php/about-us/organogram'], 'context_set': ''}, {'tag': 'Achievements', 'patterns': ['What are the achivments at mmcoe?', 'Faculty achivments', 'Is the faculty good at mmcoe?', 'Any achivments by the faculty?', 'What are the achivments at MMCOE?'], 'responses': ['For all the achivments of the faculty at MMCOE please visit this page:-https://www.mmcoe.edu.in/index.php/about-us/achievements/faculty'], 'context_set': ''}, {'tag': 'Deans', 'patterns': ['Deans at mmcoe', 'What are the different deans at mmcoe?', 'who are the deans of mmcoe?', 'Which Deans are present at MMCOE?'], 'responses': ['For information about Deans at MMCOE please visit the page:-https://www.mmcoe.edu.in/index.php/about-us/organogram#'], 'context_set': ''}, {'tag': 'Dean Student Affairs', 'patterns': ['Information about the dean at student affairs', 'Who is the dean at student affairs', 'Student Affairs', 'Placement and training faculty', 'Hostel management', 'Mess and canteen', 'Sports and Gym', 'Technical events', 'Extra-carricular Activity', 'Anti-Raging committee', 'alumini of mmcoe', 'Alumini of MMCOE'], 'responses': ['For Student affairs please visit:-https://www.mmcoe.edu.in/index.php/about-us/deans/dean-student-affairs'], 'context_set': ''}, {'tag': 'Dean Administration', 'patterns': ['who is the dean of administration', 'Library committee of MMCOE', 'Permanent affiliation of MMCOE', 'Staff appraisal of MMCOE', 'PRO OF MMCOE', 'Administration staff of mmcoe', 'Administration of MMCOE', 'Whom to contact for Administration in MMCOE', 'Administration for mmcoe', 'Admimnistration related quarries', 'Grievance redresasal cell', 'Whom to contact for redressal?', 'Internet related complaints', 'SC/ST commitee'], 'responses': ['For any administration doubts the list of the faculty members and known personnel is available,Please visit this page:-https://www.mmcoe.edu.in/index.php/about-us/deans/dean-administration'], 'context_set': ''}, {'tag': 'Deans-Academic', 'patterns': ['Academic Monitoring committee', 'Time table committee', 'University Examination', 'Institution Examination', 'Result analysis', 'ISO', ' INSTITUTION MIS SOFTWARE', 'GOOGLE APPS / ICT', 'Virtual Lab', 'University Examination doubts', 'Complaints related to University exams', 'Point of contact for Grievances related to University exams'], 'responses': ['For Academics related quarries or any doubts,need to contact the committee responsible,Please refer to this page:-https://www.mmcoe.edu.in/index.php/about-us/deans/dean-academics '], 'context_set': ''}, {'tag': 'Deans- R&D', 'patterns': ['N.B.A cell', 'R & D and IPR CELL', ' ENTREPRENEURSHIP DEVELOPMENT (ED) & INCUBATION CELL', 'INDUSTRY INSTITUTION INTERACTION', 'SPONSORED RESEARCH PROJECTS', 'PROFESSIONAL BODIES MEMBERSHIP'], 'responses': ['For R & D related problems/questions/quarries please contact the valid POC by referring to this page:-https://www.mmcoe.edu.in/index.php/about-us/deans/dean-r-d'], 'context_set': ''}, {'tag': 'Video of MM group', 'patterns': ['Marathwada mitra mandal group info', 'Institutes of Marathwada Mitra Mandal', 'Institutes of MM', 'Information about Marathwada Mitra Mandal'], 'responses': ['here is a video clip for the Information related to Marathwada mitra mandal gorup:-https://www.youtube.com/watch?v=TTyb8GneGzA'], 'context_set': ''}, {'tag': 'Placement', 'patterns': ['How is the placement in mmcoe?', 'Are there any good placements for Students in MMCOE?', 'The Placement Record in mmcoe', 'Are there international placements in mmcoe?', 'International internships at mmcoe', 'International placements at mmcoe', 'Highest package for international placement at mmcoe', 'Highest package at mmcoe', 'Placement drive at mmcoe', 'Job  at MMCOE'], 'responses': ['For details related to Placement in MMCOE please refer to this page:-https://www.mmcoe.edu.in/index.php/placement-cell/placements-support'], 'context_set': ''}, {'tag': 'Placement Counseling', 'patterns': ['Placement counselor at mmcoe', 'Placement counselor at MMCOE', 'Who is the placement Counselor at MMCOE?', 'Placement Counseling'], 'responses': ['For placement Related questions please contact MRS.DHANSHREE GHARE.Refer to this page for placement counseling:-https://www.mmcoe.edu.in/index.php/placement-cell/placements-support/counseling'], 'context_set': ''}, {'tag': 'Placement-Training', 'patterns': ['Is placement training available at mmcoe?', 'Placement Training at MMCOE', 'Placement training activities', 'are there any PLacement Traaaining Activities at MMCOE', 'Induction programme', 'Aptitude Training', 'Soft skill training', 'Higher education support', 'Training for placement at mmcoe', 'Training for Placement at MMCOE'], 'responses': ['For any Placement-Training related questions or doubts please refer to this page:-https://www.mmcoe.edu.in/index.php/placement-cell/placements-support/training'], 'context_set': ''}, {'tag': 'TPO/KEY Recruiters', 'patterns': ['Which companies are recruiters for MMCOE students', 'which companies are present for Campus Recruitment at MMCOE?', 'Main companies at Recruitment drive', 'Prominent recruiters for MMCOE', 'Which International Companies are present for the Recruitment process at MMCOE?', 'List of companies at Recruitment drive', 'Well known companies that hire MMCOE students', 'Which companies are prent for Computer branch for recruitment?', 'Which companies are prent for IT branch for recruitment?', 'Which companies are prent for Mechanical branch for recruitment?', 'Which companies are prent for E&TC branch for recruitment?', 'Which companies are prent for Electrical branch for recruitment?', 'Which companies are prent for MBA branch for recruitment?'], 'responses': ['For the TPO please refer to this page:-https://www.mmcoe.edu.in/index.php/placement-cell/placements-support/tpo for the Key Recruiters at MMCOE please refer to this page:-https://www.mmcoe.edu.in/index.php/placement-cell/key-recruiters'], 'context_set': ''}, {'tag': 'Departments', 'patterns': ['Departments?', 'Give me list of Departments?', 'Available Departments?', 'Which Departments does MMCOE have?', 'Which Departments do you have?', 'Give me Department related Information.', 'Tell me, which Departments MMCOE has.'], 'responses': ['Computer, IT, Electrical, E&TC, Mechanical, Engineering Sciences, MBA'], 'context_set': ''}, {'tag': 'Available departments', 'patterns': ['Do you have Computer Department?', 'Do you have IT Department?', 'Do you have Electrical Department?', 'Do you have E&TC Department?', 'Do you have Mechanical Department?', 'Does MMCOE have Computer Department?', 'Does MMCOE have IT Department?', 'Does MMCOE have E&TC Department?', 'Does MMCOE have Electrical Department?', 'Does MMCOE have Mechanical Department?'], 'responses': ['Yes, we have above mentioned department.'], 'context_set': ''}, {'tag': 'Unavailable departments', 'patterns': ['Do you have Civil Department?', 'Do you have Production Department?'], 'responses': [\"Sorry, but we don't have the above mentioned departments.\"], 'context_set': ''}, {'tag': 'Computer department-cutoff', 'patterns': ['What is the cutoff for Computer department?', 'Cutoff list for Computer Engineering?', 'Computer Engineering cutoff?', 'What is the CET score required for Computer Engineering?', 'Required Rank for Computer Engineering?', 'What is the required Rank for getting admission for Computer Engineering?', 'For getting admission for computer engineering what is the CET cutoff?', 'For getting admission for computer engineering what is the JEE cutoff?', 'For getting admission for Computer Engineering, what is the minimum CET Score required?', 'For getting admission for Computer Engineering, what is the minimum JEE Score required?', 'For getting admission for Computer Engineering, what is the minimum Rank required?', 'What is the cutoff for Computer department OPEN castee?', 'What is the cutoff for Computer department SC caste?', 'What is the cutoff for Computer department VJ caste?', 'What is the cutoff for Computer department NT1 caste?', 'What is the cutoff for Computer department NT2 caste?', 'What is the cutoff for Computer department NT3 caste?', 'What is the cutoff for Computer department OBC caste?', 'What is the cutoff for Computer department AI caste?'], 'responses': ['Refer the link below for cutoffs: https://www.mmcoe.edu.in/index.php/admissions/cut-offs/first-year-engineering'], 'context_set': ''}, {'tag': 'IT Department-cutoff', 'patterns': ['What is the cutoff for IT department?', 'Cutoff list for IT Engineering?', 'IT Engineering cutoff?', 'What is the CET score required for IT Engineering?', 'Required Rank for IT Engineering?', 'What is the required Rank for getting admission for IT Engineering?', 'For getting admission for IT engineering what is the CET cutoff?', 'For getting admission for IT engineering what is the JEE cutoff?', 'For getting admission for IT engineering, what is the minimum CET Score required', 'For getting admission for IT Engineering, what is the minimum JEE Score required', 'For getting admission for IT engineering, what is the minimum Rank required?', 'What is the cutoff for IT department OPEN caste?', 'What is the cutoff for IT department SC caste?', 'What is the cutoff for IT department VJ caste?', 'What is the cutoff for IT department NT1 caste?', 'What is the cutoff for IT department NT2 caste?', 'What is the cutoff for IT department NT3 caste?', 'What is the cutoff for IT department OBC caste?', 'What is the cutoff for IT department AI caste?'], 'responses': ['Refer the link below for cutoffs: https://www.mmcoe.edu.in/index.php/admissions/cut-offs/first-year-engineering'], 'context_set': ''}, {'tag': 'Electrical Department-cutoff', 'patterns': ['What is the cutoff for Electrical department?', 'Cutoff list for Electrical Engineering?', 'Electrical Engineering cutoff?', 'What is the CET score required for Electrical Engineering?', 'Required Rank for Electrical Engineering?', 'What is the required Rank for getting admission for Electrical Engineering?', 'For getting admission for Electrical engineering what is the CET cutoff?', 'For getting admission for Electrical engineering what is the JEE cutoff?', 'For getting admission for Electrical Engineering, what is the minimum CET Score required?', 'For getting admission for Electrical Engineering, what is the minimum JEE Score required?', 'For getting admission for Electrical Engineering, what is the minimum Rank required?', 'What is the cutoff for Electrical department OPEN caste?', 'What is the cutoff for Electrical department SC caste?', 'What is the cutoff for Electrical department VJ caste?', 'What is the cutoff for Electrical department NT1 caste?', 'What is the cutoff for Electrical department NT2 caste?', 'What is the cutoff for Electrical department NT3 caste?', 'What is the cutoff for Electrical department OBC caste?', 'What is the cutoff for Electrical department AI caste?'], 'responses': ['Refer the link below for cutoffs: https://www.mmcoe.edu.in/index.php/admissions/cut-offs/first-year-engineering'], 'context_set': ''}, {'tag': 'E&TC Department-cutoff', 'patterns': ['What is the cutoff for E&TC department?', 'Cutoff list for E&TC Engineering?', 'E&TC Engineering cutoff?', 'What is the CET score required for E&TC Engineering?', 'Required Rank for E&TC Engineering?', 'What is the required Rank for getting admission for E&TC Engineering?', 'For getting admission for E&TC engineering what is the CET cutoff?', 'For getting admission for E&TC engineering what is the JEE cutoff?', 'For getting admission for E&TC Engineering, what is the minimum CET Score required?', 'For getting admission for E&TC Engineering, what is the minimum JEE Score required?', 'For getting admission for E&TC Engineering, what is the minimum Rank required?', 'What is the cutoff for E&TC department OPEN caste?', 'What is the cutoff for E&TC department SC caste?', 'What is the cutoff for E&TC department VJ caste?', 'What is the cutoff for E&TC department NT1 caste?', 'What is the cutoff for E&TC department NT2 caste?', 'What is the cutoff for E&TC department NT3 caste?', 'What is the cutoff for E&TC department OBC caste?', 'What is the cutoff for E&TC department AI caste?'], 'responses': ['Refer the link below for cutoffs: https://www.mmcoe.edu.in/index.php/admissions/cut-offs/first-year-engineering'], 'context_set': ''}, {'tag': 'Mechanical Department-cutoff', 'patterns': ['What is the cutoff for Mechanical department?', 'Cutoff list for Mechanical Engineering?', 'Mechanical Engineering cutoff?', 'What is the CET score required for Mechanical Engineering?', 'Required Rank for Mechanical Engineering?', 'What is the required Rank for getting admission for Mechanical Engineering?', 'For getting admission for Mechanical engineering what is the CET cutoff?', 'For getting admission for Mechanical engineering what is the JEE cutoff?', 'For getting admission for Mechanical Engineering, what is the minimum CET Score required?', 'For getting admission for Mechanical Engineering, what is the minimum JEE Score required?', 'For getting admission for Mechanical Engineering, what is the minimum Rank required?', 'What is the cutoff for Mechanical department OPEN caste?', 'What is the cutoff for Mechanical department SC caste?', 'What is the cutoff for Mechanical department VJ caste?', 'What is the cutoff for Mechanical department NT1 caste?', 'What is the cutoff for Mechanical department NT2 caste?', 'What is the cutoff for Mechanical department NT3 caste?', 'What is the cutoff for Mechanical department OBC caste?', 'What is the cutoff for Mechanical department AI caste?'], 'responses': ['Refer the link below for cutoffs: https://www.mmcoe.edu.in/index.php/admissions/cut-offs/first-year-engineering'], 'context_set': ''}, {'tag': 'DSE Computer-cutoff', 'patterns': ['What is the cutoff for Diploma Students?', 'What is the cutoff for DSE Students?', 'What is the cutoff for Diploma Students to get admission for Computer Engineering?', 'What is the cutoff for DSE Students for getting admission for Computer Engineering?', 'What is the cutoff for Computer department?', 'What is the cutoff for getting admission for Computer department?', 'What is the cutoff for Computer department OPEN caste?', 'What is the cutoff for Computer department SC caste?', 'What is the cutoff for Computer department VJ caste?', 'What is the cutoff for Computer department NT1 caste?', 'What is the cutoff for Computer department NT2 caste?', 'What is the cutoff for Computer department NT3 caste?', 'What is the cutoff for Computer department OBC caste?', 'What is the cutoff for Computer department AI caste?'], 'responses': ['Yes!'], 'context_set': ''}, {'tag': 'DSE IT-cutoff', 'patterns': ['What is the cutoff for Diploma Students?', 'What is the cutoff for DSE Students?', 'What is the cutoff for Diploma Students for getting admission for IT Engineering?', 'What is the cutoff for DSE Students for getting admission for IT Engineering?', 'What is the cutoff for DSE IT department?', 'What is the cutoff for getting admission for IT department?', 'What is the cutoff for DSE IT department OPEN caste?', 'What is the cutoff for DSE IT department SC caste?', 'What is the cutoff for DSE IT department VJ caste?', 'What is the cutoff for DSE IT department NT1 caste?', 'What is the cutoff for DSE IT department NT2 caste?', 'What is the cutoff for DSE IT department NT3 caste?', 'What is the cutoff for DSE IT department OBC caste?', 'What is the cutoff for DSE IT department AI caste?'], 'responses': ['Yes!'], 'context_set': ''}, {'tag': 'DSE Electrical-cutoff', 'patterns': ['What is the cutoff for Diploma Students?', 'What is the cutoff for DSE Students?', 'What is the cutoff for Diploma Students for getting admission for Electrical Engineering?', 'What is the cutoff for DSE Students?', 'What is the cutoff for DSE Electrical department?', 'What is the cutoff for getting admission in Electrical department?', 'What is the cutoff for DSE Electrical department OPEN caste?', 'What is the cutoff for DSE Electrical department SC caste?', 'What is the cutoff for DSE Electrical department VJ caste?', 'What is the cutoff for DSE Electrical department NT1 caste?', 'What is the cutoff for DSE Electrical department NT2 caste?', 'What is the cutoff for DSE Electrical department NT3 caste?', 'What is the cutoff for DSE Electrical department OBC caste?', 'What is the cutoff for DSE Electrical department AI caste?'], 'responses': ['Yes!'], 'context_set': ''}, {'tag': 'DSE E&TC-cutoff', 'patterns': ['What is the cutoff for Diploma Students?', 'What is the cutoff for DSE Students?', 'What is the cutoff for Diploma Students for getting admission for E&TC Engineering?', 'What is the cutoff for DSE Students for getting admission for Electrical Engineering?', 'What is the cutoff for DSE E&TC department?', 'What is the cutoff for getting admission to the Electrical department?', 'What is the cutoff for DSE E&TC department OPEN caste?', 'What is the cutoff for DSE E&TC department SC caste?', 'What is the cutoff for DSE E&TC department VJ caste?', 'What is the cutoff for DSE E&TC department NT1 caste?', 'What is the cutoff for DSE E&TC department NT2 caste?', 'What is the cutoff for DSE E&TC department NT3 caste?', 'What is the cutoff for DSE E&TC department OBC caste?', 'What is the cutoff for DSE E&TC department AI caste?'], 'responses': ['Refer the link below for cutoffs: https://www.mmcoe.edu.in/images/DSE_Cut_Off_19_20.pdf'], 'context_set': ''}, {'tag': 'DSE Mechanical-cutoff', 'patterns': ['What is the cutoff for Diploma Students?', 'What is the cutoff for DSE Students?', 'What is the cutoff for Diploma Students for getting admission for Mechanical Engineering?', 'What is the cutoff for DSE Students for getting admission for Mechanical Engineering?', 'What is the cutoff for DSE Mechanical department?', 'What is the cutoff for getting admission for Mechanical department?', 'What is the cutoff for DSE Mechanical department OPEN caste?', 'What is the cutoff for DSE Mechanical department SC caste?', 'What is the cutoff for DSE Mechanical department VJ caste?', 'What is the cutoff for DSE Mechanical department NT1 caste?', 'What is the cutoff for DSE Mechanical department NT2 caste?', 'What is the cutoff for DSE Mechanical department NT3 caste?', 'What is the cutoff for DSE Mechanical department OBC caste?', 'What is the cutoff for DSE Mechanical department AI caste?'], 'responses': ['Refer the link below for cutoffs: https://www.mmcoe.edu.in/images/DSE_Cut_Off_19_20.pdf'], 'context_set': ''}, {'tag': 'ME-cutoff', 'patterns': ['What is the cutoff for ME Students?', 'What is the cutoff for ME students Computer Branch?', 'What is the cutoff for getting admission for ME Engineering?', 'Tell me cutoff for ME?', 'What is the minimum score required for admission for ME?', 'What is the minimum Rank required for ME'], 'responses': ['Refer the link below for cutoffs: https://www.mmcoe.edu.in/images/ME_Cut_offs.pdf'], 'context_set': ''}, {'tag': 'Duration-teaching', 'patterns': ['Duration of Academic Year teaching?', 'What is the duration of Academic Year teaching?', 'Tell me the duration of Academic Year teaching?', 'Duration of Academic Year teaching Sem I?', 'Duration of Academic Year teaching Sem II?', 'Academic Planner?'], 'responses': ['Refer the link above for Academic teaching related information pdfs: https://www.mmcoe.edu.in/index.php/academics/academic-planner'], 'context_set': ''}, {'tag': 'Way-teaching', 'patterns': ['What is the way of teaching at MMCOE?', 'Teaching Pattern at MMCOE?', 'Academic Strengths?', 'Preamble of Academics at MMCOE?'], 'responses': ['Refer the above link for complete Academics Preamble and related information: https://www.mmcoe.edu.in/index.php/academics/preamble-of-academics-at-mmcoe'], 'context_set': ''}, {'tag': 'Exams', 'patterns': ['When are the Annual Exams conducted?', 'Tentative dates of Sem I FE exams?', 'Tentative dates of Sem II FE exams?', 'Tentative dates of Sem I SE exams?', 'Tentative dates of Sem II SE exams?', 'Tentative dates of Sem I TE exams?', 'Tentative dates of Sem II TE exams?', 'Tentative dates of Sem I BE exams?', 'Tentative dates of Sem I BE exams?', 'Exam Dates?', 'Exam dates First Year Engineering?', 'Exam dates Second Year Engineering?', 'Exam dates Third Year Engineering?', 'Exam dates Fourth Year Engineering?', 'Tell me the First Year Exam Dates', 'Tell me the Second Year Exam Dates', 'Tell me the Third Year Exam Dates', 'Tell me the Final Year Exam Dates', 'tell me the Fourth Year Exam Dates'], 'responses': ['For SPPU exam dates, you can refer the link: http://exam.unipune.ac.in/'], 'context_set': ''}, {'tag': 'Assessment', 'patterns': ['How does internal assessment take place?', 'Way of Internal Assessment?', 'Tell me about Internal Assessment?', 'Number of University Exams per year?', 'Which exams are exams conducted by SPPU?'], 'responses': ['Unit tests, Practice tests, Prelim Exams and Orals are conducted every semester.Marks scored in these exams and practice tests are considered for Internal Assessment and Term Work.', '4 Exams per year. Namely: 1.In semester Exam SPPU Sem I, 2.End semester Exam SPPU Sem I, 3.In semester Exam SPPU Sem I, 4.End semester Exam SPPU Sem I. Same format continues from FE to BE. Refer the link below for more Exam related queries: http://exam.unipune.ac.in/'], 'context_set': ''}, {'tag': 'Results', 'patterns': ['Guide me to check my Exam Result?', 'Guide me to check my Exam Score?', 'Give me Link for checking my SPPU Result', 'How are College Exam results declared?', 'Where can I find my Exam Result?', 'Where can I get my Exam Result?', 'Show me my exam score', 'Link for Exam Result?', 'Tell me my Exam Score?', 'Internal Exam Results?', 'SPPU Exam Results?'], 'responses': ['Results for internal Exams will be declared by the particular subject faculties.', 'Check student section in the given link below for SPPU results: http://exam.unipune.ac.in/'], 'context_set': ''}, {'tag': 'extra-curricular activities', 'patterns': ['Why are extra-curricular activities conducted?', 'What is the aim of conducting extra-curricular activities', 'What are the objectives of extra-curricular activities?', 'What extra-curricular activities are carried out at the college?'], 'responses': ['To nourish students’ positive life values and attitudes. To develop students’ leadership skills and organizational skills.To explore and develop students’ potential and talents to the fullest. To raise students’ sense of belonging to school through extra-curricular activities. For more information, visit https://www.mmcoe.edu.in/index.php/students-corner/extra-curricular-events'], 'context_set': ''}, {'tag': 'sports-name', 'patterns': ['What sports are conducted at the college?', 'What physical activities are encouraged at the institution', 'Indoor-Outdoor activities carried out the college?', 'Sport facilities available'], 'responses': ['The college has its own Cricket, Football, Volleyball, Football,Basketball Kabaddi ground, it also has modern style well equipped Gymnasium. Table Tennis, Yoga,Carrom and Chess facilities are also provided.'], 'context_set': ''}, {'tag': 'sport-level', 'patterns': ['What are the achievements of the college in the sports field?', 'What levels are deemed open to the students for participation?', 'What awards did the college win for the sports mentioned above?'], 'responses': ['Our students have participated and won number of prizes in various International, National all india Inter-University, West Zone Inter-University, State,Inter-Zonal,Inter-Collegiate,Sports Competitions.MMCOE Pune has successfully organized Savitribai Phule ,Pune University Inter-Zonal Table Tennis tournaments in the Academic Year 2017-18, 2018-19 and 2019-20. MMCOE also organized Pune City Zone Intercollegiate Table Tennis (Men and Women),Chess (Men and Women), Mallakhamb (Men), Rope Mallakhamb (Women), Artistic Gymnastics (Men and Women) and Rhythmic Gymnastics (Women) competitions. In the second semester, Inter-Departmental Annual Sports events (ENSEMBLE Sports Competitions)are organized in the field of Cricket, Football, Volleyball, Throwball,Dodgeball,Basketball,Tug of War,Kabaddi,Table Tennis ,Chess,Carrom etc. There is active participation by all the students from different departments.'], 'context_set': ''}, {'tag': 'sports-conducted', 'patterns': ['What competitions have been conducted in the past academic years?', 'What are the details of the different competitions held by or at the college?', 'What previous events were participated in and won by the students pf this college', 'Events conducted in academic years'], 'responses': ['Visit https://www.mmcoe.edu.in/index.php/students-corner/extra-curricular-events/sports for more details and information.'], 'context_set': ''}, {'tag': 'fitness-protocol-guidelines', 'patterns': ['What are the fitness protocol guidelines for 5-18 years?', 'What are the fitness protocol guidelines for 18-65 years?', 'What are the fitness protocol guidelines for 65+ years age?'], 'responses': ['Visit https://www.mmcoe.edu.in/index.php/students-corner/extra-curricular-events/sports for more details and information.'], 'context_set': ''}, {'tag': 'nss-activities', 'patterns': ['What activities did NSS indulge into?', 'In what events was the active participation of NSS candidates witnessed?', 'What events were carried out in the academic year?', 'What extension activites were a part of the NSS curiculum in the academic year?'], 'responses': ['Visit https://www.mmcoe.edu.in/index.php/students-corner/extra-curricular-events/nss-extension-activities for more details and information.'], 'context_set': ''}, {'tag': 'nss-detail', 'patterns': ['What is NSS?', 'What are the activities at NSS?', 'Events at NSS', 'Activities at NSS'], 'responses': ['NSS actively participated in youth welfare tasks and events that maintain a social cause at heart. The main events carried out are blood donation camps,police mitra, tree plantations, ganesh festivals, sapling distribution, grocery donation, job fairs, e-waste collection, treks, winter camps, etc.'], 'context_set': ''}, {'tag': 'ensemble', 'patterns': ['What is ensemble?', 'What is the main event of the college?', 'How does the college organise a student talent-based event?', 'What is the cultural event of MMCOE?'], 'responses': ['Ensemble starts with “Sports week” managed by Sports Director. Students and staff participates and enjoys the various indoor and outdoor sports games like Caroms, Chess, Cricket, Dodge Ball, Volleyball etc. Under the cultural activity “Gavaksh - Ek Zaroka” a program for ladies staff and “Unmesh – Udhalan Kaifachi”a program for gents staff is organized. Students participates in various extracurricular activities like Department Decoration, Rangoli, Mehandi, Art and Craft etc along with celebration of various days like Rose Day, Chocolate Day, Signature Day, Angels & Devils day, and traditional day. They showcase their skill and talent in coordinating and managing the various events. Fun fair is organized as a part of Ensemble. Evening is full of variety entertainment programs including classical &western dance performances, singing &mimicry, fashion show, Dhol Pathak and DJ.'], 'context_set': ''}, {'tag': 'activities-ensemble', 'patterns': ['What activities are carried out at ensemble?', 'What events are a part of the cultural event?', 'Different scopes for participation at Ensemble'], 'responses': ['Students and staff participates and enjoys the various indoor and outdoor sports games like Caroms, Chess, Cricket, Dodge Ball, Volleyball etc. Students participates in various extracurricular activities like Department Decoration, Rangoli, Mehandi, Art and Craft etc along with celebration of various days like Rose Day, Chocolate Day, Signature Day, Angels & Devils day, and traditional day. They showcase their skill and talent in coordinating and managing the various events. Fun fair is organized as a part of Ensemble. Evening is full of variety entertainment programs including classical &western dance performances, singing &mimicry, fashion show, Dhol Pathak and DJ.'], 'context_set': ''}, {'tag': 'cultural-activities', 'patterns': ['Cultural activities conducted at college', 'What cultural events are organised?'], 'responses': ['Visit https://www.mmcoe.edu.in/index.php/students-corner/extra-curricular-events/cultural-activities for more details and information.'], 'context_set': ''}, {'tag': 'objectives-extra-curricular', 'patterns': ['What are the objectives of extra-curricular activities?', 'Why are extra-curricular activities conducted?', 'What is the goal of extra-curricular activities?'], 'responses': [\"The objectives of extra-curricular activities are: To encourage students to participate in extra-curricular activities actively. To strengthen students' logical thinking skill. To increase students' other learning experiences and to maintain students' physical and mental health. To enhance the development of house activities.\"], 'context_set': ''}, {'tag': 'events-extra-curricular', 'patterns': ['What are extra-curricular activities?', 'What are the activities conducted at MMCOE?', 'Extra curricular events at MMCOE', 'Extra-curricular Activities at MMCOE'], 'responses': ['Visit https://www.mmcoe.edu.in/index.php/students-corner/extra-curricular-events for more details and information.'], 'context_set': ''}, {'tag': 'gallery', 'patterns': ['Images of the events', 'Gallery of activities', 'Pictures of competitions organized', 'Image Gallery of events at the college'], 'responses': ['Visit https://www.mmcoe.edu.in/index.php/students-corner/gallery for more details, information and images.'], 'context_set': ''}, {'tag': 'students-eligibility-no', 'patterns': [\"Student's eligibility number\", 'How to find the student eligibility number?', 'What is my student eligibility number?'], 'responses': ['Visit https://www.mmcoe.edu.in/index.php/students-corner/eligibility-numbers to find out your eligibility numbers for registered students.'], 'context_set': ''}, {'tag': 'students-cprn-no', 'patterns': [\"Student's cprn number\", 'How to find the student cprn number?', 'What is my student cprn number?'], 'responses': ['Visit https://www.mmcoe.edu.in/images/Students_CPRN_List_MMCOE.pdf to find out your student cprn numbers for registered students.'], 'context_set': ''}, {'tag': 'code-of-conduct', 'patterns': ['What is the code of conduct?', 'What are the rules and regulations of the college?', 'Rules and Regulations', 'Codeof Conduct', 'Expected behaviour from students', 'Terms for Students to abide'], 'responses': [\"Visit https://www.mmcoe.edu.in/images/Code_of_Conduct_for_Studetns.pdf for the detailed set pf rules and regulations for the student's code of conduct.\"], 'context_set': ''}, {'tag': 'application-format-rules', 'patterns': ['What are the instructions before we fill any application?', 'Are there any changes in the application patternss in the pandemic situations?', 'What steps should we keep in mind while filling an application?', 'What is the procedure to fill an application?'], 'responses': ['The students willing to get documents are informed to follow following process considering current pandemic situation: Download application form as per your requirement. Fill all the details in application form & sign it. Mail the scan copy of application form and enclosed documents as mentioned in application to student-section@mmcoe.edu.in through your mmcoe login id. You will get the mail of same within 3 to 4 working days.'], 'context_set': ''}, {'tag': 'application-for-bonafide-certificate', 'patterns': ['How do we apply for a bonafide certificate?', 'What is the application format to gain a bonafide certificate'], 'responses': ['Visit https://drive.google.com/file/d/1tlVnujPq_uVbFUkOg28gaQF8CqmCewxQ/view to get the exact application format for bonafide certificate.'], 'context_set': ''}, {'tag': 'application-for-cgpato%', 'patterns': ['How do we apply for a CGPA to %tile certificate?', 'What is the application format to gain a CGPA to %tile certificate?'], 'responses': ['Visit https://drive.google.com/file/d/1MEYcBct-Di7SXnxZE4IwtvVKefEAUI0y/view to get the exact application format for a CGPA to %tile certificate. '], 'context_set': ''}, {'tag': 'application-for-castevaliditycertificate', 'patterns': ['How do we apply for a caste validity certificate?', 'What is the application format to gain a caste validity certificate?'], 'responses': ['Visit https://drive.google.com/file/d/1IKpD6AJKTDYMCDRHqaIxF08H-6ClkMkL/view to get the exact application format for the caste validity certificate. '], 'context_set': ''}, {'tag': 'application-for-feestructurebonafide', 'patterns': ['How do we apply for a fee structure and bonafide certificate?', 'What is the application format to gain a fee structure and bonafide certificate?'], 'responses': ['Visit https://drive.google.com/file/d/1UdAd8K6-0SjCeH3YD9h8EV5No1vtpuIC/view to get the exact application format for the fee structure and bonafide certificate. '], 'context_set': ''}, {'tag': 'application-for-transcriptcertificate', 'patterns': ['How do we apply for a transcript certificate?', 'What is the application format to gain a transcript certificate?'], 'responses': ['Visit https://drive.google.com/file/d/13M5GyG6hIcX2za0FaTqavZCiM4Y7EhGo/view to get the exact application format for the transcript certificate.'], 'context_set': ''}, {'tag': 'application-for-migrationlc', 'patterns': ['How do we apply for a migration and leaving certificate?', 'What is the application format to gain a migration LC?'], 'responses': ['Visit https://drive.google.com/file/d/1t4NKVKRx3SWGnLcZH97Lt0I2DSOWfjoo/view to get the exact application format for the MIgration and Leaving Certificate(LC).'], 'context_set': ''}, {'tag': 'application-for-character&conduction', 'patterns': ['How do we apply for a character and conduct certificate?', 'What is the application format to gain a character and conduct certificate?'], 'responses': ['Visit https://drive.google.com/file/d/1tyOJmEmt73vrFT2IimYbU6VU5A4VcMGI/view to get the exact application format for the character and conduct certificate.'], 'context_set': ''}, {'tag': 'notice-from-office', 'patterns': ['News and Updates from the Office', 'New Guidelines from the Office', 'Regulations and Instructions from the Office', 'Reports from the Dean OFfice', 'Updates of the ongoing proceedings.'], 'responses': ['Visit https://www.mmcoe.edu.in/index.php/students-corner/important-notices-from-office to get insight upon the ongoing updates, news and updated guidelines of the schedules.'], 'context_set': ''}, {'tag': 'ieee-student-branch', 'patterns': ['What is IEEE?', 'What events are organised by IEEE?', 'What is the functionality of IEEE?', 'HWat does IEEE do?', 'IEEE events', 'When did IEEE college branch start and what does it do?'], 'responses': [\"Marathwada Mitra Mandal's College of Engineering inaugurated IEEE Student Branch on 23rd May 2020. It organizes various events such as Webinar, Workshops, FDPs, Project Competitions, etc. Students from various colleges enthusiastically participate in events. For more details visit https://www.mmcoe.edu.in/index.php/students-corner/co-curricular-events/ieee-student-branch formore IEEE related facts/information.\"], 'context_set': ''}, {'tag': 'dexterity', 'patterns': ['What academic events are organised by the college?', 'What is Dexterity?', 'What does Dexterity place a role of?', 'What kind of competitions are organised via Dexterity?'], 'responses': [\"Marathwada Mitra Mandal's College of Engineering organizes a National Level Technical event DEXTERITY every year. All departments organize various events such as Tech Hunters, Scavengers, CAD war, Poster presentation, Code Marshal, Tech Spark, Tech Shilpam, Mech Mind, Circuit Mania etc. Students from various colleges enthusiastically participate in events.\"], 'context_set': ''}, {'tag': 'students-publication-computer', 'patterns': ['What were the student publications of Computer department?', 'Computer Students Publications', 'Computer Department Students Litrary Works'], 'responses': ['Visit https://www.mmcoe.edu.in/index.php/students-corner/co-curricular-events/student-publication for the literary publications of Students from the Computer department.'], 'context_set': ''}, {'tag': 'students-publication-mechanical', 'patterns': ['What were the student publications of Mechanical department?', 'Mechanical Engineering Students Publication', 'Mechanical Department Students Litrary Works'], 'responses': ['Visit https://www.mmcoe.edu.in/index.php/students-corner/co-curricular-events/student-publication for the literary publications of Students from the Mechanical department.'], 'context_set': ''}, {'tag': 'students-publication-IT', 'patterns': ['What were the student publications of Information Technology department?', 'IT Students Publication', 'Information Technology Department Students Litrary Works'], 'responses': ['Visit https://www.mmcoe.edu.in/index.php/students-corner/co-curricular-events/student-publication for the literary publications of Students from the IT department.'], 'context_set': ''}, {'tag': 'students-publication-Electrical', 'patterns': ['What were the student publications of Electrical department?', 'Electrical Engineering Students Publication', 'Electrical Department Students Litrary Works'], 'responses': ['Visit https://www.mmcoe.edu.in/index.php/students-corner/co-curricular-events/student-publication for the literary publications of Students from the Electrical department.'], 'context_set': ''}, {'tag': 'students-publication-E&TC', 'patterns': ['What were the student publications of Electronics & Telecommunication department?', 'E&TC Engineering Students Publication', 'Electronics and Telecommunication Department Students Litrary Works'], 'responses': ['Visit https://www.mmcoe.edu.in/index.php/students-corner/co-curricular-events/student-publication for the literary publications of Students from the Electronics and Telecommunication department.'], 'context_set': ''}, {'tag': 'student-club', 'patterns': ['What Clubs are supported by the college?', 'What are the clubs of MMCOE?', 'Which clubs are facilitated for the students?'], 'responses': ['MMCOE has multiple funded and supported clubs that represent the college like SAE, Robocon, Zenith, and Alerios Aeroclub. These clubs represent the college in events carried out throughout India and bring name to the college.'], 'context_set': ''}, {'tag': 'SAE', 'patterns': ['What is SAE?', 'What does SAE do?', 'What competitions does SAE club participate in?', 'What is the SAE club all about?', 'What field does the club college work for?'], 'responses': ['SAE Stands for the Society of Automotive Engineers and SAE India is an alliance partner of SAE international registered in India. It is a non-profit engineering and scientific society which was established in Chennai in the year 2002. It was dedicated solely for the advancement of the mobility industry in India. In our MMCOE, Karvenagar, Pune, the SAEINDIA MMCOE Collegiate Club was established in the Year 2013. SAE India organizes many nationwide events such as Baja, Supra, Efficycle and others. Our institute participates in the events BAJA, Supra and Efficycle every year and emerged as leading institute in these events at National and International level.'], 'context_set': ''}, {'tag': 'Robocon', 'patterns': ['What is Robocon?', 'What does SAE do?', 'What competitions does Robocon club participate in?', 'What is the Robocon club all about?', 'What field does the club college work for?'], 'responses': ['Robocon (short for Robotic Contest) is organised by Asia-Pacific Broadcasting Union (ABU), a collection of over 20 countries of Asia Pacific Region. NHK, Japan had already been organising such contests at national level and also became the host of the first ABU Robocon in 2002. Since then, every year one of the member broadcasters hosts this international event. The broadcasters of each participant country are responsible for conduct of their national contests to select the team which will represent their country in the International Contest. Teams from Engineering and Technological colleges are eligible for participation. Participating Teams are expected to design and fabricate their own robots and organize their teams including an Instructor, Team Leader, Manual Robot Operator and an Automatic Robot Operator.'], 'context_set': ''}, {'tag': 'Zenith', 'patterns': ['What is Zenith?', 'What does Zenith do?', 'What competitions does Zenith club participate in?', 'What is the Zenith club all about?', 'What field does the club college work for?'], 'responses': ['The applications of scientific and technological developments in astronomy has led to many applications especially in electronics and telecommunication, computers, aerospace, energy sector, medicine and related areas. It also makes us aware about where exactly do we fit in the entire universe. The Astronomy Club of MMCOE named ‘Zenith’ was formally inaugurated in the year 2018-19 to discuss about few of these applications. The club has organized stargazing programmes in association with Jyotirvidya Parisanstha, Pune It also undertakes various events for making the society aware about the recent developments in astronomy.'], 'context_set': ''}, {'tag': 'Alerios', 'patterns': ['What is Alerios Aeroclub?', 'What does Alerios Aeroclub do?', 'What competitions does Alerios Aeroclub participate in?', 'What is the Alerios Aeroclub all about?', 'What field does the club college work for?'], 'responses': ['The club will focus on the various aspects of Aviation to inculcate hand-skills and experience based learning among youth. It will particularly focus on the indoor Aeromodelling which can accommodate most members of the society from all financial factions and also develops deep sense of Aerodynamics.'], 'context_set': ''}, {'tag': 'Campus', 'patterns': ['What about the Campus?', 'Information about Campus', 'Tell me something about the Campus', 'Campus Information', 'Campus Details', 'Campus'], 'responses': [\"For more information about the campus please visit 'https://https://www.mmcoe.edu.in/index.php/campus'\", \"You can find more information about the campus at 'https://www.mmcoe.edu.in/index.php/campus'\"], 'context_set': ''}, {'tag': 'Campus-Library', 'patterns': ['Information about the Library', 'Tell me something about the library', 'What about the library?', 'What can you tell me about the library?', 'Library information', 'Library details', 'Library'], 'responses': [\"For Salient Features of the MMCOE central library, please visit 'https://www.mmcoe.edu.in/index.php/campus/library'\", \"You can find detailed information about the library at 'https://www.mmcoe.edu.in/index.php/campus/library'\"], 'context_set': ''}, {'tag': 'Campus-Laboratories', 'patterns': ['Information about the labs', 'What about the laboratories', 'Information about laboratories', 'Department Laboratories', 'laboratories', 'labs'], 'responses': [\"The institution boasts a whopping number of 67 different laboratories for different departments, engaged in a variety of different projects simultaneously. For more information about the labs please visit 'https://www.mmcoe.edu.in/index.php/campus/laboratories'\", \"We have 67 laboratories in the campus according to the departments, For more information about the labs please visit 'https://www.mmcoe.edu.in/index.php/campus/laboratories'\"], 'context_set': ''}, {'tag': 'Campus-Classrooms', 'patterns': ['Information about the classrooms', 'Tell me something about the classrooms', 'What about the classrooms', 'Classrooms', 'classroom'], 'responses': ['All classrooms are equipped with modern furniture, LCD projectors with white screen, greenboard, white board and internet.'], 'context_set': ''}, {'tag': 'Campus-Hostels', 'patterns': ['Hostel facilities', 'What about the hostel', 'Tell me something about the hostel', 'hostel', 'Tell me about the hostel', 'Does the college have hostel facilities'], 'responses': [\"The institution provides excellent hostel facilities with various amenities, the full information about the hostel can be found in the hostel brochure here - 'https://www.mmcoe.edu.in/images/Hostel_Brochure.pdf', For more information please visit - 'https://www.mmcoe.edu.in/index.php/campus/hostel'\"], 'context_set': ''}, {'tag': 'Campus-Playground', 'patterns': ['What about the playground', 'Does the college have a playground', 'ground', 'playground', 'Tell me something about the playground'], 'responses': [\"The institute has a big playground for various sports and activites situated at the back of the campus, you can find pictures here - 'https://www.mmcoe.edu.in/images/play-ground.jpg', For more information please visit - 'https://www.mmcoe.edu.in/index.php/campus/playgrounds'\"], 'context_set': ''}, {'tag': 'Campus-Gymnasium', 'patterns': ['Does the College have a gym', 'Tell me something about the gym', 'gym', 'gymnasium', 'What about the gym'], 'responses': [\"The college has excellent gym facilities with a large amount of training equipment, 'For more information please visit - 'https://www.mmcoe.edu.in/index.php/campus/gymnasium'\", \"The institute boasts a fully equipped gym with a variety of different equipments for training. 'For more information please visit - 'https://www.mmcoe.edu.in/index.php/campus/gymnasium'\"], 'context_set': ''}, {'tag': 'Campus-Canteen', 'patterns': ['Tell me something about the canteen', 'Tell me something about the mess facilities', 'mess', 'canteen', 'What about canteen?', 'What about Mess?', 'Does the College have a canteen?', 'Does the College have a Mess?'], 'responses': [\"The institution has a spacious canteen which provides delicious and healthy food at cheap rates for the students, and also has a completely separate mess facility for the hostel candidates, For more information please visit - 'https://www.mmcoe.edu.in/index.php/campus/mess'\", \"The college offers students with excellent and healthy food in the canteen at low rates and also a separate mess facility is available for students, For more information please visit - 'https://www.mmcoe.edu.in/index.php/campus/mess'\"], 'context_set': ''}, {'tag': 'Campus-Maintenance', 'patterns': ['What about maintenance?', 'Tell me something about maintenance', 'Housekeeping', 'Maintenance', 'What about Housekeeping?', 'Does the college provide Housekeeping?'], 'responses': [\"For more about the maintenance, housekeeping and write-off policy, please visit - 'https://www.mmcoe.edu.in/index.php/campus/maintenance-housekeeping-and-write-off-policy'\"], 'context_set': ''}, {'tag': 'Campus-Feedback', 'patterns': ['Where to give feedback?', 'Feedback portal', 'Feedback', 'How to give Feedback'], 'responses': [\"For feedback portal, please visit - 'https://www.aicte-india.org/feedback/'\"], 'context_set': ''}, {'tag': 'Campus-Video', 'patterns': ['Campus video', 'Campus information video', 'Infrastructure Video'], 'responses': [\"PLease visit 'https://youtu.be/DaTjunT4Mjc' for a campus video\"], 'context_set': ''}, {'tag': 'default-fallback', 'patterns': [], 'responses': [\"I didn't get that. Can you say it again?\", 'I missed what you said. What was that?', 'Sorry, could you say that again?', 'Can you say that again?', \"I didn't get that. Can you repeat?\", 'I  missed that, say that again?']}]}\n"
     ]
    }
   ],
   "source": [
    "def load_json_file(filename):\n",
    "    with open(filename) as f:\n",
    "        file=json.load(f)\n",
    "    return file   \n",
    "    \n",
    "filename=\"intents.json\"\n",
    "intents=load_json_file(filename)\n",
    "print(intents)"
   ]
  },
  {
   "cell_type": "markdown",
   "metadata": {},
   "source": [
    "Create dataframe for patterns and tags"
   ]
  },
  {
   "cell_type": "code",
   "execution_count": 3,
   "metadata": {},
   "outputs": [
    {
     "data": {
      "text/html": [
       "<div>\n",
       "<style scoped>\n",
       "    .dataframe tbody tr th:only-of-type {\n",
       "        vertical-align: middle;\n",
       "    }\n",
       "\n",
       "    .dataframe tbody tr th {\n",
       "        vertical-align: top;\n",
       "    }\n",
       "\n",
       "    .dataframe thead th {\n",
       "        text-align: right;\n",
       "    }\n",
       "</style>\n",
       "<table border=\"1\" class=\"dataframe\">\n",
       "  <thead>\n",
       "    <tr style=\"text-align: right;\">\n",
       "      <th></th>\n",
       "      <th>Pattern</th>\n",
       "      <th>Tag</th>\n",
       "    </tr>\n",
       "  </thead>\n",
       "  <tbody>\n",
       "  </tbody>\n",
       "</table>\n",
       "</div>"
      ],
      "text/plain": [
       "Empty DataFrame\n",
       "Columns: [Pattern, Tag]\n",
       "Index: []"
      ]
     },
     "execution_count": 3,
     "metadata": {},
     "output_type": "execute_result"
    }
   ],
   "source": [
    "def create_df():\n",
    "    df=pd.DataFrame({'Pattern':[],'Tag':[]})\n",
    "    return df\n",
    "    \n",
    "df=create_df()\n",
    "df"
   ]
  },
  {
   "cell_type": "markdown",
   "metadata": {},
   "source": [
    "Extract data from file"
   ]
  },
  {
   "cell_type": "code",
   "execution_count": 4,
   "metadata": {},
   "outputs": [],
   "source": [
    "def extract_json_info(json_file,df):\n",
    "    for intent in json_file['intents']:\n",
    "        for pattern in intent['patterns']:\n",
    "            sentence_tag=[pattern,intent['tag']]\n",
    "            df.loc[len(df.index)] = sentence_tag\n",
    "    return df        \n",
    "df=extract_json_info(intents,df)"
   ]
  },
  {
   "cell_type": "markdown",
   "metadata": {},
   "source": [
    "## Explore data"
   ]
  },
  {
   "cell_type": "code",
   "execution_count": 5,
   "metadata": {},
   "outputs": [
    {
     "data": {
      "text/html": [
       "<div>\n",
       "<style scoped>\n",
       "    .dataframe tbody tr th:only-of-type {\n",
       "        vertical-align: middle;\n",
       "    }\n",
       "\n",
       "    .dataframe tbody tr th {\n",
       "        vertical-align: top;\n",
       "    }\n",
       "\n",
       "    .dataframe thead th {\n",
       "        text-align: right;\n",
       "    }\n",
       "</style>\n",
       "<table border=\"1\" class=\"dataframe\">\n",
       "  <thead>\n",
       "    <tr style=\"text-align: right;\">\n",
       "      <th></th>\n",
       "      <th>Pattern</th>\n",
       "      <th>Tag</th>\n",
       "    </tr>\n",
       "  </thead>\n",
       "  <tbody>\n",
       "    <tr>\n",
       "      <th>0</th>\n",
       "      <td>Hi</td>\n",
       "      <td>greeting</td>\n",
       "    </tr>\n",
       "    <tr>\n",
       "      <th>1</th>\n",
       "      <td>Hey</td>\n",
       "      <td>greeting</td>\n",
       "    </tr>\n",
       "    <tr>\n",
       "      <th>2</th>\n",
       "      <td>Is anyone there?</td>\n",
       "      <td>greeting</td>\n",
       "    </tr>\n",
       "    <tr>\n",
       "      <th>3</th>\n",
       "      <td>Hello</td>\n",
       "      <td>greeting</td>\n",
       "    </tr>\n",
       "    <tr>\n",
       "      <th>4</th>\n",
       "      <td>Hey there</td>\n",
       "      <td>greeting</td>\n",
       "    </tr>\n",
       "  </tbody>\n",
       "</table>\n",
       "</div>"
      ],
      "text/plain": [
       "            Pattern       Tag\n",
       "0                Hi  greeting\n",
       "1               Hey  greeting\n",
       "2  Is anyone there?  greeting\n",
       "3             Hello  greeting\n",
       "4         Hey there  greeting"
      ]
     },
     "execution_count": 5,
     "metadata": {},
     "output_type": "execute_result"
    }
   ],
   "source": [
    "df.head()"
   ]
  },
  {
   "cell_type": "code",
   "execution_count": 6,
   "metadata": {},
   "outputs": [
    {
     "data": {
      "text/plain": [
       "(914, 2)"
      ]
     },
     "execution_count": 6,
     "metadata": {},
     "output_type": "execute_result"
    }
   ],
   "source": [
    "df.shape"
   ]
  },
  {
   "cell_type": "code",
   "execution_count": 7,
   "metadata": {},
   "outputs": [
    {
     "name": "stdout",
     "output_type": "stream",
     "text": [
      "<class 'pandas.core.frame.DataFrame'>\n",
      "Index: 914 entries, 0 to 913\n",
      "Data columns (total 2 columns):\n",
      " #   Column   Non-Null Count  Dtype \n",
      "---  ------   --------------  ----- \n",
      " 0   Pattern  914 non-null    object\n",
      " 1   Tag      914 non-null    object\n",
      "dtypes: object(2)\n",
      "memory usage: 21.4+ KB\n"
     ]
    }
   ],
   "source": [
    "df.info()"
   ]
  },
  {
   "cell_type": "code",
   "execution_count": 8,
   "metadata": {},
   "outputs": [
    {
     "name": "stdout",
     "output_type": "stream",
     "text": [
      "134 classes in or tags\n",
      "['greeting' 'goodbye' 'thanks' 'about' 'name' 'complaint' 'contact'\n",
      " 'social connect' 'working-hours' 'location' 'why-choose-mmcoe'\n",
      " 'what-we-offer' 'admission-enquiry' 'admission-after-allotment'\n",
      " 'admission_in_charge_FE' 'admission_in_charge_DSE'\n",
      " 'admission_in_charge_ME_MBA' 'Computer-Intake' 'IT-Intake'\n",
      " 'Mechanical-Intake' 'ENTC-Intake' 'Electrical-Intake'\n",
      " 'DSE-computer-Intake' 'DSE-IT-Intake' 'DSE-Mechanical-Intake'\n",
      " 'DSE-ENTC-Intake' 'DSE-Electrical-Intake' 'ME-Intake' 'MBA-Intake'\n",
      " 'FE-Eligibility' 'DSE-Eligibility' 'ME-Eligibility' 'MBA-Eligibility'\n",
      " 'Documents-FE' 'fee-payment-process' 'Fe-FEES' 'DSE-FEES' 'MBA-FEES'\n",
      " 'ME-FEES' 'scholarships' 'Faculty-College-Computer' 'Faculty-College-IT'\n",
      " 'Faculty-College-Mechanical' 'Faculty-College-E&TC'\n",
      " 'Faculty-College-Electrical' 'Faculty-College-MBA'\n",
      " 'Faculty-College-Engineering-Sciences' 'Research-Projects'\n",
      " 'Student-projects' 'About-MMCOE' 'About-Marathwada Mitramandal'\n",
      " 'About In general' \"Principal's message\" 'Affiliations and Recognitions'\n",
      " 'POLICY/Governance' 'Organization' 'Achievements' 'Deans'\n",
      " 'Dean Student Affairs' 'Dean Administration' 'Deans-Academic'\n",
      " 'Deans- R&D' 'Video of MM group' 'Placement' 'Placement Counseling'\n",
      " 'Placement-Training' 'TPO/KEY Recruiters' 'Departments'\n",
      " 'Available departments' 'Unavailable departments'\n",
      " 'Computer department-cutoff' 'IT Department-cutoff'\n",
      " 'Electrical Department-cutoff' 'E&TC Department-cutoff'\n",
      " 'Mechanical Department-cutoff' 'DSE Computer-cutoff' 'DSE IT-cutoff'\n",
      " 'DSE Electrical-cutoff' 'DSE E&TC-cutoff' 'DSE Mechanical-cutoff'\n",
      " 'ME-cutoff' 'Duration-teaching' 'Way-teaching' 'Exams' 'Assessment'\n",
      " 'Results' 'extra-curricular activities' 'sports-name' 'sport-level'\n",
      " 'sports-conducted' 'fitness-protocol-guidelines' 'nss-activities'\n",
      " 'nss-detail' 'ensemble' 'activities-ensemble' 'cultural-activities'\n",
      " 'objectives-extra-curricular' 'events-extra-curricular' 'gallery'\n",
      " 'students-eligibility-no' 'students-cprn-no' 'code-of-conduct'\n",
      " 'application-format-rules' 'application-for-bonafide-certificate'\n",
      " 'application-for-cgpato%' 'application-for-castevaliditycertificate'\n",
      " 'application-for-feestructurebonafide'\n",
      " 'application-for-transcriptcertificate' 'application-for-migrationlc'\n",
      " 'application-for-character&conduction' 'notice-from-office'\n",
      " 'ieee-student-branch' 'dexterity' 'students-publication-computer'\n",
      " 'students-publication-mechanical' 'students-publication-IT'\n",
      " 'students-publication-Electrical' 'students-publication-E&TC'\n",
      " 'student-club' 'SAE' 'Robocon' 'Zenith' 'Alerios' 'Campus'\n",
      " 'Campus-Library' 'Campus-Laboratories' 'Campus-Classrooms'\n",
      " 'Campus-Hostels' 'Campus-Playground' 'Campus-Gymnasium' 'Campus-Canteen'\n",
      " 'Campus-Maintenance' 'Campus-Feedback' 'Campus-Video']\n"
     ]
    }
   ],
   "source": [
    "x=len(df['Tag'].unique())\n",
    "print(f\"{x} classes in or tags\")\n",
    "\n",
    "print(df['Tag'].unique())"
   ]
  },
  {
   "cell_type": "code",
   "execution_count": 9,
   "metadata": {},
   "outputs": [
    {
     "data": {
      "text/plain": [
       "Pattern    0\n",
       "Tag        0\n",
       "dtype: int64"
      ]
     },
     "execution_count": 9,
     "metadata": {},
     "output_type": "execute_result"
    }
   ],
   "source": [
    "df.isna().sum()"
   ]
  },
  {
   "cell_type": "markdown",
   "metadata": {},
   "source": [
    "Understand the corpus"
   ]
  },
  {
   "cell_type": "code",
   "execution_count": 10,
   "metadata": {},
   "outputs": [
    {
     "data": {
      "text/plain": [
       "['Hi', 'Hey', 'Is', 'anyone', 'there?']"
      ]
     },
     "execution_count": 10,
     "metadata": {},
     "output_type": "execute_result"
    }
   ],
   "source": [
    "def get_corpus(series):\n",
    "    words = []\n",
    "    for text in series:\n",
    "        for word in text.split():\n",
    "            words.append(word.strip())\n",
    "    return words\n",
    "\n",
    "corpus = get_corpus(df.Pattern)\n",
    "corpus[:5]\n",
    "# print(corpus)"
   ]
  },
  {
   "cell_type": "code",
   "execution_count": 11,
   "metadata": {},
   "outputs": [
    {
     "name": "stdout",
     "output_type": "stream",
     "text": [
      "[('the', 449), ('for', 416), ('is', 308), ('What', 287), ('of', 183), ('are', 140), ('what', 128), ('cutoff', 119), ('admission', 112), ('department', 92)]\n"
     ]
    },
    {
     "data": {
      "text/plain": [
       "{'the': 449,\n",
       " 'for': 416,\n",
       " 'is': 308,\n",
       " 'What': 287,\n",
       " 'of': 183,\n",
       " 'are': 140,\n",
       " 'what': 128,\n",
       " 'cutoff': 119,\n",
       " 'admission': 112,\n",
       " 'department': 92}"
      ]
     },
     "execution_count": 11,
     "metadata": {},
     "output_type": "execute_result"
    }
   ],
   "source": [
    "from collections import Counter\n",
    "counter = Counter(corpus)\n",
    "most_common = counter.most_common(10)\n",
    "print(most_common)\n",
    "most_common = dict(most_common)\n",
    "most_common"
   ]
  },
  {
   "cell_type": "markdown",
   "metadata": {},
   "source": [
    "Create another dataframe for patterns, tags and labels"
   ]
  },
  {
   "cell_type": "code",
   "execution_count": 13,
   "metadata": {},
   "outputs": [
    {
     "data": {
      "text/html": [
       "<div>\n",
       "<style scoped>\n",
       "    .dataframe tbody tr th:only-of-type {\n",
       "        vertical-align: middle;\n",
       "    }\n",
       "\n",
       "    .dataframe tbody tr th {\n",
       "        vertical-align: top;\n",
       "    }\n",
       "\n",
       "    .dataframe thead th {\n",
       "        text-align: right;\n",
       "    }\n",
       "</style>\n",
       "<table border=\"1\" class=\"dataframe\">\n",
       "  <thead>\n",
       "    <tr style=\"text-align: right;\">\n",
       "      <th></th>\n",
       "      <th>Pattern</th>\n",
       "      <th>Tag</th>\n",
       "    </tr>\n",
       "  </thead>\n",
       "  <tbody>\n",
       "    <tr>\n",
       "      <th>0</th>\n",
       "      <td>Hi</td>\n",
       "      <td>greeting</td>\n",
       "    </tr>\n",
       "    <tr>\n",
       "      <th>1</th>\n",
       "      <td>Hey</td>\n",
       "      <td>greeting</td>\n",
       "    </tr>\n",
       "    <tr>\n",
       "      <th>2</th>\n",
       "      <td>Is anyone there?</td>\n",
       "      <td>greeting</td>\n",
       "    </tr>\n",
       "    <tr>\n",
       "      <th>3</th>\n",
       "      <td>Hello</td>\n",
       "      <td>greeting</td>\n",
       "    </tr>\n",
       "    <tr>\n",
       "      <th>4</th>\n",
       "      <td>Hey there</td>\n",
       "      <td>greeting</td>\n",
       "    </tr>\n",
       "  </tbody>\n",
       "</table>\n",
       "</div>"
      ],
      "text/plain": [
       "            Pattern       Tag\n",
       "0                Hi  greeting\n",
       "1               Hey  greeting\n",
       "2  Is anyone there?  greeting\n",
       "3             Hello  greeting\n",
       "4         Hey there  greeting"
      ]
     },
     "execution_count": 13,
     "metadata": {},
     "output_type": "execute_result"
    }
   ],
   "source": [
    "df2 = df.copy()\n",
    "df2.head()"
   ]
  },
  {
   "cell_type": "markdown",
   "metadata": {},
   "source": [
    "Create list of unique tags as labels"
   ]
  },
  {
   "cell_type": "code",
   "execution_count": 14,
   "metadata": {},
   "outputs": [
    {
     "data": {
      "text/plain": [
       "['greeting', 'goodbye', 'thanks', 'about', 'name']"
      ]
     },
     "execution_count": 14,
     "metadata": {},
     "output_type": "execute_result"
    }
   ],
   "source": [
    "labels=df2['Tag'].unique().tolist()\n",
    "labels=[s.strip() for s in labels]\n",
    "labels[:5]"
   ]
  },
  {
   "cell_type": "markdown",
   "metadata": {},
   "source": [
    "Create `id` to `label` and vise versa"
   ]
  },
  {
   "cell_type": "code",
   "execution_count": 15,
   "metadata": {},
   "outputs": [],
   "source": [
    "id2label={id:label for id,label in enumerate(labels)}\n",
    "label2id={label:id for id,label in enumerate(labels)}\n",
    "num_labels=len(labels)"
   ]
  },
  {
   "cell_type": "code",
   "execution_count": 16,
   "metadata": {},
   "outputs": [
    {
     "data": {
      "text/plain": [
       "{0: 'greeting',\n",
       " 1: 'goodbye',\n",
       " 2: 'thanks',\n",
       " 3: 'about',\n",
       " 4: 'name',\n",
       " 5: 'complaint',\n",
       " 6: 'contact',\n",
       " 7: 'social connect',\n",
       " 8: 'working-hours',\n",
       " 9: 'location',\n",
       " 10: 'why-choose-mmcoe',\n",
       " 11: 'what-we-offer',\n",
       " 12: 'admission-enquiry',\n",
       " 13: 'admission-after-allotment',\n",
       " 14: 'admission_in_charge_FE',\n",
       " 15: 'admission_in_charge_DSE',\n",
       " 16: 'admission_in_charge_ME_MBA',\n",
       " 17: 'Computer-Intake',\n",
       " 18: 'IT-Intake',\n",
       " 19: 'Mechanical-Intake',\n",
       " 20: 'ENTC-Intake',\n",
       " 21: 'Electrical-Intake',\n",
       " 22: 'DSE-computer-Intake',\n",
       " 23: 'DSE-IT-Intake',\n",
       " 24: 'DSE-Mechanical-Intake',\n",
       " 25: 'DSE-ENTC-Intake',\n",
       " 26: 'DSE-Electrical-Intake',\n",
       " 27: 'ME-Intake',\n",
       " 28: 'MBA-Intake',\n",
       " 29: 'FE-Eligibility',\n",
       " 30: 'DSE-Eligibility',\n",
       " 31: 'ME-Eligibility',\n",
       " 32: 'MBA-Eligibility',\n",
       " 33: 'Documents-FE',\n",
       " 34: 'fee-payment-process',\n",
       " 35: 'Fe-FEES',\n",
       " 36: 'DSE-FEES',\n",
       " 37: 'MBA-FEES',\n",
       " 38: 'ME-FEES',\n",
       " 39: 'scholarships',\n",
       " 40: 'Faculty-College-Computer',\n",
       " 41: 'Faculty-College-IT',\n",
       " 42: 'Faculty-College-Mechanical',\n",
       " 43: 'Faculty-College-E&TC',\n",
       " 44: 'Faculty-College-Electrical',\n",
       " 45: 'Faculty-College-MBA',\n",
       " 46: 'Faculty-College-Engineering-Sciences',\n",
       " 47: 'Research-Projects',\n",
       " 48: 'Student-projects',\n",
       " 49: 'About-MMCOE',\n",
       " 50: 'About-Marathwada Mitramandal',\n",
       " 51: 'About In general',\n",
       " 52: \"Principal's message\",\n",
       " 53: 'Affiliations and Recognitions',\n",
       " 54: 'POLICY/Governance',\n",
       " 55: 'Organization',\n",
       " 56: 'Achievements',\n",
       " 57: 'Deans',\n",
       " 58: 'Dean Student Affairs',\n",
       " 59: 'Dean Administration',\n",
       " 60: 'Deans-Academic',\n",
       " 61: 'Deans- R&D',\n",
       " 62: 'Video of MM group',\n",
       " 63: 'Placement',\n",
       " 64: 'Placement Counseling',\n",
       " 65: 'Placement-Training',\n",
       " 66: 'TPO/KEY Recruiters',\n",
       " 67: 'Departments',\n",
       " 68: 'Available departments',\n",
       " 69: 'Unavailable departments',\n",
       " 70: 'Computer department-cutoff',\n",
       " 71: 'IT Department-cutoff',\n",
       " 72: 'Electrical Department-cutoff',\n",
       " 73: 'E&TC Department-cutoff',\n",
       " 74: 'Mechanical Department-cutoff',\n",
       " 75: 'DSE Computer-cutoff',\n",
       " 76: 'DSE IT-cutoff',\n",
       " 77: 'DSE Electrical-cutoff',\n",
       " 78: 'DSE E&TC-cutoff',\n",
       " 79: 'DSE Mechanical-cutoff',\n",
       " 80: 'ME-cutoff',\n",
       " 81: 'Duration-teaching',\n",
       " 82: 'Way-teaching',\n",
       " 83: 'Exams',\n",
       " 84: 'Assessment',\n",
       " 85: 'Results',\n",
       " 86: 'extra-curricular activities',\n",
       " 87: 'sports-name',\n",
       " 88: 'sport-level',\n",
       " 89: 'sports-conducted',\n",
       " 90: 'fitness-protocol-guidelines',\n",
       " 91: 'nss-activities',\n",
       " 92: 'nss-detail',\n",
       " 93: 'ensemble',\n",
       " 94: 'activities-ensemble',\n",
       " 95: 'cultural-activities',\n",
       " 96: 'objectives-extra-curricular',\n",
       " 97: 'events-extra-curricular',\n",
       " 98: 'gallery',\n",
       " 99: 'students-eligibility-no',\n",
       " 100: 'students-cprn-no',\n",
       " 101: 'code-of-conduct',\n",
       " 102: 'application-format-rules',\n",
       " 103: 'application-for-bonafide-certificate',\n",
       " 104: 'application-for-cgpato%',\n",
       " 105: 'application-for-castevaliditycertificate',\n",
       " 106: 'application-for-feestructurebonafide',\n",
       " 107: 'application-for-transcriptcertificate',\n",
       " 108: 'application-for-migrationlc',\n",
       " 109: 'application-for-character&conduction',\n",
       " 110: 'notice-from-office',\n",
       " 111: 'ieee-student-branch',\n",
       " 112: 'dexterity',\n",
       " 113: 'students-publication-computer',\n",
       " 114: 'students-publication-mechanical',\n",
       " 115: 'students-publication-IT',\n",
       " 116: 'students-publication-Electrical',\n",
       " 117: 'students-publication-E&TC',\n",
       " 118: 'student-club',\n",
       " 119: 'SAE',\n",
       " 120: 'Robocon',\n",
       " 121: 'Zenith',\n",
       " 122: 'Alerios',\n",
       " 123: 'Campus',\n",
       " 124: 'Campus-Library',\n",
       " 125: 'Campus-Laboratories',\n",
       " 126: 'Campus-Classrooms',\n",
       " 127: 'Campus-Hostels',\n",
       " 128: 'Campus-Playground',\n",
       " 129: 'Campus-Gymnasium',\n",
       " 130: 'Campus-Canteen',\n",
       " 131: 'Campus-Maintenance',\n",
       " 132: 'Campus-Feedback',\n",
       " 133: 'Campus-Video'}"
      ]
     },
     "execution_count": 16,
     "metadata": {},
     "output_type": "execute_result"
    }
   ],
   "source": [
    "id2label"
   ]
  },
  {
   "cell_type": "code",
   "execution_count": 17,
   "metadata": {},
   "outputs": [
    {
     "data": {
      "text/plain": [
       "{'greeting': 0,\n",
       " 'goodbye': 1,\n",
       " 'thanks': 2,\n",
       " 'about': 3,\n",
       " 'name': 4,\n",
       " 'complaint': 5,\n",
       " 'contact': 6,\n",
       " 'social connect': 7,\n",
       " 'working-hours': 8,\n",
       " 'location': 9,\n",
       " 'why-choose-mmcoe': 10,\n",
       " 'what-we-offer': 11,\n",
       " 'admission-enquiry': 12,\n",
       " 'admission-after-allotment': 13,\n",
       " 'admission_in_charge_FE': 14,\n",
       " 'admission_in_charge_DSE': 15,\n",
       " 'admission_in_charge_ME_MBA': 16,\n",
       " 'Computer-Intake': 17,\n",
       " 'IT-Intake': 18,\n",
       " 'Mechanical-Intake': 19,\n",
       " 'ENTC-Intake': 20,\n",
       " 'Electrical-Intake': 21,\n",
       " 'DSE-computer-Intake': 22,\n",
       " 'DSE-IT-Intake': 23,\n",
       " 'DSE-Mechanical-Intake': 24,\n",
       " 'DSE-ENTC-Intake': 25,\n",
       " 'DSE-Electrical-Intake': 26,\n",
       " 'ME-Intake': 27,\n",
       " 'MBA-Intake': 28,\n",
       " 'FE-Eligibility': 29,\n",
       " 'DSE-Eligibility': 30,\n",
       " 'ME-Eligibility': 31,\n",
       " 'MBA-Eligibility': 32,\n",
       " 'Documents-FE': 33,\n",
       " 'fee-payment-process': 34,\n",
       " 'Fe-FEES': 35,\n",
       " 'DSE-FEES': 36,\n",
       " 'MBA-FEES': 37,\n",
       " 'ME-FEES': 38,\n",
       " 'scholarships': 39,\n",
       " 'Faculty-College-Computer': 40,\n",
       " 'Faculty-College-IT': 41,\n",
       " 'Faculty-College-Mechanical': 42,\n",
       " 'Faculty-College-E&TC': 43,\n",
       " 'Faculty-College-Electrical': 44,\n",
       " 'Faculty-College-MBA': 45,\n",
       " 'Faculty-College-Engineering-Sciences': 46,\n",
       " 'Research-Projects': 47,\n",
       " 'Student-projects': 48,\n",
       " 'About-MMCOE': 49,\n",
       " 'About-Marathwada Mitramandal': 50,\n",
       " 'About In general': 51,\n",
       " \"Principal's message\": 52,\n",
       " 'Affiliations and Recognitions': 53,\n",
       " 'POLICY/Governance': 54,\n",
       " 'Organization': 55,\n",
       " 'Achievements': 56,\n",
       " 'Deans': 57,\n",
       " 'Dean Student Affairs': 58,\n",
       " 'Dean Administration': 59,\n",
       " 'Deans-Academic': 60,\n",
       " 'Deans- R&D': 61,\n",
       " 'Video of MM group': 62,\n",
       " 'Placement': 63,\n",
       " 'Placement Counseling': 64,\n",
       " 'Placement-Training': 65,\n",
       " 'TPO/KEY Recruiters': 66,\n",
       " 'Departments': 67,\n",
       " 'Available departments': 68,\n",
       " 'Unavailable departments': 69,\n",
       " 'Computer department-cutoff': 70,\n",
       " 'IT Department-cutoff': 71,\n",
       " 'Electrical Department-cutoff': 72,\n",
       " 'E&TC Department-cutoff': 73,\n",
       " 'Mechanical Department-cutoff': 74,\n",
       " 'DSE Computer-cutoff': 75,\n",
       " 'DSE IT-cutoff': 76,\n",
       " 'DSE Electrical-cutoff': 77,\n",
       " 'DSE E&TC-cutoff': 78,\n",
       " 'DSE Mechanical-cutoff': 79,\n",
       " 'ME-cutoff': 80,\n",
       " 'Duration-teaching': 81,\n",
       " 'Way-teaching': 82,\n",
       " 'Exams': 83,\n",
       " 'Assessment': 84,\n",
       " 'Results': 85,\n",
       " 'extra-curricular activities': 86,\n",
       " 'sports-name': 87,\n",
       " 'sport-level': 88,\n",
       " 'sports-conducted': 89,\n",
       " 'fitness-protocol-guidelines': 90,\n",
       " 'nss-activities': 91,\n",
       " 'nss-detail': 92,\n",
       " 'ensemble': 93,\n",
       " 'activities-ensemble': 94,\n",
       " 'cultural-activities': 95,\n",
       " 'objectives-extra-curricular': 96,\n",
       " 'events-extra-curricular': 97,\n",
       " 'gallery': 98,\n",
       " 'students-eligibility-no': 99,\n",
       " 'students-cprn-no': 100,\n",
       " 'code-of-conduct': 101,\n",
       " 'application-format-rules': 102,\n",
       " 'application-for-bonafide-certificate': 103,\n",
       " 'application-for-cgpato%': 104,\n",
       " 'application-for-castevaliditycertificate': 105,\n",
       " 'application-for-feestructurebonafide': 106,\n",
       " 'application-for-transcriptcertificate': 107,\n",
       " 'application-for-migrationlc': 108,\n",
       " 'application-for-character&conduction': 109,\n",
       " 'notice-from-office': 110,\n",
       " 'ieee-student-branch': 111,\n",
       " 'dexterity': 112,\n",
       " 'students-publication-computer': 113,\n",
       " 'students-publication-mechanical': 114,\n",
       " 'students-publication-IT': 115,\n",
       " 'students-publication-Electrical': 116,\n",
       " 'students-publication-E&TC': 117,\n",
       " 'student-club': 118,\n",
       " 'SAE': 119,\n",
       " 'Robocon': 120,\n",
       " 'Zenith': 121,\n",
       " 'Alerios': 122,\n",
       " 'Campus': 123,\n",
       " 'Campus-Library': 124,\n",
       " 'Campus-Laboratories': 125,\n",
       " 'Campus-Classrooms': 126,\n",
       " 'Campus-Hostels': 127,\n",
       " 'Campus-Playground': 128,\n",
       " 'Campus-Gymnasium': 129,\n",
       " 'Campus-Canteen': 130,\n",
       " 'Campus-Maintenance': 131,\n",
       " 'Campus-Feedback': 132,\n",
       " 'Campus-Video': 133}"
      ]
     },
     "execution_count": 17,
     "metadata": {},
     "output_type": "execute_result"
    }
   ],
   "source": [
    "label2id"
   ]
  },
  {
   "cell_type": "markdown",
   "metadata": {},
   "source": [
    "Add converted `label2id` to df2"
   ]
  },
  {
   "cell_type": "code",
   "execution_count": 18,
   "metadata": {},
   "outputs": [
    {
     "data": {
      "text/html": [
       "<div>\n",
       "<style scoped>\n",
       "    .dataframe tbody tr th:only-of-type {\n",
       "        vertical-align: middle;\n",
       "    }\n",
       "\n",
       "    .dataframe tbody tr th {\n",
       "        vertical-align: top;\n",
       "    }\n",
       "\n",
       "    .dataframe thead th {\n",
       "        text-align: right;\n",
       "    }\n",
       "</style>\n",
       "<table border=\"1\" class=\"dataframe\">\n",
       "  <thead>\n",
       "    <tr style=\"text-align: right;\">\n",
       "      <th></th>\n",
       "      <th>Pattern</th>\n",
       "      <th>Tag</th>\n",
       "      <th>labels</th>\n",
       "    </tr>\n",
       "  </thead>\n",
       "  <tbody>\n",
       "    <tr>\n",
       "      <th>0</th>\n",
       "      <td>Hi</td>\n",
       "      <td>greeting</td>\n",
       "      <td>0</td>\n",
       "    </tr>\n",
       "    <tr>\n",
       "      <th>1</th>\n",
       "      <td>Hey</td>\n",
       "      <td>greeting</td>\n",
       "      <td>0</td>\n",
       "    </tr>\n",
       "    <tr>\n",
       "      <th>2</th>\n",
       "      <td>Is anyone there?</td>\n",
       "      <td>greeting</td>\n",
       "      <td>0</td>\n",
       "    </tr>\n",
       "    <tr>\n",
       "      <th>3</th>\n",
       "      <td>Hello</td>\n",
       "      <td>greeting</td>\n",
       "      <td>0</td>\n",
       "    </tr>\n",
       "    <tr>\n",
       "      <th>4</th>\n",
       "      <td>Hey there</td>\n",
       "      <td>greeting</td>\n",
       "      <td>0</td>\n",
       "    </tr>\n",
       "  </tbody>\n",
       "</table>\n",
       "</div>"
      ],
      "text/plain": [
       "            Pattern       Tag  labels\n",
       "0                Hi  greeting       0\n",
       "1               Hey  greeting       0\n",
       "2  Is anyone there?  greeting       0\n",
       "3             Hello  greeting       0\n",
       "4         Hey there  greeting       0"
      ]
     },
     "execution_count": 18,
     "metadata": {},
     "output_type": "execute_result"
    }
   ],
   "source": [
    "df2['labels'] = df2['Tag'].map(lambda x: label2id[x.strip()])\n",
    "df2.head()"
   ]
  },
  {
   "cell_type": "code",
   "execution_count": 19,
   "metadata": {},
   "outputs": [
    {
     "data": {
      "text/plain": [
       "['Hi', 'Hey', 'Is anyone there?', 'Hello', 'Hey there']"
      ]
     },
     "execution_count": 19,
     "metadata": {},
     "output_type": "execute_result"
    }
   ],
   "source": [
    "X=list(df2['Pattern'])\n",
    "X[:5]"
   ]
  },
  {
   "cell_type": "code",
   "execution_count": 20,
   "metadata": {},
   "outputs": [
    {
     "data": {
      "text/plain": [
       "[0, 0, 0, 0, 0]"
      ]
     },
     "execution_count": 20,
     "metadata": {},
     "output_type": "execute_result"
    }
   ],
   "source": [
    "y=list(df2['labels'])\n",
    "y[:5]"
   ]
  },
  {
   "cell_type": "markdown",
   "metadata": {},
   "source": [
    "Define training and test datasets"
   ]
  },
  {
   "cell_type": "code",
   "execution_count": 21,
   "metadata": {},
   "outputs": [],
   "source": [
    "X_train,X_test,y_train,y_test=train_test_split(X,y,random_state=100)"
   ]
  },
  {
   "cell_type": "markdown",
   "metadata": {},
   "source": [
    "Define base model"
   ]
  },
  {
   "cell_type": "code",
   "execution_count": 22,
   "metadata": {},
   "outputs": [],
   "source": [
    "model_name=\"bert-base-uncased\"\n",
    "max_len=256"
   ]
  },
  {
   "cell_type": "markdown",
   "metadata": {},
   "source": [
    "Load tokenizer"
   ]
  },
  {
   "cell_type": "code",
   "execution_count": 23,
   "metadata": {},
   "outputs": [
    {
     "name": "stderr",
     "output_type": "stream",
     "text": [
      "/Users/johnmoses/miniconda3/envs/mconda38/lib/python3.8/site-packages/transformers/tokenization_utils_base.py:1601: FutureWarning: `clean_up_tokenization_spaces` was not set. It will be set to `True` by default. This behavior will be depracted in transformers v4.45, and will be then set to `False` by default. For more details check this issue: https://github.com/huggingface/transformers/issues/31884\n",
      "  warnings.warn(\n"
     ]
    }
   ],
   "source": [
    "tokenizer=BertTokenizer.from_pretrained(model_name,max_length=max_len)"
   ]
  },
  {
   "cell_type": "markdown",
   "metadata": {},
   "source": [
    "Load model"
   ]
  },
  {
   "cell_type": "code",
   "execution_count": 24,
   "metadata": {},
   "outputs": [
    {
     "name": "stderr",
     "output_type": "stream",
     "text": [
      "A parameter name that contains `beta` will be renamed internally to `bias`. Please use a different name to suppress this warning.\n",
      "A parameter name that contains `gamma` will be renamed internally to `weight`. Please use a different name to suppress this warning.\n",
      "A parameter name that contains `beta` will be renamed internally to `bias`. Please use a different name to suppress this warning.\n",
      "A parameter name that contains `gamma` will be renamed internally to `weight`. Please use a different name to suppress this warning.\n",
      "A parameter name that contains `beta` will be renamed internally to `bias`. Please use a different name to suppress this warning.\n",
      "A parameter name that contains `gamma` will be renamed internally to `weight`. Please use a different name to suppress this warning.\n",
      "A parameter name that contains `beta` will be renamed internally to `bias`. Please use a different name to suppress this warning.\n",
      "A parameter name that contains `gamma` will be renamed internally to `weight`. Please use a different name to suppress this warning.\n",
      "A parameter name that contains `beta` will be renamed internally to `bias`. Please use a different name to suppress this warning.\n",
      "A parameter name that contains `gamma` will be renamed internally to `weight`. Please use a different name to suppress this warning.\n",
      "A parameter name that contains `beta` will be renamed internally to `bias`. Please use a different name to suppress this warning.\n",
      "A parameter name that contains `gamma` will be renamed internally to `weight`. Please use a different name to suppress this warning.\n",
      "A parameter name that contains `beta` will be renamed internally to `bias`. Please use a different name to suppress this warning.\n",
      "A parameter name that contains `gamma` will be renamed internally to `weight`. Please use a different name to suppress this warning.\n",
      "A parameter name that contains `beta` will be renamed internally to `bias`. Please use a different name to suppress this warning.\n",
      "A parameter name that contains `gamma` will be renamed internally to `weight`. Please use a different name to suppress this warning.\n",
      "A parameter name that contains `beta` will be renamed internally to `bias`. Please use a different name to suppress this warning.\n",
      "A parameter name that contains `gamma` will be renamed internally to `weight`. Please use a different name to suppress this warning.\n",
      "A parameter name that contains `beta` will be renamed internally to `bias`. Please use a different name to suppress this warning.\n",
      "A parameter name that contains `gamma` will be renamed internally to `weight`. Please use a different name to suppress this warning.\n",
      "A parameter name that contains `beta` will be renamed internally to `bias`. Please use a different name to suppress this warning.\n",
      "A parameter name that contains `gamma` will be renamed internally to `weight`. Please use a different name to suppress this warning.\n",
      "A parameter name that contains `beta` will be renamed internally to `bias`. Please use a different name to suppress this warning.\n",
      "A parameter name that contains `gamma` will be renamed internally to `weight`. Please use a different name to suppress this warning.\n",
      "A parameter name that contains `beta` will be renamed internally to `bias`. Please use a different name to suppress this warning.\n",
      "A parameter name that contains `gamma` will be renamed internally to `weight`. Please use a different name to suppress this warning.\n",
      "A parameter name that contains `beta` will be renamed internally to `bias`. Please use a different name to suppress this warning.\n",
      "A parameter name that contains `gamma` will be renamed internally to `weight`. Please use a different name to suppress this warning.\n",
      "A parameter name that contains `beta` will be renamed internally to `bias`. Please use a different name to suppress this warning.\n",
      "A parameter name that contains `gamma` will be renamed internally to `weight`. Please use a different name to suppress this warning.\n",
      "A parameter name that contains `beta` will be renamed internally to `bias`. Please use a different name to suppress this warning.\n",
      "A parameter name that contains `gamma` will be renamed internally to `weight`. Please use a different name to suppress this warning.\n",
      "A parameter name that contains `beta` will be renamed internally to `bias`. Please use a different name to suppress this warning.\n",
      "A parameter name that contains `gamma` will be renamed internally to `weight`. Please use a different name to suppress this warning.\n",
      "A parameter name that contains `beta` will be renamed internally to `bias`. Please use a different name to suppress this warning.\n",
      "A parameter name that contains `gamma` will be renamed internally to `weight`. Please use a different name to suppress this warning.\n",
      "A parameter name that contains `beta` will be renamed internally to `bias`. Please use a different name to suppress this warning.\n",
      "A parameter name that contains `gamma` will be renamed internally to `weight`. Please use a different name to suppress this warning.\n",
      "A parameter name that contains `beta` will be renamed internally to `bias`. Please use a different name to suppress this warning.\n",
      "A parameter name that contains `gamma` will be renamed internally to `weight`. Please use a different name to suppress this warning.\n",
      "A parameter name that contains `beta` will be renamed internally to `bias`. Please use a different name to suppress this warning.\n",
      "A parameter name that contains `gamma` will be renamed internally to `weight`. Please use a different name to suppress this warning.\n",
      "A parameter name that contains `beta` will be renamed internally to `bias`. Please use a different name to suppress this warning.\n",
      "A parameter name that contains `gamma` will be renamed internally to `weight`. Please use a different name to suppress this warning.\n",
      "A parameter name that contains `beta` will be renamed internally to `bias`. Please use a different name to suppress this warning.\n",
      "A parameter name that contains `gamma` will be renamed internally to `weight`. Please use a different name to suppress this warning.\n",
      "A parameter name that contains `beta` will be renamed internally to `bias`. Please use a different name to suppress this warning.\n",
      "A parameter name that contains `gamma` will be renamed internally to `weight`. Please use a different name to suppress this warning.\n",
      "A parameter name that contains `beta` will be renamed internally to `bias`. Please use a different name to suppress this warning.\n",
      "A parameter name that contains `gamma` will be renamed internally to `weight`. Please use a different name to suppress this warning.\n",
      "A parameter name that contains `beta` will be renamed internally to `bias`. Please use a different name to suppress this warning.\n",
      "A parameter name that contains `gamma` will be renamed internally to `weight`. Please use a different name to suppress this warning.\n",
      "Some weights of BertForSequenceClassification were not initialized from the model checkpoint at bert-base-uncased and are newly initialized: ['classifier.bias', 'classifier.weight']\n",
      "You should probably TRAIN this model on a down-stream task to be able to use it for predictions and inference.\n"
     ]
    }
   ],
   "source": [
    "model=BertForSequenceClassification.from_pretrained(model_name,num_labels=num_labels,id2label=id2label,label2id=label2id)"
   ]
  },
  {
   "cell_type": "markdown",
   "metadata": {},
   "source": [
    "Define encoders"
   ]
  },
  {
   "cell_type": "code",
   "execution_count": 25,
   "metadata": {},
   "outputs": [],
   "source": [
    "train_encoding=tokenizer(X_train,truncation=True,padding=True)\n",
    "test_encoding=tokenizer(X_test,truncation=True,padding=True)"
   ]
  },
  {
   "cell_type": "code",
   "execution_count": 26,
   "metadata": {},
   "outputs": [],
   "source": [
    "full_data = tokenizer(X, truncation=True, padding=True)"
   ]
  },
  {
   "cell_type": "markdown",
   "metadata": {},
   "source": [
    "Data loader"
   ]
  },
  {
   "cell_type": "code",
   "execution_count": 27,
   "metadata": {},
   "outputs": [],
   "source": [
    "class DataLoader(Dataset):\n",
    "    \n",
    "    def __init__(self, encodings, labels):\n",
    "        \n",
    "        self.encodings = encodings\n",
    "        self.labels = labels\n",
    "\n",
    "    def __getitem__(self, idx):\n",
    "               \n",
    "        item = {key: torch.tensor(val[idx]) for key, val in self.encodings.items()}\n",
    "        item['labels'] = torch.tensor(self.labels[idx])\n",
    "        return item\n",
    "\n",
    "    def __len__(self):\n",
    "\n",
    "        return len(self.labels)"
   ]
  },
  {
   "cell_type": "code",
   "execution_count": 28,
   "metadata": {},
   "outputs": [],
   "source": [
    "train_dataloader = DataLoader(train_encoding, y_train)\n",
    "test_dataloader = DataLoader(test_encoding, y_test)"
   ]
  },
  {
   "cell_type": "code",
   "execution_count": 29,
   "metadata": {},
   "outputs": [],
   "source": [
    "fullDataLoader = DataLoader(full_data, y_test)"
   ]
  },
  {
   "cell_type": "code",
   "execution_count": 30,
   "metadata": {},
   "outputs": [],
   "source": [
    "from sklearn.metrics import precision_recall_fscore_support, accuracy_score\n",
    "\n",
    "def compute_metrics(pred):\n",
    "    labels = pred.label_ids  # True labels\n",
    "    preds = pred.predictions.argmax(-1)  # Predicted labels (argmax along the last axis)\n",
    "\n",
    "    # Using precision_recall_fscore_support to compute precision, recall, F1 score\n",
    "    precision, recall, f1, _ = precision_recall_fscore_support(labels, preds, average='macro')\n",
    "\n",
    "    # Using accuracy_score to compute accuracy\n",
    "    acc = accuracy_score(labels, preds)\n",
    "    \n",
    "    # Returning a dictionary containing the computed metrics\n",
    "    return {\n",
    "        'Accuracy': acc,\n",
    "        'F1': f1,\n",
    "        'Precision': precision,\n",
    "        'Recall': recall\n",
    "    }\n"
   ]
  },
  {
   "cell_type": "markdown",
   "metadata": {},
   "source": [
    "Define training arguments"
   ]
  },
  {
   "cell_type": "code",
   "execution_count": 31,
   "metadata": {},
   "outputs": [
    {
     "name": "stderr",
     "output_type": "stream",
     "text": [
      "/Users/johnmoses/miniconda3/envs/mconda38/lib/python3.8/site-packages/transformers/training_args.py:1525: FutureWarning: `evaluation_strategy` is deprecated and will be removed in version 4.46 of 🤗 Transformers. Use `eval_strategy` instead\n",
      "  warnings.warn(\n"
     ]
    }
   ],
   "source": [
    "training_args = TrainingArguments(\n",
    "    output_dir='./output', \n",
    "    do_train=True,\n",
    "    do_eval=True,\n",
    "    num_train_epochs=100,              \n",
    "    per_device_train_batch_size=32,  \n",
    "    per_device_eval_batch_size=16,\n",
    "    warmup_steps=100,                \n",
    "    weight_decay=0.05,\n",
    "    logging_strategy='steps',\n",
    "    logging_dir='./logs',            \n",
    "    logging_steps=50,\n",
    "    evaluation_strategy=\"steps\",\n",
    "    eval_steps=50,\n",
    "    save_strategy=\"steps\", \n",
    "    load_best_model_at_end=True\n",
    ")"
   ]
  },
  {
   "cell_type": "code",
   "execution_count": 32,
   "metadata": {},
   "outputs": [],
   "source": [
    "trainer = Trainer(\n",
    "    model=model,\n",
    "    args=training_args,                 \n",
    "    train_dataset=train_dataloader,         \n",
    "    eval_dataset=test_dataloader,            \n",
    "    compute_metrics= compute_metrics\n",
    ")"
   ]
  },
  {
   "cell_type": "code",
   "execution_count": 33,
   "metadata": {},
   "outputs": [
    {
     "data": {
      "application/vnd.jupyter.widget-view+json": {
       "model_id": "071a8f3de5dd4ce3b3991f1ed134db81",
       "version_major": 2,
       "version_minor": 0
      },
      "text/plain": [
       "  0%|          | 0/2200 [00:00<?, ?it/s]"
      ]
     },
     "metadata": {},
     "output_type": "display_data"
    },
    {
     "name": "stdout",
     "output_type": "stream",
     "text": [
      "{'loss': 4.8776, 'grad_norm': 5.240514278411865, 'learning_rate': 2.5e-05, 'epoch': 2.27}\n"
     ]
    },
    {
     "data": {
      "application/vnd.jupyter.widget-view+json": {
       "model_id": "5b71b1c78fad4709ad3a06a21eed067c",
       "version_major": 2,
       "version_minor": 0
      },
      "text/plain": [
       "  0%|          | 0/15 [00:00<?, ?it/s]"
      ]
     },
     "metadata": {},
     "output_type": "display_data"
    },
    {
     "name": "stderr",
     "output_type": "stream",
     "text": [
      "/Users/johnmoses/miniconda3/envs/mconda38/lib/python3.8/site-packages/sklearn/metrics/_classification.py:1471: UndefinedMetricWarning: Precision and F-score are ill-defined and being set to 0.0 in labels with no predicted samples. Use `zero_division` parameter to control this behavior.\n",
      "  _warn_prf(average, modifier, msg_start, len(result))\n",
      "/Users/johnmoses/miniconda3/envs/mconda38/lib/python3.8/site-packages/sklearn/metrics/_classification.py:1471: UndefinedMetricWarning: Recall and F-score are ill-defined and being set to 0.0 in labels with no true samples. Use `zero_division` parameter to control this behavior.\n",
      "  _warn_prf(average, modifier, msg_start, len(result))\n"
     ]
    },
    {
     "name": "stdout",
     "output_type": "stream",
     "text": [
      "{'eval_loss': 4.767058849334717, 'eval_Accuracy': 0.034934497816593885, 'eval_F1': 0.004294139864609663, 'eval_Precision': 0.0026765009523630214, 'eval_Recall': 0.021212121212121213, 'eval_runtime': 1.3475, 'eval_samples_per_second': 169.945, 'eval_steps_per_second': 11.132, 'epoch': 2.27}\n",
      "{'loss': 4.514, 'grad_norm': 5.23051118850708, 'learning_rate': 5e-05, 'epoch': 4.55}\n"
     ]
    },
    {
     "data": {
      "application/vnd.jupyter.widget-view+json": {
       "model_id": "3a0fd223fba84644a8ec475365c4fe8d",
       "version_major": 2,
       "version_minor": 0
      },
      "text/plain": [
       "  0%|          | 0/15 [00:00<?, ?it/s]"
      ]
     },
     "metadata": {},
     "output_type": "display_data"
    },
    {
     "name": "stderr",
     "output_type": "stream",
     "text": [
      "/Users/johnmoses/miniconda3/envs/mconda38/lib/python3.8/site-packages/sklearn/metrics/_classification.py:1471: UndefinedMetricWarning: Precision and F-score are ill-defined and being set to 0.0 in labels with no predicted samples. Use `zero_division` parameter to control this behavior.\n",
      "  _warn_prf(average, modifier, msg_start, len(result))\n",
      "/Users/johnmoses/miniconda3/envs/mconda38/lib/python3.8/site-packages/sklearn/metrics/_classification.py:1471: UndefinedMetricWarning: Recall and F-score are ill-defined and being set to 0.0 in labels with no true samples. Use `zero_division` parameter to control this behavior.\n",
      "  _warn_prf(average, modifier, msg_start, len(result))\n"
     ]
    },
    {
     "name": "stdout",
     "output_type": "stream",
     "text": [
      "{'eval_loss': 4.323123931884766, 'eval_Accuracy': 0.10480349344978165, 'eval_F1': 0.04019463431305536, 'eval_Precision': 0.050501830978246065, 'eval_Recall': 0.07083333333333333, 'eval_runtime': 0.6937, 'eval_samples_per_second': 330.12, 'eval_steps_per_second': 21.624, 'epoch': 4.55}\n",
      "{'loss': 3.8599, 'grad_norm': 5.501142501831055, 'learning_rate': 4.880952380952381e-05, 'epoch': 6.82}\n"
     ]
    },
    {
     "data": {
      "application/vnd.jupyter.widget-view+json": {
       "model_id": "42e87a4f75e94d35a0af7ef19dbeb5a6",
       "version_major": 2,
       "version_minor": 0
      },
      "text/plain": [
       "  0%|          | 0/15 [00:00<?, ?it/s]"
      ]
     },
     "metadata": {},
     "output_type": "display_data"
    },
    {
     "name": "stderr",
     "output_type": "stream",
     "text": [
      "/Users/johnmoses/miniconda3/envs/mconda38/lib/python3.8/site-packages/sklearn/metrics/_classification.py:1471: UndefinedMetricWarning: Precision and F-score are ill-defined and being set to 0.0 in labels with no predicted samples. Use `zero_division` parameter to control this behavior.\n",
      "  _warn_prf(average, modifier, msg_start, len(result))\n",
      "/Users/johnmoses/miniconda3/envs/mconda38/lib/python3.8/site-packages/sklearn/metrics/_classification.py:1471: UndefinedMetricWarning: Recall and F-score are ill-defined and being set to 0.0 in labels with no true samples. Use `zero_division` parameter to control this behavior.\n",
      "  _warn_prf(average, modifier, msg_start, len(result))\n"
     ]
    },
    {
     "name": "stdout",
     "output_type": "stream",
     "text": [
      "{'eval_loss': 3.6803367137908936, 'eval_Accuracy': 0.22707423580786026, 'eval_F1': 0.13135537768379152, 'eval_Precision': 0.12932425793155625, 'eval_Recall': 0.19336569579288027, 'eval_runtime': 0.6483, 'eval_samples_per_second': 353.221, 'eval_steps_per_second': 23.137, 'epoch': 6.82}\n",
      "{'loss': 3.0407, 'grad_norm': 4.611559867858887, 'learning_rate': 4.761904761904762e-05, 'epoch': 9.09}\n"
     ]
    },
    {
     "data": {
      "application/vnd.jupyter.widget-view+json": {
       "model_id": "767076a280724feab044c262a0d9695b",
       "version_major": 2,
       "version_minor": 0
      },
      "text/plain": [
       "  0%|          | 0/15 [00:00<?, ?it/s]"
      ]
     },
     "metadata": {},
     "output_type": "display_data"
    },
    {
     "name": "stderr",
     "output_type": "stream",
     "text": [
      "/Users/johnmoses/miniconda3/envs/mconda38/lib/python3.8/site-packages/sklearn/metrics/_classification.py:1471: UndefinedMetricWarning: Precision and F-score are ill-defined and being set to 0.0 in labels with no predicted samples. Use `zero_division` parameter to control this behavior.\n",
      "  _warn_prf(average, modifier, msg_start, len(result))\n",
      "/Users/johnmoses/miniconda3/envs/mconda38/lib/python3.8/site-packages/sklearn/metrics/_classification.py:1471: UndefinedMetricWarning: Recall and F-score are ill-defined and being set to 0.0 in labels with no true samples. Use `zero_division` parameter to control this behavior.\n",
      "  _warn_prf(average, modifier, msg_start, len(result))\n"
     ]
    },
    {
     "name": "stdout",
     "output_type": "stream",
     "text": [
      "{'eval_loss': 2.956373453140259, 'eval_Accuracy': 0.44541484716157204, 'eval_F1': 0.316137037565609, 'eval_Precision': 0.35515632515632517, 'eval_Recall': 0.3712018140589569, 'eval_runtime': 0.6988, 'eval_samples_per_second': 327.717, 'eval_steps_per_second': 21.466, 'epoch': 9.09}\n",
      "{'loss': 2.2375, 'grad_norm': 4.4825239181518555, 'learning_rate': 4.642857142857143e-05, 'epoch': 11.36}\n"
     ]
    },
    {
     "data": {
      "application/vnd.jupyter.widget-view+json": {
       "model_id": "d182d688f16648e69d451f6f48134513",
       "version_major": 2,
       "version_minor": 0
      },
      "text/plain": [
       "  0%|          | 0/15 [00:00<?, ?it/s]"
      ]
     },
     "metadata": {},
     "output_type": "display_data"
    },
    {
     "name": "stderr",
     "output_type": "stream",
     "text": [
      "/Users/johnmoses/miniconda3/envs/mconda38/lib/python3.8/site-packages/sklearn/metrics/_classification.py:1471: UndefinedMetricWarning: Precision and F-score are ill-defined and being set to 0.0 in labels with no predicted samples. Use `zero_division` parameter to control this behavior.\n",
      "  _warn_prf(average, modifier, msg_start, len(result))\n",
      "/Users/johnmoses/miniconda3/envs/mconda38/lib/python3.8/site-packages/sklearn/metrics/_classification.py:1471: UndefinedMetricWarning: Recall and F-score are ill-defined and being set to 0.0 in labels with no true samples. Use `zero_division` parameter to control this behavior.\n",
      "  _warn_prf(average, modifier, msg_start, len(result))\n"
     ]
    },
    {
     "name": "stdout",
     "output_type": "stream",
     "text": [
      "{'eval_loss': 2.36291241645813, 'eval_Accuracy': 0.5633187772925764, 'eval_F1': 0.43003429592214637, 'eval_Precision': 0.4323134549770064, 'eval_Recall': 0.48348909657320865, 'eval_runtime': 0.6703, 'eval_samples_per_second': 341.641, 'eval_steps_per_second': 22.378, 'epoch': 11.36}\n",
      "{'loss': 1.6221, 'grad_norm': 3.1862645149230957, 'learning_rate': 4.523809523809524e-05, 'epoch': 13.64}\n"
     ]
    },
    {
     "data": {
      "application/vnd.jupyter.widget-view+json": {
       "model_id": "0f0d6ca18ffe47a8af565953d6efbb06",
       "version_major": 2,
       "version_minor": 0
      },
      "text/plain": [
       "  0%|          | 0/15 [00:00<?, ?it/s]"
      ]
     },
     "metadata": {},
     "output_type": "display_data"
    },
    {
     "name": "stderr",
     "output_type": "stream",
     "text": [
      "/Users/johnmoses/miniconda3/envs/mconda38/lib/python3.8/site-packages/sklearn/metrics/_classification.py:1471: UndefinedMetricWarning: Precision and F-score are ill-defined and being set to 0.0 in labels with no predicted samples. Use `zero_division` parameter to control this behavior.\n",
      "  _warn_prf(average, modifier, msg_start, len(result))\n",
      "/Users/johnmoses/miniconda3/envs/mconda38/lib/python3.8/site-packages/sklearn/metrics/_classification.py:1471: UndefinedMetricWarning: Recall and F-score are ill-defined and being set to 0.0 in labels with no true samples. Use `zero_division` parameter to control this behavior.\n",
      "  _warn_prf(average, modifier, msg_start, len(result))\n"
     ]
    },
    {
     "name": "stdout",
     "output_type": "stream",
     "text": [
      "{'eval_loss': 1.9014685153961182, 'eval_Accuracy': 0.6899563318777293, 'eval_F1': 0.553119822564267, 'eval_Precision': 0.5570987654320988, 'eval_Recall': 0.5864417989417989, 'eval_runtime': 0.6921, 'eval_samples_per_second': 330.891, 'eval_steps_per_second': 21.674, 'epoch': 13.64}\n",
      "{'loss': 1.1538, 'grad_norm': 3.063471555709839, 'learning_rate': 4.404761904761905e-05, 'epoch': 15.91}\n"
     ]
    },
    {
     "data": {
      "application/vnd.jupyter.widget-view+json": {
       "model_id": "55c2a791fdaa4117ac23d2b5af612451",
       "version_major": 2,
       "version_minor": 0
      },
      "text/plain": [
       "  0%|          | 0/15 [00:00<?, ?it/s]"
      ]
     },
     "metadata": {},
     "output_type": "display_data"
    },
    {
     "name": "stderr",
     "output_type": "stream",
     "text": [
      "/Users/johnmoses/miniconda3/envs/mconda38/lib/python3.8/site-packages/sklearn/metrics/_classification.py:1471: UndefinedMetricWarning: Precision and F-score are ill-defined and being set to 0.0 in labels with no predicted samples. Use `zero_division` parameter to control this behavior.\n",
      "  _warn_prf(average, modifier, msg_start, len(result))\n",
      "/Users/johnmoses/miniconda3/envs/mconda38/lib/python3.8/site-packages/sklearn/metrics/_classification.py:1471: UndefinedMetricWarning: Recall and F-score are ill-defined and being set to 0.0 in labels with no true samples. Use `zero_division` parameter to control this behavior.\n",
      "  _warn_prf(average, modifier, msg_start, len(result))\n"
     ]
    },
    {
     "name": "stdout",
     "output_type": "stream",
     "text": [
      "{'eval_loss': 1.5489848852157593, 'eval_Accuracy': 0.7467248908296943, 'eval_F1': 0.6338009861374346, 'eval_Precision': 0.6399755229194481, 'eval_Recall': 0.6563417890520695, 'eval_runtime': 0.6742, 'eval_samples_per_second': 339.652, 'eval_steps_per_second': 22.248, 'epoch': 15.91}\n",
      "{'loss': 0.8042, 'grad_norm': 2.3797619342803955, 'learning_rate': 4.2857142857142856e-05, 'epoch': 18.18}\n"
     ]
    },
    {
     "data": {
      "application/vnd.jupyter.widget-view+json": {
       "model_id": "9744755dbf784abda3abda6f7027b305",
       "version_major": 2,
       "version_minor": 0
      },
      "text/plain": [
       "  0%|          | 0/15 [00:00<?, ?it/s]"
      ]
     },
     "metadata": {},
     "output_type": "display_data"
    },
    {
     "name": "stderr",
     "output_type": "stream",
     "text": [
      "/Users/johnmoses/miniconda3/envs/mconda38/lib/python3.8/site-packages/sklearn/metrics/_classification.py:1471: UndefinedMetricWarning: Precision and F-score are ill-defined and being set to 0.0 in labels with no predicted samples. Use `zero_division` parameter to control this behavior.\n",
      "  _warn_prf(average, modifier, msg_start, len(result))\n",
      "/Users/johnmoses/miniconda3/envs/mconda38/lib/python3.8/site-packages/sklearn/metrics/_classification.py:1471: UndefinedMetricWarning: Recall and F-score are ill-defined and being set to 0.0 in labels with no true samples. Use `zero_division` parameter to control this behavior.\n",
      "  _warn_prf(average, modifier, msg_start, len(result))\n"
     ]
    },
    {
     "name": "stdout",
     "output_type": "stream",
     "text": [
      "{'eval_loss': 1.2834683656692505, 'eval_Accuracy': 0.7685589519650655, 'eval_F1': 0.6545359252906423, 'eval_Precision': 0.6631027253668763, 'eval_Recall': 0.6758984725965859, 'eval_runtime': 0.6543, 'eval_samples_per_second': 350.017, 'eval_steps_per_second': 22.927, 'epoch': 18.18}\n",
      "{'loss': 0.5807, 'grad_norm': 2.1765284538269043, 'learning_rate': 4.166666666666667e-05, 'epoch': 20.45}\n"
     ]
    },
    {
     "data": {
      "application/vnd.jupyter.widget-view+json": {
       "model_id": "7a17cea8c5f54e64a1d12d8432404f8a",
       "version_major": 2,
       "version_minor": 0
      },
      "text/plain": [
       "  0%|          | 0/15 [00:00<?, ?it/s]"
      ]
     },
     "metadata": {},
     "output_type": "display_data"
    },
    {
     "name": "stderr",
     "output_type": "stream",
     "text": [
      "/Users/johnmoses/miniconda3/envs/mconda38/lib/python3.8/site-packages/sklearn/metrics/_classification.py:1471: UndefinedMetricWarning: Precision and F-score are ill-defined and being set to 0.0 in labels with no predicted samples. Use `zero_division` parameter to control this behavior.\n",
      "  _warn_prf(average, modifier, msg_start, len(result))\n",
      "/Users/johnmoses/miniconda3/envs/mconda38/lib/python3.8/site-packages/sklearn/metrics/_classification.py:1471: UndefinedMetricWarning: Recall and F-score are ill-defined and being set to 0.0 in labels with no true samples. Use `zero_division` parameter to control this behavior.\n",
      "  _warn_prf(average, modifier, msg_start, len(result))\n"
     ]
    },
    {
     "name": "stdout",
     "output_type": "stream",
     "text": [
      "{'eval_loss': 1.1259993314743042, 'eval_Accuracy': 0.7729257641921398, 'eval_F1': 0.6801679452622849, 'eval_Precision': 0.6887690925426775, 'eval_Recall': 0.6983827493261455, 'eval_runtime': 0.6605, 'eval_samples_per_second': 346.706, 'eval_steps_per_second': 22.71, 'epoch': 20.45}\n",
      "{'loss': 0.4084, 'grad_norm': 1.2104610204696655, 'learning_rate': 4.047619047619048e-05, 'epoch': 22.73}\n"
     ]
    },
    {
     "data": {
      "application/vnd.jupyter.widget-view+json": {
       "model_id": "c67e7d788dc742a7a1a87ced08b87c87",
       "version_major": 2,
       "version_minor": 0
      },
      "text/plain": [
       "  0%|          | 0/15 [00:00<?, ?it/s]"
      ]
     },
     "metadata": {},
     "output_type": "display_data"
    },
    {
     "name": "stderr",
     "output_type": "stream",
     "text": [
      "/Users/johnmoses/miniconda3/envs/mconda38/lib/python3.8/site-packages/sklearn/metrics/_classification.py:1471: UndefinedMetricWarning: Precision and F-score are ill-defined and being set to 0.0 in labels with no predicted samples. Use `zero_division` parameter to control this behavior.\n",
      "  _warn_prf(average, modifier, msg_start, len(result))\n",
      "/Users/johnmoses/miniconda3/envs/mconda38/lib/python3.8/site-packages/sklearn/metrics/_classification.py:1471: UndefinedMetricWarning: Recall and F-score are ill-defined and being set to 0.0 in labels with no true samples. Use `zero_division` parameter to control this behavior.\n",
      "  _warn_prf(average, modifier, msg_start, len(result))\n"
     ]
    },
    {
     "name": "stdout",
     "output_type": "stream",
     "text": [
      "{'eval_loss': 1.0223029851913452, 'eval_Accuracy': 0.7991266375545851, 'eval_F1': 0.7206470345893423, 'eval_Precision': 0.7353708791208791, 'eval_Recall': 0.7468177655677656, 'eval_runtime': 0.7478, 'eval_samples_per_second': 306.228, 'eval_steps_per_second': 20.059, 'epoch': 22.73}\n",
      "{'loss': 0.3176, 'grad_norm': 2.4511306285858154, 'learning_rate': 3.928571428571429e-05, 'epoch': 25.0}\n"
     ]
    },
    {
     "data": {
      "application/vnd.jupyter.widget-view+json": {
       "model_id": "1de8608a762a4d189c8cbf3b618ff865",
       "version_major": 2,
       "version_minor": 0
      },
      "text/plain": [
       "  0%|          | 0/15 [00:00<?, ?it/s]"
      ]
     },
     "metadata": {},
     "output_type": "display_data"
    },
    {
     "name": "stderr",
     "output_type": "stream",
     "text": [
      "/Users/johnmoses/miniconda3/envs/mconda38/lib/python3.8/site-packages/sklearn/metrics/_classification.py:1471: UndefinedMetricWarning: Precision and F-score are ill-defined and being set to 0.0 in labels with no predicted samples. Use `zero_division` parameter to control this behavior.\n",
      "  _warn_prf(average, modifier, msg_start, len(result))\n",
      "/Users/johnmoses/miniconda3/envs/mconda38/lib/python3.8/site-packages/sklearn/metrics/_classification.py:1471: UndefinedMetricWarning: Recall and F-score are ill-defined and being set to 0.0 in labels with no true samples. Use `zero_division` parameter to control this behavior.\n",
      "  _warn_prf(average, modifier, msg_start, len(result))\n"
     ]
    },
    {
     "name": "stdout",
     "output_type": "stream",
     "text": [
      "{'eval_loss': 0.9291858673095703, 'eval_Accuracy': 0.8165938864628821, 'eval_F1': 0.7499649756931309, 'eval_Precision': 0.7611650485436894, 'eval_Recall': 0.7678224687933426, 'eval_runtime': 0.6933, 'eval_samples_per_second': 330.309, 'eval_steps_per_second': 21.636, 'epoch': 25.0}\n",
      "{'loss': 0.2394, 'grad_norm': 1.4110783338546753, 'learning_rate': 3.809523809523809e-05, 'epoch': 27.27}\n"
     ]
    },
    {
     "data": {
      "application/vnd.jupyter.widget-view+json": {
       "model_id": "f188fbbc3b824b3386a020f007a742c3",
       "version_major": 2,
       "version_minor": 0
      },
      "text/plain": [
       "  0%|          | 0/15 [00:00<?, ?it/s]"
      ]
     },
     "metadata": {},
     "output_type": "display_data"
    },
    {
     "name": "stderr",
     "output_type": "stream",
     "text": [
      "/Users/johnmoses/miniconda3/envs/mconda38/lib/python3.8/site-packages/sklearn/metrics/_classification.py:1471: UndefinedMetricWarning: Precision and F-score are ill-defined and being set to 0.0 in labels with no predicted samples. Use `zero_division` parameter to control this behavior.\n",
      "  _warn_prf(average, modifier, msg_start, len(result))\n",
      "/Users/johnmoses/miniconda3/envs/mconda38/lib/python3.8/site-packages/sklearn/metrics/_classification.py:1471: UndefinedMetricWarning: Recall and F-score are ill-defined and being set to 0.0 in labels with no true samples. Use `zero_division` parameter to control this behavior.\n",
      "  _warn_prf(average, modifier, msg_start, len(result))\n"
     ]
    },
    {
     "name": "stdout",
     "output_type": "stream",
     "text": [
      "{'eval_loss': 0.8902250528335571, 'eval_Accuracy': 0.8165938864628821, 'eval_F1': 0.7370507799079229, 'eval_Precision': 0.7476190476190476, 'eval_Recall': 0.7490022675736961, 'eval_runtime': 0.7157, 'eval_samples_per_second': 319.98, 'eval_steps_per_second': 20.959, 'epoch': 27.27}\n",
      "{'loss': 0.1956, 'grad_norm': 1.6297471523284912, 'learning_rate': 3.690476190476191e-05, 'epoch': 29.55}\n"
     ]
    },
    {
     "data": {
      "application/vnd.jupyter.widget-view+json": {
       "model_id": "f770b87ab5d6488ebf3c4fddd15b77eb",
       "version_major": 2,
       "version_minor": 0
      },
      "text/plain": [
       "  0%|          | 0/15 [00:00<?, ?it/s]"
      ]
     },
     "metadata": {},
     "output_type": "display_data"
    },
    {
     "name": "stderr",
     "output_type": "stream",
     "text": [
      "/Users/johnmoses/miniconda3/envs/mconda38/lib/python3.8/site-packages/sklearn/metrics/_classification.py:1471: UndefinedMetricWarning: Precision and F-score are ill-defined and being set to 0.0 in labels with no predicted samples. Use `zero_division` parameter to control this behavior.\n",
      "  _warn_prf(average, modifier, msg_start, len(result))\n",
      "/Users/johnmoses/miniconda3/envs/mconda38/lib/python3.8/site-packages/sklearn/metrics/_classification.py:1471: UndefinedMetricWarning: Recall and F-score are ill-defined and being set to 0.0 in labels with no true samples. Use `zero_division` parameter to control this behavior.\n",
      "  _warn_prf(average, modifier, msg_start, len(result))\n"
     ]
    },
    {
     "name": "stdout",
     "output_type": "stream",
     "text": [
      "{'eval_loss': 0.8631446957588196, 'eval_Accuracy': 0.8209606986899564, 'eval_F1': 0.7607815931345342, 'eval_Precision': 0.7648692810457516, 'eval_Recall': 0.7824696545284782, 'eval_runtime': 0.787, 'eval_samples_per_second': 290.97, 'eval_steps_per_second': 19.059, 'epoch': 29.55}\n",
      "{'loss': 0.1591, 'grad_norm': 1.2028167247772217, 'learning_rate': 3.571428571428572e-05, 'epoch': 31.82}\n"
     ]
    },
    {
     "data": {
      "application/vnd.jupyter.widget-view+json": {
       "model_id": "2330acd7ba724e08a560e43a6d1410f2",
       "version_major": 2,
       "version_minor": 0
      },
      "text/plain": [
       "  0%|          | 0/15 [00:00<?, ?it/s]"
      ]
     },
     "metadata": {},
     "output_type": "display_data"
    },
    {
     "name": "stderr",
     "output_type": "stream",
     "text": [
      "/Users/johnmoses/miniconda3/envs/mconda38/lib/python3.8/site-packages/sklearn/metrics/_classification.py:1471: UndefinedMetricWarning: Precision and F-score are ill-defined and being set to 0.0 in labels with no predicted samples. Use `zero_division` parameter to control this behavior.\n",
      "  _warn_prf(average, modifier, msg_start, len(result))\n",
      "/Users/johnmoses/miniconda3/envs/mconda38/lib/python3.8/site-packages/sklearn/metrics/_classification.py:1471: UndefinedMetricWarning: Recall and F-score are ill-defined and being set to 0.0 in labels with no true samples. Use `zero_division` parameter to control this behavior.\n",
      "  _warn_prf(average, modifier, msg_start, len(result))\n"
     ]
    },
    {
     "name": "stdout",
     "output_type": "stream",
     "text": [
      "{'eval_loss': 0.8242508172988892, 'eval_Accuracy': 0.8296943231441049, 'eval_F1': 0.7718133718133717, 'eval_Precision': 0.7803454715219422, 'eval_Recall': 0.7873716153127919, 'eval_runtime': 0.7191, 'eval_samples_per_second': 318.435, 'eval_steps_per_second': 20.858, 'epoch': 31.82}\n",
      "{'loss': 0.144, 'grad_norm': 1.435449481010437, 'learning_rate': 3.4523809523809526e-05, 'epoch': 34.09}\n"
     ]
    },
    {
     "data": {
      "application/vnd.jupyter.widget-view+json": {
       "model_id": "87316ef46e7846128fb9bafc7a8ac168",
       "version_major": 2,
       "version_minor": 0
      },
      "text/plain": [
       "  0%|          | 0/15 [00:00<?, ?it/s]"
      ]
     },
     "metadata": {},
     "output_type": "display_data"
    },
    {
     "name": "stderr",
     "output_type": "stream",
     "text": [
      "/Users/johnmoses/miniconda3/envs/mconda38/lib/python3.8/site-packages/sklearn/metrics/_classification.py:1471: UndefinedMetricWarning: Precision and F-score are ill-defined and being set to 0.0 in labels with no predicted samples. Use `zero_division` parameter to control this behavior.\n",
      "  _warn_prf(average, modifier, msg_start, len(result))\n",
      "/Users/johnmoses/miniconda3/envs/mconda38/lib/python3.8/site-packages/sklearn/metrics/_classification.py:1471: UndefinedMetricWarning: Recall and F-score are ill-defined and being set to 0.0 in labels with no true samples. Use `zero_division` parameter to control this behavior.\n",
      "  _warn_prf(average, modifier, msg_start, len(result))\n"
     ]
    },
    {
     "name": "stdout",
     "output_type": "stream",
     "text": [
      "{'eval_loss': 0.7966517806053162, 'eval_Accuracy': 0.8384279475982532, 'eval_F1': 0.7755439549557196, 'eval_Precision': 0.7893323996265174, 'eval_Recall': 0.7922735760971056, 'eval_runtime': 0.6848, 'eval_samples_per_second': 334.427, 'eval_steps_per_second': 21.906, 'epoch': 34.09}\n",
      "{'loss': 0.1191, 'grad_norm': 1.031904935836792, 'learning_rate': 3.3333333333333335e-05, 'epoch': 36.36}\n"
     ]
    },
    {
     "data": {
      "application/vnd.jupyter.widget-view+json": {
       "model_id": "6b21457822564c7cbd629e3a8086a591",
       "version_major": 2,
       "version_minor": 0
      },
      "text/plain": [
       "  0%|          | 0/15 [00:00<?, ?it/s]"
      ]
     },
     "metadata": {},
     "output_type": "display_data"
    },
    {
     "name": "stderr",
     "output_type": "stream",
     "text": [
      "/Users/johnmoses/miniconda3/envs/mconda38/lib/python3.8/site-packages/sklearn/metrics/_classification.py:1471: UndefinedMetricWarning: Precision and F-score are ill-defined and being set to 0.0 in labels with no predicted samples. Use `zero_division` parameter to control this behavior.\n",
      "  _warn_prf(average, modifier, msg_start, len(result))\n",
      "/Users/johnmoses/miniconda3/envs/mconda38/lib/python3.8/site-packages/sklearn/metrics/_classification.py:1471: UndefinedMetricWarning: Recall and F-score are ill-defined and being set to 0.0 in labels with no true samples. Use `zero_division` parameter to control this behavior.\n",
      "  _warn_prf(average, modifier, msg_start, len(result))\n"
     ]
    },
    {
     "name": "stdout",
     "output_type": "stream",
     "text": [
      "{'eval_loss': 0.7989042401313782, 'eval_Accuracy': 0.8384279475982532, 'eval_F1': 0.7787632846456375, 'eval_Precision': 0.7949813258636789, 'eval_Recall': 0.7930905695611576, 'eval_runtime': 0.6992, 'eval_samples_per_second': 327.504, 'eval_steps_per_second': 21.452, 'epoch': 36.36}\n",
      "{'loss': 0.1093, 'grad_norm': 0.39999523758888245, 'learning_rate': 3.2142857142857144e-05, 'epoch': 38.64}\n"
     ]
    },
    {
     "data": {
      "application/vnd.jupyter.widget-view+json": {
       "model_id": "c6dc2150e7c74414944724cc97400cd1",
       "version_major": 2,
       "version_minor": 0
      },
      "text/plain": [
       "  0%|          | 0/15 [00:00<?, ?it/s]"
      ]
     },
     "metadata": {},
     "output_type": "display_data"
    },
    {
     "name": "stderr",
     "output_type": "stream",
     "text": [
      "/Users/johnmoses/miniconda3/envs/mconda38/lib/python3.8/site-packages/sklearn/metrics/_classification.py:1471: UndefinedMetricWarning: Precision and F-score are ill-defined and being set to 0.0 in labels with no predicted samples. Use `zero_division` parameter to control this behavior.\n",
      "  _warn_prf(average, modifier, msg_start, len(result))\n",
      "/Users/johnmoses/miniconda3/envs/mconda38/lib/python3.8/site-packages/sklearn/metrics/_classification.py:1471: UndefinedMetricWarning: Recall and F-score are ill-defined and being set to 0.0 in labels with no true samples. Use `zero_division` parameter to control this behavior.\n",
      "  _warn_prf(average, modifier, msg_start, len(result))\n"
     ]
    },
    {
     "name": "stdout",
     "output_type": "stream",
     "text": [
      "{'eval_loss': 0.7953278422355652, 'eval_Accuracy': 0.8471615720524017, 'eval_F1': 0.7817842288430524, 'eval_Precision': 0.7911297852474323, 'eval_Recall': 0.7979925303454715, 'eval_runtime': 0.6912, 'eval_samples_per_second': 331.297, 'eval_steps_per_second': 21.701, 'epoch': 38.64}\n",
      "{'loss': 0.1055, 'grad_norm': 1.3252975940704346, 'learning_rate': 3.095238095238095e-05, 'epoch': 40.91}\n"
     ]
    },
    {
     "data": {
      "application/vnd.jupyter.widget-view+json": {
       "model_id": "630c162a64a64792a597a149d9802f59",
       "version_major": 2,
       "version_minor": 0
      },
      "text/plain": [
       "  0%|          | 0/15 [00:00<?, ?it/s]"
      ]
     },
     "metadata": {},
     "output_type": "display_data"
    },
    {
     "name": "stderr",
     "output_type": "stream",
     "text": [
      "/Users/johnmoses/miniconda3/envs/mconda38/lib/python3.8/site-packages/sklearn/metrics/_classification.py:1471: UndefinedMetricWarning: Precision and F-score are ill-defined and being set to 0.0 in labels with no predicted samples. Use `zero_division` parameter to control this behavior.\n",
      "  _warn_prf(average, modifier, msg_start, len(result))\n",
      "/Users/johnmoses/miniconda3/envs/mconda38/lib/python3.8/site-packages/sklearn/metrics/_classification.py:1471: UndefinedMetricWarning: Recall and F-score are ill-defined and being set to 0.0 in labels with no true samples. Use `zero_division` parameter to control this behavior.\n",
      "  _warn_prf(average, modifier, msg_start, len(result))\n"
     ]
    },
    {
     "name": "stdout",
     "output_type": "stream",
     "text": [
      "{'eval_loss': 0.7934222221374512, 'eval_Accuracy': 0.8384279475982532, 'eval_F1': 0.7791535806241688, 'eval_Precision': 0.7916666666666669, 'eval_Recall': 0.7930905695611576, 'eval_runtime': 0.7215, 'eval_samples_per_second': 317.383, 'eval_steps_per_second': 20.789, 'epoch': 40.91}\n",
      "{'loss': 0.1016, 'grad_norm': 0.5957934856414795, 'learning_rate': 2.9761904761904762e-05, 'epoch': 43.18}\n"
     ]
    },
    {
     "data": {
      "application/vnd.jupyter.widget-view+json": {
       "model_id": "e338e19ec715417ab579a75aa9450d50",
       "version_major": 2,
       "version_minor": 0
      },
      "text/plain": [
       "  0%|          | 0/15 [00:00<?, ?it/s]"
      ]
     },
     "metadata": {},
     "output_type": "display_data"
    },
    {
     "name": "stderr",
     "output_type": "stream",
     "text": [
      "/Users/johnmoses/miniconda3/envs/mconda38/lib/python3.8/site-packages/sklearn/metrics/_classification.py:1471: UndefinedMetricWarning: Precision and F-score are ill-defined and being set to 0.0 in labels with no predicted samples. Use `zero_division` parameter to control this behavior.\n",
      "  _warn_prf(average, modifier, msg_start, len(result))\n",
      "/Users/johnmoses/miniconda3/envs/mconda38/lib/python3.8/site-packages/sklearn/metrics/_classification.py:1471: UndefinedMetricWarning: Recall and F-score are ill-defined and being set to 0.0 in labels with no true samples. Use `zero_division` parameter to control this behavior.\n",
      "  _warn_prf(average, modifier, msg_start, len(result))\n"
     ]
    },
    {
     "name": "stdout",
     "output_type": "stream",
     "text": [
      "{'eval_loss': 0.7864994406700134, 'eval_Accuracy': 0.8384279475982532, 'eval_F1': 0.7962196219621962, 'eval_Precision': 0.8095238095238096, 'eval_Recall': 0.8083686940122583, 'eval_runtime': 0.7384, 'eval_samples_per_second': 310.149, 'eval_steps_per_second': 20.315, 'epoch': 43.18}\n",
      "{'loss': 0.0978, 'grad_norm': 1.2242313623428345, 'learning_rate': 2.857142857142857e-05, 'epoch': 45.45}\n"
     ]
    },
    {
     "data": {
      "application/vnd.jupyter.widget-view+json": {
       "model_id": "894ced7f3bec45e69f135231b7db5300",
       "version_major": 2,
       "version_minor": 0
      },
      "text/plain": [
       "  0%|          | 0/15 [00:00<?, ?it/s]"
      ]
     },
     "metadata": {},
     "output_type": "display_data"
    },
    {
     "name": "stderr",
     "output_type": "stream",
     "text": [
      "/Users/johnmoses/miniconda3/envs/mconda38/lib/python3.8/site-packages/sklearn/metrics/_classification.py:1471: UndefinedMetricWarning: Precision and F-score are ill-defined and being set to 0.0 in labels with no predicted samples. Use `zero_division` parameter to control this behavior.\n",
      "  _warn_prf(average, modifier, msg_start, len(result))\n",
      "/Users/johnmoses/miniconda3/envs/mconda38/lib/python3.8/site-packages/sklearn/metrics/_classification.py:1471: UndefinedMetricWarning: Recall and F-score are ill-defined and being set to 0.0 in labels with no true samples. Use `zero_division` parameter to control this behavior.\n",
      "  _warn_prf(average, modifier, msg_start, len(result))\n"
     ]
    },
    {
     "name": "stdout",
     "output_type": "stream",
     "text": [
      "{'eval_loss': 0.8056041598320007, 'eval_Accuracy': 0.834061135371179, 'eval_F1': 0.7887510179589388, 'eval_Precision': 0.8014380009429516, 'eval_Recall': 0.8063884959924564, 'eval_runtime': 0.6761, 'eval_samples_per_second': 338.687, 'eval_steps_per_second': 22.185, 'epoch': 45.45}\n",
      "{'loss': 0.0781, 'grad_norm': 1.0922659635543823, 'learning_rate': 2.7380952380952383e-05, 'epoch': 47.73}\n"
     ]
    },
    {
     "data": {
      "application/vnd.jupyter.widget-view+json": {
       "model_id": "7b7cd3fff26843c68beb807876a07075",
       "version_major": 2,
       "version_minor": 0
      },
      "text/plain": [
       "  0%|          | 0/15 [00:00<?, ?it/s]"
      ]
     },
     "metadata": {},
     "output_type": "display_data"
    },
    {
     "name": "stderr",
     "output_type": "stream",
     "text": [
      "/Users/johnmoses/miniconda3/envs/mconda38/lib/python3.8/site-packages/sklearn/metrics/_classification.py:1471: UndefinedMetricWarning: Precision and F-score are ill-defined and being set to 0.0 in labels with no predicted samples. Use `zero_division` parameter to control this behavior.\n",
      "  _warn_prf(average, modifier, msg_start, len(result))\n",
      "/Users/johnmoses/miniconda3/envs/mconda38/lib/python3.8/site-packages/sklearn/metrics/_classification.py:1471: UndefinedMetricWarning: Recall and F-score are ill-defined and being set to 0.0 in labels with no true samples. Use `zero_division` parameter to control this behavior.\n",
      "  _warn_prf(average, modifier, msg_start, len(result))\n"
     ]
    },
    {
     "name": "stdout",
     "output_type": "stream",
     "text": [
      "{'eval_loss': 0.8024114370346069, 'eval_Accuracy': 0.851528384279476, 'eval_F1': 0.8020187733059021, 'eval_Precision': 0.8110089580386611, 'eval_Recall': 0.8157944365865157, 'eval_runtime': 0.6954, 'eval_samples_per_second': 329.328, 'eval_steps_per_second': 21.572, 'epoch': 47.73}\n",
      "{'loss': 0.09, 'grad_norm': 0.27247709035873413, 'learning_rate': 2.6190476190476192e-05, 'epoch': 50.0}\n"
     ]
    },
    {
     "data": {
      "application/vnd.jupyter.widget-view+json": {
       "model_id": "0ba417208969433e86fcf2d4bb763add",
       "version_major": 2,
       "version_minor": 0
      },
      "text/plain": [
       "  0%|          | 0/15 [00:00<?, ?it/s]"
      ]
     },
     "metadata": {},
     "output_type": "display_data"
    },
    {
     "name": "stderr",
     "output_type": "stream",
     "text": [
      "/Users/johnmoses/miniconda3/envs/mconda38/lib/python3.8/site-packages/sklearn/metrics/_classification.py:1471: UndefinedMetricWarning: Precision and F-score are ill-defined and being set to 0.0 in labels with no predicted samples. Use `zero_division` parameter to control this behavior.\n",
      "  _warn_prf(average, modifier, msg_start, len(result))\n",
      "/Users/johnmoses/miniconda3/envs/mconda38/lib/python3.8/site-packages/sklearn/metrics/_classification.py:1471: UndefinedMetricWarning: Recall and F-score are ill-defined and being set to 0.0 in labels with no true samples. Use `zero_division` parameter to control this behavior.\n",
      "  _warn_prf(average, modifier, msg_start, len(result))\n"
     ]
    },
    {
     "name": "stdout",
     "output_type": "stream",
     "text": [
      "{'eval_loss': 0.8115273118019104, 'eval_Accuracy': 0.851528384279476, 'eval_F1': 0.8027538468132527, 'eval_Precision': 0.8123290900518624, 'eval_Recall': 0.8187647336162188, 'eval_runtime': 0.7525, 'eval_samples_per_second': 304.316, 'eval_steps_per_second': 19.933, 'epoch': 50.0}\n",
      "{'loss': 0.0821, 'grad_norm': 1.272147297859192, 'learning_rate': 2.5e-05, 'epoch': 52.27}\n"
     ]
    },
    {
     "data": {
      "application/vnd.jupyter.widget-view+json": {
       "model_id": "dc840e78ac774e30bd39389808a7f5bd",
       "version_major": 2,
       "version_minor": 0
      },
      "text/plain": [
       "  0%|          | 0/15 [00:00<?, ?it/s]"
      ]
     },
     "metadata": {},
     "output_type": "display_data"
    },
    {
     "name": "stderr",
     "output_type": "stream",
     "text": [
      "/Users/johnmoses/miniconda3/envs/mconda38/lib/python3.8/site-packages/sklearn/metrics/_classification.py:1471: UndefinedMetricWarning: Precision and F-score are ill-defined and being set to 0.0 in labels with no predicted samples. Use `zero_division` parameter to control this behavior.\n",
      "  _warn_prf(average, modifier, msg_start, len(result))\n",
      "/Users/johnmoses/miniconda3/envs/mconda38/lib/python3.8/site-packages/sklearn/metrics/_classification.py:1471: UndefinedMetricWarning: Recall and F-score are ill-defined and being set to 0.0 in labels with no true samples. Use `zero_division` parameter to control this behavior.\n",
      "  _warn_prf(average, modifier, msg_start, len(result))\n"
     ]
    },
    {
     "name": "stdout",
     "output_type": "stream",
     "text": [
      "{'eval_loss': 0.7964934706687927, 'eval_Accuracy': 0.8471615720524017, 'eval_F1': 0.7924907336672044, 'eval_Precision': 0.8015873015873017, 'eval_Recall': 0.8053454715219421, 'eval_runtime': 0.7016, 'eval_samples_per_second': 326.397, 'eval_steps_per_second': 21.38, 'epoch': 52.27}\n",
      "{'loss': 0.0825, 'grad_norm': 0.9612154960632324, 'learning_rate': 2.380952380952381e-05, 'epoch': 54.55}\n"
     ]
    },
    {
     "data": {
      "application/vnd.jupyter.widget-view+json": {
       "model_id": "2c3328f8f29e4ae3a060b1bfa8696d5d",
       "version_major": 2,
       "version_minor": 0
      },
      "text/plain": [
       "  0%|          | 0/15 [00:00<?, ?it/s]"
      ]
     },
     "metadata": {},
     "output_type": "display_data"
    },
    {
     "name": "stderr",
     "output_type": "stream",
     "text": [
      "/Users/johnmoses/miniconda3/envs/mconda38/lib/python3.8/site-packages/sklearn/metrics/_classification.py:1471: UndefinedMetricWarning: Precision and F-score are ill-defined and being set to 0.0 in labels with no predicted samples. Use `zero_division` parameter to control this behavior.\n",
      "  _warn_prf(average, modifier, msg_start, len(result))\n",
      "/Users/johnmoses/miniconda3/envs/mconda38/lib/python3.8/site-packages/sklearn/metrics/_classification.py:1471: UndefinedMetricWarning: Recall and F-score are ill-defined and being set to 0.0 in labels with no true samples. Use `zero_division` parameter to control this behavior.\n",
      "  _warn_prf(average, modifier, msg_start, len(result))\n"
     ]
    },
    {
     "name": "stdout",
     "output_type": "stream",
     "text": [
      "{'eval_loss': 0.8023630976676941, 'eval_Accuracy': 0.8471615720524017, 'eval_F1': 0.8048174603174604, 'eval_Precision': 0.8166190476190477, 'eval_Recall': 0.8236190476190477, 'eval_runtime': 0.6598, 'eval_samples_per_second': 347.058, 'eval_steps_per_second': 22.733, 'epoch': 54.55}\n",
      "{'loss': 0.0825, 'grad_norm': 1.474337100982666, 'learning_rate': 2.261904761904762e-05, 'epoch': 56.82}\n"
     ]
    },
    {
     "data": {
      "application/vnd.jupyter.widget-view+json": {
       "model_id": "7ce0a72eeade41348ffcca139ea83c71",
       "version_major": 2,
       "version_minor": 0
      },
      "text/plain": [
       "  0%|          | 0/15 [00:00<?, ?it/s]"
      ]
     },
     "metadata": {},
     "output_type": "display_data"
    },
    {
     "name": "stderr",
     "output_type": "stream",
     "text": [
      "/Users/johnmoses/miniconda3/envs/mconda38/lib/python3.8/site-packages/sklearn/metrics/_classification.py:1471: UndefinedMetricWarning: Precision and F-score are ill-defined and being set to 0.0 in labels with no predicted samples. Use `zero_division` parameter to control this behavior.\n",
      "  _warn_prf(average, modifier, msg_start, len(result))\n",
      "/Users/johnmoses/miniconda3/envs/mconda38/lib/python3.8/site-packages/sklearn/metrics/_classification.py:1471: UndefinedMetricWarning: Recall and F-score are ill-defined and being set to 0.0 in labels with no true samples. Use `zero_division` parameter to control this behavior.\n",
      "  _warn_prf(average, modifier, msg_start, len(result))\n"
     ]
    },
    {
     "name": "stdout",
     "output_type": "stream",
     "text": [
      "{'eval_loss': 0.7981274127960205, 'eval_Accuracy': 0.8384279475982532, 'eval_F1': 0.7962196219621962, 'eval_Precision': 0.8095238095238096, 'eval_Recall': 0.8083686940122583, 'eval_runtime': 0.6625, 'eval_samples_per_second': 345.675, 'eval_steps_per_second': 22.642, 'epoch': 56.82}\n",
      "{'loss': 0.077, 'grad_norm': 0.9130083322525024, 'learning_rate': 2.1428571428571428e-05, 'epoch': 59.09}\n"
     ]
    },
    {
     "data": {
      "application/vnd.jupyter.widget-view+json": {
       "model_id": "68510c2887c4407db2df783a77668836",
       "version_major": 2,
       "version_minor": 0
      },
      "text/plain": [
       "  0%|          | 0/15 [00:00<?, ?it/s]"
      ]
     },
     "metadata": {},
     "output_type": "display_data"
    },
    {
     "name": "stderr",
     "output_type": "stream",
     "text": [
      "/Users/johnmoses/miniconda3/envs/mconda38/lib/python3.8/site-packages/sklearn/metrics/_classification.py:1471: UndefinedMetricWarning: Precision and F-score are ill-defined and being set to 0.0 in labels with no predicted samples. Use `zero_division` parameter to control this behavior.\n",
      "  _warn_prf(average, modifier, msg_start, len(result))\n",
      "/Users/johnmoses/miniconda3/envs/mconda38/lib/python3.8/site-packages/sklearn/metrics/_classification.py:1471: UndefinedMetricWarning: Recall and F-score are ill-defined and being set to 0.0 in labels with no true samples. Use `zero_division` parameter to control this behavior.\n",
      "  _warn_prf(average, modifier, msg_start, len(result))\n"
     ]
    },
    {
     "name": "stdout",
     "output_type": "stream",
     "text": [
      "{'eval_loss': 0.807162880897522, 'eval_Accuracy': 0.851528384279476, 'eval_F1': 0.8022587973083021, 'eval_Precision': 0.8116690240452618, 'eval_Recall': 0.8157944365865157, 'eval_runtime': 0.6616, 'eval_samples_per_second': 346.141, 'eval_steps_per_second': 22.673, 'epoch': 59.09}\n",
      "{'loss': 0.0698, 'grad_norm': 0.5593658089637756, 'learning_rate': 2.023809523809524e-05, 'epoch': 61.36}\n"
     ]
    },
    {
     "data": {
      "application/vnd.jupyter.widget-view+json": {
       "model_id": "b4e59b574433400cbcc36f83ab6b14f0",
       "version_major": 2,
       "version_minor": 0
      },
      "text/plain": [
       "  0%|          | 0/15 [00:00<?, ?it/s]"
      ]
     },
     "metadata": {},
     "output_type": "display_data"
    },
    {
     "name": "stderr",
     "output_type": "stream",
     "text": [
      "/Users/johnmoses/miniconda3/envs/mconda38/lib/python3.8/site-packages/sklearn/metrics/_classification.py:1471: UndefinedMetricWarning: Precision and F-score are ill-defined and being set to 0.0 in labels with no predicted samples. Use `zero_division` parameter to control this behavior.\n",
      "  _warn_prf(average, modifier, msg_start, len(result))\n",
      "/Users/johnmoses/miniconda3/envs/mconda38/lib/python3.8/site-packages/sklearn/metrics/_classification.py:1471: UndefinedMetricWarning: Recall and F-score are ill-defined and being set to 0.0 in labels with no true samples. Use `zero_division` parameter to control this behavior.\n",
      "  _warn_prf(average, modifier, msg_start, len(result))\n"
     ]
    },
    {
     "name": "stdout",
     "output_type": "stream",
     "text": [
      "{'eval_loss': 0.8058935403823853, 'eval_Accuracy': 0.8471615720524017, 'eval_F1': 0.7972725844012972, 'eval_Precision': 0.808038661008958, 'eval_Recall': 0.8133191890617633, 'eval_runtime': 0.6649, 'eval_samples_per_second': 344.426, 'eval_steps_per_second': 22.561, 'epoch': 61.36}\n",
      "{'loss': 0.0789, 'grad_norm': 0.7050065994262695, 'learning_rate': 1.9047619047619046e-05, 'epoch': 63.64}\n"
     ]
    },
    {
     "data": {
      "application/vnd.jupyter.widget-view+json": {
       "model_id": "a056b7cfe634482986e81b4a2160ef05",
       "version_major": 2,
       "version_minor": 0
      },
      "text/plain": [
       "  0%|          | 0/15 [00:00<?, ?it/s]"
      ]
     },
     "metadata": {},
     "output_type": "display_data"
    },
    {
     "name": "stderr",
     "output_type": "stream",
     "text": [
      "/Users/johnmoses/miniconda3/envs/mconda38/lib/python3.8/site-packages/sklearn/metrics/_classification.py:1471: UndefinedMetricWarning: Precision and F-score are ill-defined and being set to 0.0 in labels with no predicted samples. Use `zero_division` parameter to control this behavior.\n",
      "  _warn_prf(average, modifier, msg_start, len(result))\n",
      "/Users/johnmoses/miniconda3/envs/mconda38/lib/python3.8/site-packages/sklearn/metrics/_classification.py:1471: UndefinedMetricWarning: Recall and F-score are ill-defined and being set to 0.0 in labels with no true samples. Use `zero_division` parameter to control this behavior.\n",
      "  _warn_prf(average, modifier, msg_start, len(result))\n"
     ]
    },
    {
     "name": "stdout",
     "output_type": "stream",
     "text": [
      "{'eval_loss': 0.8012343645095825, 'eval_Accuracy': 0.851528384279476, 'eval_F1': 0.8083039183039183, 'eval_Precision': 0.8175, 'eval_Recall': 0.8264523809523808, 'eval_runtime': 0.6889, 'eval_samples_per_second': 332.436, 'eval_steps_per_second': 21.775, 'epoch': 63.64}\n",
      "{'loss': 0.07, 'grad_norm': 1.1650397777557373, 'learning_rate': 1.785714285714286e-05, 'epoch': 65.91}\n"
     ]
    },
    {
     "data": {
      "application/vnd.jupyter.widget-view+json": {
       "model_id": "a9085868a5aa4c699975e65d4a85a114",
       "version_major": 2,
       "version_minor": 0
      },
      "text/plain": [
       "  0%|          | 0/15 [00:00<?, ?it/s]"
      ]
     },
     "metadata": {},
     "output_type": "display_data"
    },
    {
     "name": "stderr",
     "output_type": "stream",
     "text": [
      "/Users/johnmoses/miniconda3/envs/mconda38/lib/python3.8/site-packages/sklearn/metrics/_classification.py:1471: UndefinedMetricWarning: Precision and F-score are ill-defined and being set to 0.0 in labels with no predicted samples. Use `zero_division` parameter to control this behavior.\n",
      "  _warn_prf(average, modifier, msg_start, len(result))\n",
      "/Users/johnmoses/miniconda3/envs/mconda38/lib/python3.8/site-packages/sklearn/metrics/_classification.py:1471: UndefinedMetricWarning: Recall and F-score are ill-defined and being set to 0.0 in labels with no true samples. Use `zero_division` parameter to control this behavior.\n",
      "  _warn_prf(average, modifier, msg_start, len(result))\n"
     ]
    },
    {
     "name": "stdout",
     "output_type": "stream",
     "text": [
      "{'eval_loss': 0.8152254223823547, 'eval_Accuracy': 0.851528384279476, 'eval_F1': 0.8072972582972582, 'eval_Precision': 0.8167857142857143, 'eval_Recall': 0.8264523809523808, 'eval_runtime': 0.6651, 'eval_samples_per_second': 344.314, 'eval_steps_per_second': 22.553, 'epoch': 65.91}\n",
      "{'loss': 0.0695, 'grad_norm': 0.564784824848175, 'learning_rate': 1.6666666666666667e-05, 'epoch': 68.18}\n"
     ]
    },
    {
     "data": {
      "application/vnd.jupyter.widget-view+json": {
       "model_id": "f80a591166a845ffb83ee59113386f4a",
       "version_major": 2,
       "version_minor": 0
      },
      "text/plain": [
       "  0%|          | 0/15 [00:00<?, ?it/s]"
      ]
     },
     "metadata": {},
     "output_type": "display_data"
    },
    {
     "name": "stderr",
     "output_type": "stream",
     "text": [
      "/Users/johnmoses/miniconda3/envs/mconda38/lib/python3.8/site-packages/sklearn/metrics/_classification.py:1471: UndefinedMetricWarning: Precision and F-score are ill-defined and being set to 0.0 in labels with no predicted samples. Use `zero_division` parameter to control this behavior.\n",
      "  _warn_prf(average, modifier, msg_start, len(result))\n",
      "/Users/johnmoses/miniconda3/envs/mconda38/lib/python3.8/site-packages/sklearn/metrics/_classification.py:1471: UndefinedMetricWarning: Recall and F-score are ill-defined and being set to 0.0 in labels with no true samples. Use `zero_division` parameter to control this behavior.\n",
      "  _warn_prf(average, modifier, msg_start, len(result))\n"
     ]
    },
    {
     "name": "stdout",
     "output_type": "stream",
     "text": [
      "{'eval_loss': 0.8106096386909485, 'eval_Accuracy': 0.851528384279476, 'eval_F1': 0.8119083694083693, 'eval_Precision': 0.8187857142857143, 'eval_Recall': 0.826952380952381, 'eval_runtime': 0.665, 'eval_samples_per_second': 344.377, 'eval_steps_per_second': 22.557, 'epoch': 68.18}\n",
      "{'loss': 0.0755, 'grad_norm': 0.6537875533103943, 'learning_rate': 1.5476190476190476e-05, 'epoch': 70.45}\n"
     ]
    },
    {
     "data": {
      "application/vnd.jupyter.widget-view+json": {
       "model_id": "6c00a907415c46cd818d591eee4e4fd6",
       "version_major": 2,
       "version_minor": 0
      },
      "text/plain": [
       "  0%|          | 0/15 [00:00<?, ?it/s]"
      ]
     },
     "metadata": {},
     "output_type": "display_data"
    },
    {
     "name": "stderr",
     "output_type": "stream",
     "text": [
      "/Users/johnmoses/miniconda3/envs/mconda38/lib/python3.8/site-packages/sklearn/metrics/_classification.py:1471: UndefinedMetricWarning: Precision and F-score are ill-defined and being set to 0.0 in labels with no predicted samples. Use `zero_division` parameter to control this behavior.\n",
      "  _warn_prf(average, modifier, msg_start, len(result))\n",
      "/Users/johnmoses/miniconda3/envs/mconda38/lib/python3.8/site-packages/sklearn/metrics/_classification.py:1471: UndefinedMetricWarning: Recall and F-score are ill-defined and being set to 0.0 in labels with no true samples. Use `zero_division` parameter to control this behavior.\n",
      "  _warn_prf(average, modifier, msg_start, len(result))\n"
     ]
    },
    {
     "name": "stdout",
     "output_type": "stream",
     "text": [
      "{'eval_loss': 0.8079487085342407, 'eval_Accuracy': 0.8558951965065502, 'eval_F1': 0.8027368670933027, 'eval_Precision': 0.8123762376237623, 'eval_Recall': 0.8207449316360208, 'eval_runtime': 0.715, 'eval_samples_per_second': 320.295, 'eval_steps_per_second': 20.98, 'epoch': 70.45}\n",
      "{'loss': 0.0649, 'grad_norm': 0.5554403066635132, 'learning_rate': 1.4285714285714285e-05, 'epoch': 72.73}\n"
     ]
    },
    {
     "data": {
      "application/vnd.jupyter.widget-view+json": {
       "model_id": "3c6f9c1b0563474889a99cf373f501a6",
       "version_major": 2,
       "version_minor": 0
      },
      "text/plain": [
       "  0%|          | 0/15 [00:00<?, ?it/s]"
      ]
     },
     "metadata": {},
     "output_type": "display_data"
    },
    {
     "name": "stderr",
     "output_type": "stream",
     "text": [
      "/Users/johnmoses/miniconda3/envs/mconda38/lib/python3.8/site-packages/sklearn/metrics/_classification.py:1471: UndefinedMetricWarning: Precision and F-score are ill-defined and being set to 0.0 in labels with no predicted samples. Use `zero_division` parameter to control this behavior.\n",
      "  _warn_prf(average, modifier, msg_start, len(result))\n",
      "/Users/johnmoses/miniconda3/envs/mconda38/lib/python3.8/site-packages/sklearn/metrics/_classification.py:1471: UndefinedMetricWarning: Recall and F-score are ill-defined and being set to 0.0 in labels with no true samples. Use `zero_division` parameter to control this behavior.\n",
      "  _warn_prf(average, modifier, msg_start, len(result))\n"
     ]
    },
    {
     "name": "stdout",
     "output_type": "stream",
     "text": [
      "{'eval_loss': 0.8125206828117371, 'eval_Accuracy': 0.8471615720524017, 'eval_F1': 0.8089352314352314, 'eval_Precision': 0.8151666666666667, 'eval_Recall': 0.8244523809523809, 'eval_runtime': 0.6654, 'eval_samples_per_second': 344.133, 'eval_steps_per_second': 22.541, 'epoch': 72.73}\n",
      "{'loss': 0.0659, 'grad_norm': 0.15411686897277832, 'learning_rate': 1.3095238095238096e-05, 'epoch': 75.0}\n"
     ]
    },
    {
     "data": {
      "application/vnd.jupyter.widget-view+json": {
       "model_id": "a6493c20a493428db32fe0716b680ee7",
       "version_major": 2,
       "version_minor": 0
      },
      "text/plain": [
       "  0%|          | 0/15 [00:00<?, ?it/s]"
      ]
     },
     "metadata": {},
     "output_type": "display_data"
    },
    {
     "name": "stderr",
     "output_type": "stream",
     "text": [
      "/Users/johnmoses/miniconda3/envs/mconda38/lib/python3.8/site-packages/sklearn/metrics/_classification.py:1471: UndefinedMetricWarning: Precision and F-score are ill-defined and being set to 0.0 in labels with no predicted samples. Use `zero_division` parameter to control this behavior.\n",
      "  _warn_prf(average, modifier, msg_start, len(result))\n",
      "/Users/johnmoses/miniconda3/envs/mconda38/lib/python3.8/site-packages/sklearn/metrics/_classification.py:1471: UndefinedMetricWarning: Recall and F-score are ill-defined and being set to 0.0 in labels with no true samples. Use `zero_division` parameter to control this behavior.\n",
      "  _warn_prf(average, modifier, msg_start, len(result))\n"
     ]
    },
    {
     "name": "stdout",
     "output_type": "stream",
     "text": [
      "{'eval_loss': 0.8087052702903748, 'eval_Accuracy': 0.8471615720524017, 'eval_F1': 0.8089718614718615, 'eval_Precision': 0.8152857142857144, 'eval_Recall': 0.8244523809523809, 'eval_runtime': 0.6871, 'eval_samples_per_second': 333.277, 'eval_steps_per_second': 21.83, 'epoch': 75.0}\n",
      "{'loss': 0.0667, 'grad_norm': 0.9630918502807617, 'learning_rate': 1.1904761904761905e-05, 'epoch': 77.27}\n"
     ]
    },
    {
     "data": {
      "application/vnd.jupyter.widget-view+json": {
       "model_id": "8fd45154bb5b4fd69f6bc484ff1b531e",
       "version_major": 2,
       "version_minor": 0
      },
      "text/plain": [
       "  0%|          | 0/15 [00:00<?, ?it/s]"
      ]
     },
     "metadata": {},
     "output_type": "display_data"
    },
    {
     "name": "stderr",
     "output_type": "stream",
     "text": [
      "/Users/johnmoses/miniconda3/envs/mconda38/lib/python3.8/site-packages/sklearn/metrics/_classification.py:1471: UndefinedMetricWarning: Precision and F-score are ill-defined and being set to 0.0 in labels with no predicted samples. Use `zero_division` parameter to control this behavior.\n",
      "  _warn_prf(average, modifier, msg_start, len(result))\n",
      "/Users/johnmoses/miniconda3/envs/mconda38/lib/python3.8/site-packages/sklearn/metrics/_classification.py:1471: UndefinedMetricWarning: Recall and F-score are ill-defined and being set to 0.0 in labels with no true samples. Use `zero_division` parameter to control this behavior.\n",
      "  _warn_prf(average, modifier, msg_start, len(result))\n"
     ]
    },
    {
     "name": "stdout",
     "output_type": "stream",
     "text": [
      "{'eval_loss': 0.8131391406059265, 'eval_Accuracy': 0.8471615720524017, 'eval_F1': 0.8089718614718615, 'eval_Precision': 0.8152857142857144, 'eval_Recall': 0.8244523809523809, 'eval_runtime': 0.6782, 'eval_samples_per_second': 337.638, 'eval_steps_per_second': 22.116, 'epoch': 77.27}\n",
      "{'loss': 0.0665, 'grad_norm': 0.605758547782898, 'learning_rate': 1.0714285714285714e-05, 'epoch': 79.55}\n"
     ]
    },
    {
     "data": {
      "application/vnd.jupyter.widget-view+json": {
       "model_id": "283e26b603954dc9b3b0839e9912f963",
       "version_major": 2,
       "version_minor": 0
      },
      "text/plain": [
       "  0%|          | 0/15 [00:00<?, ?it/s]"
      ]
     },
     "metadata": {},
     "output_type": "display_data"
    },
    {
     "name": "stderr",
     "output_type": "stream",
     "text": [
      "/Users/johnmoses/miniconda3/envs/mconda38/lib/python3.8/site-packages/sklearn/metrics/_classification.py:1471: UndefinedMetricWarning: Precision and F-score are ill-defined and being set to 0.0 in labels with no predicted samples. Use `zero_division` parameter to control this behavior.\n",
      "  _warn_prf(average, modifier, msg_start, len(result))\n",
      "/Users/johnmoses/miniconda3/envs/mconda38/lib/python3.8/site-packages/sklearn/metrics/_classification.py:1471: UndefinedMetricWarning: Recall and F-score are ill-defined and being set to 0.0 in labels with no true samples. Use `zero_division` parameter to control this behavior.\n",
      "  _warn_prf(average, modifier, msg_start, len(result))\n"
     ]
    },
    {
     "name": "stdout",
     "output_type": "stream",
     "text": [
      "{'eval_loss': 0.8141095042228699, 'eval_Accuracy': 0.851528384279476, 'eval_F1': 0.8003009092118003, 'eval_Precision': 0.8094059405940595, 'eval_Recall': 0.8182696841112683, 'eval_runtime': 0.6781, 'eval_samples_per_second': 337.694, 'eval_steps_per_second': 22.12, 'epoch': 79.55}\n",
      "{'loss': 0.0607, 'grad_norm': 0.9121922254562378, 'learning_rate': 9.523809523809523e-06, 'epoch': 81.82}\n"
     ]
    },
    {
     "data": {
      "application/vnd.jupyter.widget-view+json": {
       "model_id": "054304600a4f44e6a11fd669eebf3d23",
       "version_major": 2,
       "version_minor": 0
      },
      "text/plain": [
       "  0%|          | 0/15 [00:00<?, ?it/s]"
      ]
     },
     "metadata": {},
     "output_type": "display_data"
    },
    {
     "name": "stderr",
     "output_type": "stream",
     "text": [
      "/Users/johnmoses/miniconda3/envs/mconda38/lib/python3.8/site-packages/sklearn/metrics/_classification.py:1471: UndefinedMetricWarning: Precision and F-score are ill-defined and being set to 0.0 in labels with no predicted samples. Use `zero_division` parameter to control this behavior.\n",
      "  _warn_prf(average, modifier, msg_start, len(result))\n",
      "/Users/johnmoses/miniconda3/envs/mconda38/lib/python3.8/site-packages/sklearn/metrics/_classification.py:1471: UndefinedMetricWarning: Recall and F-score are ill-defined and being set to 0.0 in labels with no true samples. Use `zero_division` parameter to control this behavior.\n",
      "  _warn_prf(average, modifier, msg_start, len(result))\n"
     ]
    },
    {
     "name": "stdout",
     "output_type": "stream",
     "text": [
      "{'eval_loss': 0.8173481822013855, 'eval_Accuracy': 0.8384279475982532, 'eval_F1': 0.7947266155186948, 'eval_Precision': 0.8045733144743047, 'eval_Recall': 0.8083686940122583, 'eval_runtime': 0.6674, 'eval_samples_per_second': 343.116, 'eval_steps_per_second': 22.475, 'epoch': 81.82}\n",
      "{'loss': 0.0662, 'grad_norm': 0.6751923561096191, 'learning_rate': 8.333333333333334e-06, 'epoch': 84.09}\n"
     ]
    },
    {
     "data": {
      "application/vnd.jupyter.widget-view+json": {
       "model_id": "77cbaba5206641d98b8483559d4153aa",
       "version_major": 2,
       "version_minor": 0
      },
      "text/plain": [
       "  0%|          | 0/15 [00:00<?, ?it/s]"
      ]
     },
     "metadata": {},
     "output_type": "display_data"
    },
    {
     "name": "stderr",
     "output_type": "stream",
     "text": [
      "/Users/johnmoses/miniconda3/envs/mconda38/lib/python3.8/site-packages/sklearn/metrics/_classification.py:1471: UndefinedMetricWarning: Precision and F-score are ill-defined and being set to 0.0 in labels with no predicted samples. Use `zero_division` parameter to control this behavior.\n",
      "  _warn_prf(average, modifier, msg_start, len(result))\n",
      "/Users/johnmoses/miniconda3/envs/mconda38/lib/python3.8/site-packages/sklearn/metrics/_classification.py:1471: UndefinedMetricWarning: Recall and F-score are ill-defined and being set to 0.0 in labels with no true samples. Use `zero_division` parameter to control this behavior.\n",
      "  _warn_prf(average, modifier, msg_start, len(result))\n"
     ]
    },
    {
     "name": "stdout",
     "output_type": "stream",
     "text": [
      "{'eval_loss': 0.8187943696975708, 'eval_Accuracy': 0.8471615720524017, 'eval_F1': 0.80001928764305, 'eval_Precision': 0.8146393210749647, 'eval_Recall': 0.8138142385667139, 'eval_runtime': 0.6708, 'eval_samples_per_second': 341.368, 'eval_steps_per_second': 22.36, 'epoch': 84.09}\n",
      "{'loss': 0.0638, 'grad_norm': 0.7941254377365112, 'learning_rate': 7.142857142857143e-06, 'epoch': 86.36}\n"
     ]
    },
    {
     "data": {
      "application/vnd.jupyter.widget-view+json": {
       "model_id": "49efeb780e0f4f3094533a4dab9aa073",
       "version_major": 2,
       "version_minor": 0
      },
      "text/plain": [
       "  0%|          | 0/15 [00:00<?, ?it/s]"
      ]
     },
     "metadata": {},
     "output_type": "display_data"
    },
    {
     "name": "stderr",
     "output_type": "stream",
     "text": [
      "/Users/johnmoses/miniconda3/envs/mconda38/lib/python3.8/site-packages/sklearn/metrics/_classification.py:1471: UndefinedMetricWarning: Precision and F-score are ill-defined and being set to 0.0 in labels with no predicted samples. Use `zero_division` parameter to control this behavior.\n",
      "  _warn_prf(average, modifier, msg_start, len(result))\n",
      "/Users/johnmoses/miniconda3/envs/mconda38/lib/python3.8/site-packages/sklearn/metrics/_classification.py:1471: UndefinedMetricWarning: Recall and F-score are ill-defined and being set to 0.0 in labels with no true samples. Use `zero_division` parameter to control this behavior.\n",
      "  _warn_prf(average, modifier, msg_start, len(result))\n"
     ]
    },
    {
     "name": "stdout",
     "output_type": "stream",
     "text": [
      "{'eval_loss': 0.8225769400596619, 'eval_Accuracy': 0.8427947598253275, 'eval_F1': 0.7860601816484168, 'eval_Precision': 0.7952147525676938, 'eval_Recall': 0.8033846872082167, 'eval_runtime': 0.7314, 'eval_samples_per_second': 313.104, 'eval_steps_per_second': 20.509, 'epoch': 86.36}\n",
      "{'loss': 0.0637, 'grad_norm': 1.0268417596817017, 'learning_rate': 5.9523809523809525e-06, 'epoch': 88.64}\n"
     ]
    },
    {
     "data": {
      "application/vnd.jupyter.widget-view+json": {
       "model_id": "8ab60bae686e4309be7fdac019ae6604",
       "version_major": 2,
       "version_minor": 0
      },
      "text/plain": [
       "  0%|          | 0/15 [00:00<?, ?it/s]"
      ]
     },
     "metadata": {},
     "output_type": "display_data"
    },
    {
     "name": "stderr",
     "output_type": "stream",
     "text": [
      "/Users/johnmoses/miniconda3/envs/mconda38/lib/python3.8/site-packages/sklearn/metrics/_classification.py:1471: UndefinedMetricWarning: Precision and F-score are ill-defined and being set to 0.0 in labels with no predicted samples. Use `zero_division` parameter to control this behavior.\n",
      "  _warn_prf(average, modifier, msg_start, len(result))\n",
      "/Users/johnmoses/miniconda3/envs/mconda38/lib/python3.8/site-packages/sklearn/metrics/_classification.py:1471: UndefinedMetricWarning: Recall and F-score are ill-defined and being set to 0.0 in labels with no true samples. Use `zero_division` parameter to control this behavior.\n",
      "  _warn_prf(average, modifier, msg_start, len(result))\n"
     ]
    },
    {
     "name": "stdout",
     "output_type": "stream",
     "text": [
      "{'eval_loss': 0.8226656317710876, 'eval_Accuracy': 0.851528384279476, 'eval_F1': 0.8032838998185532, 'eval_Precision': 0.8088637435172089, 'eval_Recall': 0.8182696841112683, 'eval_runtime': 0.6656, 'eval_samples_per_second': 344.049, 'eval_steps_per_second': 22.536, 'epoch': 88.64}\n",
      "{'loss': 0.0637, 'grad_norm': 0.7988002896308899, 'learning_rate': 4.7619047619047615e-06, 'epoch': 90.91}\n"
     ]
    },
    {
     "data": {
      "application/vnd.jupyter.widget-view+json": {
       "model_id": "c4ea9377760a4748a2e359aac01117ac",
       "version_major": 2,
       "version_minor": 0
      },
      "text/plain": [
       "  0%|          | 0/15 [00:00<?, ?it/s]"
      ]
     },
     "metadata": {},
     "output_type": "display_data"
    },
    {
     "name": "stderr",
     "output_type": "stream",
     "text": [
      "/Users/johnmoses/miniconda3/envs/mconda38/lib/python3.8/site-packages/sklearn/metrics/_classification.py:1471: UndefinedMetricWarning: Precision and F-score are ill-defined and being set to 0.0 in labels with no predicted samples. Use `zero_division` parameter to control this behavior.\n",
      "  _warn_prf(average, modifier, msg_start, len(result))\n",
      "/Users/johnmoses/miniconda3/envs/mconda38/lib/python3.8/site-packages/sklearn/metrics/_classification.py:1471: UndefinedMetricWarning: Recall and F-score are ill-defined and being set to 0.0 in labels with no true samples. Use `zero_division` parameter to control this behavior.\n",
      "  _warn_prf(average, modifier, msg_start, len(result))\n"
     ]
    },
    {
     "name": "stdout",
     "output_type": "stream",
     "text": [
      "{'eval_loss': 0.8271474838256836, 'eval_Accuracy': 0.8471615720524017, 'eval_F1': 0.8009259717180509, 'eval_Precision': 0.8070957095709571, 'eval_Recall': 0.8162894860914663, 'eval_runtime': 0.674, 'eval_samples_per_second': 339.755, 'eval_steps_per_second': 22.255, 'epoch': 90.91}\n",
      "{'loss': 0.0641, 'grad_norm': 0.9412129521369934, 'learning_rate': 3.5714285714285714e-06, 'epoch': 93.18}\n"
     ]
    },
    {
     "data": {
      "application/vnd.jupyter.widget-view+json": {
       "model_id": "fc3500129d864337980db8804c7209ab",
       "version_major": 2,
       "version_minor": 0
      },
      "text/plain": [
       "  0%|          | 0/15 [00:00<?, ?it/s]"
      ]
     },
     "metadata": {},
     "output_type": "display_data"
    },
    {
     "name": "stderr",
     "output_type": "stream",
     "text": [
      "/Users/johnmoses/miniconda3/envs/mconda38/lib/python3.8/site-packages/sklearn/metrics/_classification.py:1471: UndefinedMetricWarning: Precision and F-score are ill-defined and being set to 0.0 in labels with no predicted samples. Use `zero_division` parameter to control this behavior.\n",
      "  _warn_prf(average, modifier, msg_start, len(result))\n",
      "/Users/johnmoses/miniconda3/envs/mconda38/lib/python3.8/site-packages/sklearn/metrics/_classification.py:1471: UndefinedMetricWarning: Recall and F-score are ill-defined and being set to 0.0 in labels with no true samples. Use `zero_division` parameter to control this behavior.\n",
      "  _warn_prf(average, modifier, msg_start, len(result))\n"
     ]
    },
    {
     "name": "stdout",
     "output_type": "stream",
     "text": [
      "{'eval_loss': 0.8253958225250244, 'eval_Accuracy': 0.8471615720524017, 'eval_F1': 0.8009622390810509, 'eval_Precision': 0.8072135785007072, 'eval_Recall': 0.8162894860914663, 'eval_runtime': 0.697, 'eval_samples_per_second': 328.569, 'eval_steps_per_second': 21.522, 'epoch': 93.18}\n",
      "{'loss': 0.0657, 'grad_norm': 0.8275387287139893, 'learning_rate': 2.3809523809523808e-06, 'epoch': 95.45}\n"
     ]
    },
    {
     "data": {
      "application/vnd.jupyter.widget-view+json": {
       "model_id": "9fd92b055fed45c0a64a58ddbaa0c5b0",
       "version_major": 2,
       "version_minor": 0
      },
      "text/plain": [
       "  0%|          | 0/15 [00:00<?, ?it/s]"
      ]
     },
     "metadata": {},
     "output_type": "display_data"
    },
    {
     "name": "stderr",
     "output_type": "stream",
     "text": [
      "/Users/johnmoses/miniconda3/envs/mconda38/lib/python3.8/site-packages/sklearn/metrics/_classification.py:1471: UndefinedMetricWarning: Precision and F-score are ill-defined and being set to 0.0 in labels with no predicted samples. Use `zero_division` parameter to control this behavior.\n",
      "  _warn_prf(average, modifier, msg_start, len(result))\n",
      "/Users/johnmoses/miniconda3/envs/mconda38/lib/python3.8/site-packages/sklearn/metrics/_classification.py:1471: UndefinedMetricWarning: Recall and F-score are ill-defined and being set to 0.0 in labels with no true samples. Use `zero_division` parameter to control this behavior.\n",
      "  _warn_prf(average, modifier, msg_start, len(result))\n"
     ]
    },
    {
     "name": "stdout",
     "output_type": "stream",
     "text": [
      "{'eval_loss': 0.8262022733688354, 'eval_Accuracy': 0.8471615720524017, 'eval_F1': 0.8009622390810509, 'eval_Precision': 0.8072135785007072, 'eval_Recall': 0.8162894860914663, 'eval_runtime': 0.6676, 'eval_samples_per_second': 343.04, 'eval_steps_per_second': 22.47, 'epoch': 95.45}\n",
      "{'loss': 0.0592, 'grad_norm': 0.08362942188978195, 'learning_rate': 1.1904761904761904e-06, 'epoch': 97.73}\n"
     ]
    },
    {
     "data": {
      "application/vnd.jupyter.widget-view+json": {
       "model_id": "b0f503406c7843868d214a124dbc8506",
       "version_major": 2,
       "version_minor": 0
      },
      "text/plain": [
       "  0%|          | 0/15 [00:00<?, ?it/s]"
      ]
     },
     "metadata": {},
     "output_type": "display_data"
    },
    {
     "name": "stderr",
     "output_type": "stream",
     "text": [
      "/Users/johnmoses/miniconda3/envs/mconda38/lib/python3.8/site-packages/sklearn/metrics/_classification.py:1471: UndefinedMetricWarning: Precision and F-score are ill-defined and being set to 0.0 in labels with no predicted samples. Use `zero_division` parameter to control this behavior.\n",
      "  _warn_prf(average, modifier, msg_start, len(result))\n",
      "/Users/johnmoses/miniconda3/envs/mconda38/lib/python3.8/site-packages/sklearn/metrics/_classification.py:1471: UndefinedMetricWarning: Recall and F-score are ill-defined and being set to 0.0 in labels with no true samples. Use `zero_division` parameter to control this behavior.\n",
      "  _warn_prf(average, modifier, msg_start, len(result))\n"
     ]
    },
    {
     "name": "stdout",
     "output_type": "stream",
     "text": [
      "{'eval_loss': 0.8259606957435608, 'eval_Accuracy': 0.851528384279476, 'eval_F1': 0.8036012392448035, 'eval_Precision': 0.8094059405940596, 'eval_Recall': 0.8182696841112683, 'eval_runtime': 0.6932, 'eval_samples_per_second': 330.348, 'eval_steps_per_second': 21.638, 'epoch': 97.73}\n",
      "{'loss': 0.0609, 'grad_norm': 0.11326982080936432, 'learning_rate': 0.0, 'epoch': 100.0}\n"
     ]
    },
    {
     "data": {
      "application/vnd.jupyter.widget-view+json": {
       "model_id": "03fa11a15de740aa914d143b182dffb3",
       "version_major": 2,
       "version_minor": 0
      },
      "text/plain": [
       "  0%|          | 0/15 [00:00<?, ?it/s]"
      ]
     },
     "metadata": {},
     "output_type": "display_data"
    },
    {
     "name": "stderr",
     "output_type": "stream",
     "text": [
      "/Users/johnmoses/miniconda3/envs/mconda38/lib/python3.8/site-packages/sklearn/metrics/_classification.py:1471: UndefinedMetricWarning: Precision and F-score are ill-defined and being set to 0.0 in labels with no predicted samples. Use `zero_division` parameter to control this behavior.\n",
      "  _warn_prf(average, modifier, msg_start, len(result))\n",
      "/Users/johnmoses/miniconda3/envs/mconda38/lib/python3.8/site-packages/sklearn/metrics/_classification.py:1471: UndefinedMetricWarning: Recall and F-score are ill-defined and being set to 0.0 in labels with no true samples. Use `zero_division` parameter to control this behavior.\n",
      "  _warn_prf(average, modifier, msg_start, len(result))\n"
     ]
    },
    {
     "name": "stdout",
     "output_type": "stream",
     "text": [
      "{'eval_loss': 0.8264638781547546, 'eval_Accuracy': 0.851528384279476, 'eval_F1': 0.8027695626705528, 'eval_Precision': 0.808038661008958, 'eval_Recall': 0.8182696841112683, 'eval_runtime': 0.6698, 'eval_samples_per_second': 341.908, 'eval_steps_per_second': 22.396, 'epoch': 100.0}\n",
      "{'train_runtime': 966.3213, 'train_samples_per_second': 70.887, 'train_steps_per_second': 2.277, 'train_loss': 0.5994519558819857, 'epoch': 100.0}\n",
      "CPU times: user 13min 34s, sys: 55.9 s, total: 14min 30s\n",
      "Wall time: 16min 6s\n"
     ]
    },
    {
     "data": {
      "text/plain": [
       "TrainOutput(global_step=2200, training_loss=0.5994519558819857, metrics={'train_runtime': 966.3213, 'train_samples_per_second': 70.887, 'train_steps_per_second': 2.277, 'total_flos': 881077530450000.0, 'train_loss': 0.5994519558819857, 'epoch': 100.0})"
      ]
     },
     "execution_count": 33,
     "metadata": {},
     "output_type": "execute_result"
    }
   ],
   "source": [
    "%%time\n",
    "trainer.train()"
   ]
  },
  {
   "cell_type": "markdown",
   "metadata": {},
   "source": [
    "Evaluate trainer"
   ]
  },
  {
   "cell_type": "code",
   "execution_count": 34,
   "metadata": {},
   "outputs": [
    {
     "data": {
      "application/vnd.jupyter.widget-view+json": {
       "model_id": "d7a35a49542a40a6b729330adfc4fce2",
       "version_major": 2,
       "version_minor": 0
      },
      "text/plain": [
       "  0%|          | 0/43 [00:00<?, ?it/s]"
      ]
     },
     "metadata": {},
     "output_type": "display_data"
    },
    {
     "data": {
      "application/vnd.jupyter.widget-view+json": {
       "model_id": "2ec441f918d74793898dc5c6cfec65b9",
       "version_major": 2,
       "version_minor": 0
      },
      "text/plain": [
       "  0%|          | 0/15 [00:00<?, ?it/s]"
      ]
     },
     "metadata": {},
     "output_type": "display_data"
    },
    {
     "name": "stderr",
     "output_type": "stream",
     "text": [
      "/Users/johnmoses/miniconda3/envs/mconda38/lib/python3.8/site-packages/sklearn/metrics/_classification.py:1471: UndefinedMetricWarning: Precision and F-score are ill-defined and being set to 0.0 in labels with no predicted samples. Use `zero_division` parameter to control this behavior.\n",
      "  _warn_prf(average, modifier, msg_start, len(result))\n",
      "/Users/johnmoses/miniconda3/envs/mconda38/lib/python3.8/site-packages/sklearn/metrics/_classification.py:1471: UndefinedMetricWarning: Recall and F-score are ill-defined and being set to 0.0 in labels with no true samples. Use `zero_division` parameter to control this behavior.\n",
      "  _warn_prf(average, modifier, msg_start, len(result))\n"
     ]
    },
    {
     "data": {
      "text/html": [
       "<div>\n",
       "<style scoped>\n",
       "    .dataframe tbody tr th:only-of-type {\n",
       "        vertical-align: middle;\n",
       "    }\n",
       "\n",
       "    .dataframe tbody tr th {\n",
       "        vertical-align: top;\n",
       "    }\n",
       "\n",
       "    .dataframe thead th {\n",
       "        text-align: right;\n",
       "    }\n",
       "</style>\n",
       "<table border=\"1\" class=\"dataframe\">\n",
       "  <thead>\n",
       "    <tr style=\"text-align: right;\">\n",
       "      <th></th>\n",
       "      <th>eval_loss</th>\n",
       "      <th>eval_Accuracy</th>\n",
       "      <th>eval_F1</th>\n",
       "      <th>eval_Precision</th>\n",
       "      <th>eval_Recall</th>\n",
       "    </tr>\n",
       "  </thead>\n",
       "  <tbody>\n",
       "    <tr>\n",
       "      <th>train</th>\n",
       "      <td>0.073348</td>\n",
       "      <td>0.972263</td>\n",
       "      <td>0.981240</td>\n",
       "      <td>0.986588</td>\n",
       "      <td>0.980843</td>\n",
       "    </tr>\n",
       "    <tr>\n",
       "      <th>test</th>\n",
       "      <td>0.805604</td>\n",
       "      <td>0.834061</td>\n",
       "      <td>0.788751</td>\n",
       "      <td>0.801438</td>\n",
       "      <td>0.806388</td>\n",
       "    </tr>\n",
       "  </tbody>\n",
       "</table>\n",
       "</div>"
      ],
      "text/plain": [
       "       eval_loss  eval_Accuracy   eval_F1  eval_Precision  eval_Recall\n",
       "train   0.073348       0.972263  0.981240        0.986588     0.980843\n",
       "test    0.805604       0.834061  0.788751        0.801438     0.806388"
      ]
     },
     "execution_count": 34,
     "metadata": {},
     "output_type": "execute_result"
    }
   ],
   "source": [
    "q=[trainer.evaluate(eval_dataset=df2) for df2 in [train_dataloader, test_dataloader]]\n",
    "pd.DataFrame(q, index=[\"train\",\"test\"]).iloc[:,:5]"
   ]
  },
  {
   "cell_type": "markdown",
   "metadata": {},
   "source": [
    "Save model and tokenizer"
   ]
  },
  {
   "cell_type": "code",
   "execution_count": 35,
   "metadata": {},
   "outputs": [],
   "source": [
    "model_path = \"base\""
   ]
  },
  {
   "cell_type": "code",
   "execution_count": 36,
   "metadata": {},
   "outputs": [
    {
     "data": {
      "text/plain": [
       "('base/tokenizer_config.json',\n",
       " 'base/special_tokens_map.json',\n",
       " 'base/vocab.txt',\n",
       " 'base/added_tokens.json')"
      ]
     },
     "execution_count": 36,
     "metadata": {},
     "output_type": "execute_result"
    }
   ],
   "source": [
    "trainer.save_model(model_path)\n",
    "tokenizer.save_pretrained(model_path)"
   ]
  },
  {
   "cell_type": "markdown",
   "metadata": {},
   "source": [
    "Load model and tokenizer"
   ]
  },
  {
   "cell_type": "code",
   "execution_count": 42,
   "metadata": {},
   "outputs": [],
   "source": [
    "new_model = BertForSequenceClassification.from_pretrained(model_path)\n",
    "new_tokenizer= BertTokenizerFast.from_pretrained(model_path)"
   ]
  },
  {
   "cell_type": "code",
   "execution_count": 38,
   "metadata": {},
   "outputs": [],
   "source": [
    "pipe= pipeline(\"sentiment-analysis\", model=new_model, tokenizer=new_tokenizer, device='mps')"
   ]
  },
  {
   "cell_type": "code",
   "execution_count": 39,
   "metadata": {},
   "outputs": [
    {
     "data": {
      "text/plain": [
       "[{'label': 'greeting', 'score': 0.9863651990890503}]"
      ]
     },
     "execution_count": 39,
     "metadata": {},
     "output_type": "execute_result"
    }
   ],
   "source": [
    "pipe(\"Hello\")"
   ]
  },
  {
   "cell_type": "markdown",
   "metadata": {},
   "source": [
    "## Predict"
   ]
  },
  {
   "cell_type": "code",
   "execution_count": 43,
   "metadata": {},
   "outputs": [],
   "source": [
    "def predict(text):\n",
    "    # Tokenize the input text and convert it to PyTorch tensors\n",
    "    inputs = new_tokenizer(text, padding=True, truncation=True, max_length=512, return_tensors=\"pt\").to(\"cpu\")\n",
    "\n",
    "    # Pass the input tensors through the model\n",
    "    outputs = new_model(**inputs)\n",
    "\n",
    "    # Softmax the output to get probabilities\n",
    "    probs = outputs[0].softmax(1)\n",
    "\n",
    "    # Get the predicted label index\n",
    "    pred_label_idx = probs.argmax()\n",
    "\n",
    "    # Convert the predicted label index to the actual label using model configuration\n",
    "    pred_label = new_model.config.id2label[pred_label_idx.item()]\n",
    "\n",
    "    return pred_label\n"
   ]
  },
  {
   "cell_type": "code",
   "execution_count": 44,
   "metadata": {},
   "outputs": [
    {
     "name": "stdout",
     "output_type": "stream",
     "text": [
      "Intel MKL WARNING: Support of Intel(R) Streaming SIMD Extensions 4.2 (Intel(R) SSE4.2) enabled only processors has been deprecated. Intel oneAPI Math Kernel Library 2025.0 will require Intel(R) Advanced Vector Extensions (Intel(R) AVX) instructions.\n"
     ]
    },
    {
     "data": {
      "text/plain": [
       "'greeting'"
      ]
     },
     "execution_count": 44,
     "metadata": {},
     "output_type": "execute_result"
    }
   ],
   "source": [
    "text = \"Hello\"\n",
    "predict(text)"
   ]
  },
  {
   "cell_type": "code",
   "execution_count": 50,
   "metadata": {},
   "outputs": [],
   "source": [
    "def model_response(text):\n",
    "    response = ''\n",
    "    score = pipe(text)[0]['score']\n",
    "    tag = pipe(text)[0]['label']\n",
    "    if score < 0.8:\n",
    "        response += \"Don't understand\"\n",
    "    else:\n",
    "        label = new_model.config.label2id[pipe(text)[0]['label']]\n",
    "        response = random.choice(intents['intents'][label]['responses'])\n",
    "    return response, tag"
   ]
  },
  {
   "cell_type": "code",
   "execution_count": 56,
   "metadata": {},
   "outputs": [
    {
     "data": {
      "text/plain": [
       "(\"The college has excellent gym facilities with a large amount of training equipment, 'For more information please visit - 'https://www.mmcoe.edu.in/index.php/campus/gymnasium'\",\n",
       " 'Campus-Gymnasium')"
      ]
     },
     "execution_count": 56,
     "metadata": {},
     "output_type": "execute_result"
    }
   ],
   "source": [
    "model_response('have a gym')"
   ]
  }
 ],
 "metadata": {
  "kernelspec": {
   "display_name": "mconda38",
   "language": "python",
   "name": "python3"
  },
  "language_info": {
   "codemirror_mode": {
    "name": "ipython",
    "version": 3
   },
   "file_extension": ".py",
   "mimetype": "text/x-python",
   "name": "python",
   "nbconvert_exporter": "python",
   "pygments_lexer": "ipython3",
   "version": "3.8.19"
  }
 },
 "nbformat": 4,
 "nbformat_minor": 2
}
